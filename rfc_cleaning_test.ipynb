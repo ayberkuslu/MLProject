{
  "nbformat": 4,
  "nbformat_minor": 0,
  "metadata": {
    "kernelspec": {
      "display_name": "Python 3",
      "language": "python",
      "name": "python3"
    },
    "language_info": {
      "codemirror_mode": {
        "name": "ipython",
        "version": 3
      },
      "file_extension": ".py",
      "mimetype": "text/x-python",
      "name": "python",
      "nbconvert_exporter": "python",
      "pygments_lexer": "ipython3",
      "version": "3.6.5"
    },
    "colab": {
      "name": "rfc_cleaning.ipynb",
      "provenance": [],
      "toc_visible": true,
      "include_colab_link": true
    }
  },
  "cells": [
    {
      "cell_type": "markdown",
      "metadata": {
        "id": "view-in-github",
        "colab_type": "text"
      },
      "source": [
        "<a href=\"https://colab.research.google.com/github/ayberkuslu/MLProject/blob/master/rfc_cleaning_test.ipynb\" target=\"_parent\"><img src=\"https://colab.research.google.com/assets/colab-badge.svg\" alt=\"Open In Colab\"/></a>"
      ]
    },
    {
      "cell_type": "code",
      "metadata": {
        "id": "sGT_cKD7KyuS",
        "colab_type": "code",
        "colab": {
          "base_uri": "https://localhost:8080/",
          "height": 51
        },
        "outputId": "48052707-26c9-4d6a-a947-9e4e7e6d0d55"
      },
      "source": [
        "import pandas as pd\n",
        "import numpy as np\n",
        "import matplotlib.pyplot as plt\n",
        "import seaborn as sns\n",
        "from sklearn.preprocessing import MinMaxScaler\n"
      ],
      "execution_count": 1,
      "outputs": [
        {
          "output_type": "stream",
          "text": [
            "/usr/local/lib/python3.6/dist-packages/statsmodels/tools/_testing.py:19: FutureWarning: pandas.util.testing is deprecated. Use the functions in the public API at pandas.testing instead.\n",
            "  import pandas.util.testing as tm\n"
          ],
          "name": "stderr"
        }
      ]
    },
    {
      "cell_type": "markdown",
      "metadata": {
        "id": "JJwbUPQBX9zQ",
        "colab_type": "text"
      },
      "source": [
        "# New Section"
      ]
    },
    {
      "cell_type": "code",
      "metadata": {
        "id": "6V7qNkAPKyuY",
        "colab_type": "code",
        "colab": {}
      },
      "source": [
        "data=pd.read_csv('/content/test.csv')\n",
        "# data_values=pd.read_csv('/content/sample_data/labels.csv')\n",
        "# data = data_values.merge(data_labels, on='id')"
      ],
      "execution_count": 2,
      "outputs": []
    },
    {
      "cell_type": "markdown",
      "metadata": {
        "id": "KT0788njKyue",
        "colab_type": "text"
      },
      "source": [
        "##status_group-functional,non-functional or needs repair\n",
        "\n",
        "amount_tsh – Total static head (amount water available to waterpoint)\n",
        "\n",
        "date_recorded – The date the row was entered\n",
        "\n",
        "funder – Who funded the well\n",
        "\n",
        "gps_height – Altitude of the well\n",
        "\n",
        "installer – Organization that installed the well\n",
        "\n",
        "longitude – GPS coordinate\n",
        "\n",
        "latitude – GPS coordinate\n",
        "\n",
        "wpt_name – Name of the waterpoint if there is one\n",
        "\n",
        "num_private -No description\n",
        "\n",
        "basin – Geographic water basin\n",
        "\n",
        "subvillage – Geographic location\n",
        "\n",
        "region – Geographic location\n",
        "\n",
        "region_code – Geographic location (coded)\n",
        "\n",
        "district_code – Geographic location (coded)\n",
        "\n",
        "lga – Geographic location\n",
        "\n",
        "ward – Geographic location\n",
        "\n",
        "population – Population around the well\n",
        "\n",
        "public_meeting – True/False\n",
        "\n",
        "recorded_by – Group entering this row of data\n",
        "\n",
        "scheme_management – Who operates the water point\n",
        "\n",
        "scheme_name – Who operates the water point\n",
        "\n",
        "permit – If the water point is permitted\n",
        "\n",
        "construction_year – Year the water point was constructed\n",
        "\n",
        "extraction_type – The kind of extraction the water point uses\n",
        "\n",
        "extraction_type_group – The kind of extraction the water point uses\n",
        "\n",
        "extraction_type_class – The kind of extraction the water point uses\n",
        "\n",
        "management – How the water point is managed\n",
        "\n",
        "management_group – How the water point is managed\n",
        "\n",
        "payment – What the water costs\n",
        "\n",
        "payment_type – What the water costs\n",
        "\n",
        "water_quality – The quality of the water\n",
        "\n",
        "quality_group – The quality of the water\n",
        "\n",
        "quantity – The quantity of water\n",
        "\n",
        "quantity_group – The quantity of water\n",
        "\n",
        "source – The source of the water\n",
        "\n",
        "source_type – The source of the water\n",
        "\n",
        "source_class – The source of the water\n",
        "\n",
        "waterpoint_type – The kind of waterpoint\n",
        "\n",
        "waterpoint_type_group – The kind of waterpoint"
      ]
    },
    {
      "cell_type": "code",
      "metadata": {
        "id": "HQofOhZ8Kyuf",
        "colab_type": "code",
        "colab": {
          "base_uri": "https://localhost:8080/",
          "height": 714
        },
        "outputId": "b35419da-869e-4704-ee73-385d66e1421b"
      },
      "source": [
        "data.isnull().sum()\n",
        "data.population.min()\n",
        "data['gps_height'].replace(0.0, np.nan, inplace=True)\n",
        "data['population'].replace(0.0, np.nan, inplace=True)\n",
        "data['amount_tsh'].replace(0.0, np.nan, inplace=True)\n",
        "data.isnull().sum()"
      ],
      "execution_count": 3,
      "outputs": [
        {
          "output_type": "execute_result",
          "data": {
            "text/plain": [
              "id                          0\n",
              "amount_tsh               8714\n",
              "date_recorded               0\n",
              "funder                    718\n",
              "gps_height                  0\n",
              "installer                 723\n",
              "longitude                   0\n",
              "latitude                    0\n",
              "wpt_name                    0\n",
              "num_private                 0\n",
              "basin                       0\n",
              "subvillage                 84\n",
              "region                      0\n",
              "region_code                 0\n",
              "district_code               0\n",
              "lga                         0\n",
              "ward                        0\n",
              "population                  0\n",
              "public_meeting            692\n",
              "recorded_by                 0\n",
              "scheme_management         800\n",
              "scheme_name              5888\n",
              "permit                    614\n",
              "construction_year           0\n",
              "extraction_type             0\n",
              "extraction_type_group       0\n",
              "extraction_type_class       0\n",
              "management                  0\n",
              "management_group            0\n",
              "payment                     0\n",
              "payment_type                0\n",
              "water_quality               0\n",
              "quality_group               0\n",
              "quantity                    0\n",
              "quantity_group              0\n",
              "source                      0\n",
              "source_type                 0\n",
              "source_class                0\n",
              "waterpoint_type             0\n",
              "waterpoint_type_group       0\n",
              "dtype: int64"
            ]
          },
          "metadata": {
            "tags": []
          },
          "execution_count": 3
        }
      ]
    },
    {
      "cell_type": "code",
      "metadata": {
        "id": "kWojWSsZKyul",
        "colab_type": "code",
        "colab": {
          "base_uri": "https://localhost:8080/",
          "height": 748
        },
        "outputId": "7a95c8d9-09d7-4460-b534-06b8a240e949"
      },
      "source": [
        "data.groupby(['region','permit']).size() "
      ],
      "execution_count": 4,
      "outputs": [
        {
          "output_type": "execute_result",
          "data": {
            "text/plain": [
              "region         permit\n",
              "Arusha         False      50\n",
              "               True      507\n",
              "Dar es Salaam  False     180\n",
              "Dodoma         False     265\n",
              "               True      224\n",
              "Iringa         False     416\n",
              "               True      677\n",
              "Kagera         False     183\n",
              "               True      534\n",
              "Kigoma         False     253\n",
              "               True      334\n",
              "Kilimanjaro    False      91\n",
              "               True      823\n",
              "Lindi          False     145\n",
              "               True      176\n",
              "Manyara        False      23\n",
              "               True      302\n",
              "Mara           False     111\n",
              "               True      208\n",
              "Mbeya          False     283\n",
              "               True      414\n",
              "Morogoro       False       9\n",
              "               True      844\n",
              "Mtwara         False      74\n",
              "               True      273\n",
              "Mwanza         False      29\n",
              "               True      631\n",
              "Pwani          False     237\n",
              "               True      342\n",
              "Rukwa          False     131\n",
              "               True      243\n",
              "Ruvuma         False     165\n",
              "               True      375\n",
              "Shinyanga      False     568\n",
              "               True      519\n",
              "Singida        False      56\n",
              "               True      160\n",
              "Tabora         False     148\n",
              "               True      284\n",
              "Tanga          False     228\n",
              "               True      287\n",
              "dtype: int64"
            ]
          },
          "metadata": {
            "tags": []
          },
          "execution_count": 4
        }
      ]
    },
    {
      "cell_type": "code",
      "metadata": {
        "id": "Jl3-XSlsKyus",
        "colab_type": "code",
        "colab": {
          "base_uri": "https://localhost:8080/",
          "height": 714
        },
        "outputId": "8232ce70-24da-4058-c756-2d206d44a5fa"
      },
      "source": [
        "data[\"gps_height\"].fillna(data.groupby(['region', 'district_code'])[\"gps_height\"].transform(\"mean\"), inplace=True)\n",
        "data[\"gps_height\"].fillna(data.groupby(['region'])[\"gps_height\"].transform(\"mean\"), inplace=True)\n",
        "data[\"gps_height\"].fillna(data[\"gps_height\"].mean(), inplace=True)\n",
        "data[\"population\"].fillna(data.groupby(['region', 'district_code'])[\"population\"].transform(\"median\"), inplace=True)\n",
        "data[\"population\"].fillna(data.groupby(['region'])[\"population\"].transform(\"median\"), inplace=True)\n",
        "data[\"population\"].fillna(data[\"population\"].median(), inplace=True)\n",
        "data[\"amount_tsh\"].fillna(data.groupby(['region', 'district_code'])[\"amount_tsh\"].transform(\"median\"), inplace=True)\n",
        "data[\"amount_tsh\"].fillna(data.groupby(['region'])[\"amount_tsh\"].transform(\"median\"), inplace=True)\n",
        "data[\"amount_tsh\"].fillna(data[\"amount_tsh\"].median(), inplace=True)\n",
        "data.isnull().sum()"
      ],
      "execution_count": 5,
      "outputs": [
        {
          "output_type": "execute_result",
          "data": {
            "text/plain": [
              "id                          0\n",
              "amount_tsh                  0\n",
              "date_recorded               0\n",
              "funder                    718\n",
              "gps_height                  0\n",
              "installer                 723\n",
              "longitude                   0\n",
              "latitude                    0\n",
              "wpt_name                    0\n",
              "num_private                 0\n",
              "basin                       0\n",
              "subvillage                 84\n",
              "region                      0\n",
              "region_code                 0\n",
              "district_code               0\n",
              "lga                         0\n",
              "ward                        0\n",
              "population                  0\n",
              "public_meeting            692\n",
              "recorded_by                 0\n",
              "scheme_management         800\n",
              "scheme_name              5888\n",
              "permit                    614\n",
              "construction_year           0\n",
              "extraction_type             0\n",
              "extraction_type_group       0\n",
              "extraction_type_class       0\n",
              "management                  0\n",
              "management_group            0\n",
              "payment                     0\n",
              "payment_type                0\n",
              "water_quality               0\n",
              "quality_group               0\n",
              "quantity                    0\n",
              "quantity_group              0\n",
              "source                      0\n",
              "source_type                 0\n",
              "source_class                0\n",
              "waterpoint_type             0\n",
              "waterpoint_type_group       0\n",
              "dtype: int64"
            ]
          },
          "metadata": {
            "tags": []
          },
          "execution_count": 5
        }
      ]
    },
    {
      "cell_type": "code",
      "metadata": {
        "id": "pvu98yMRKyuy",
        "colab_type": "code",
        "colab": {
          "base_uri": "https://localhost:8080/",
          "height": 51
        },
        "outputId": "9b3183e1-6646-456c-9895-3cacb03cce9d"
      },
      "source": [
        "print(data.latitude.max()-data.latitude.min())\n",
        "print(data.longitude.max()-data.longitude.min())"
      ],
      "execution_count": 6,
      "outputs": [
        {
          "output_type": "stream",
          "text": [
            "11.56459193\n",
            "40.32501564\n"
          ],
          "name": "stdout"
        }
      ]
    },
    {
      "cell_type": "code",
      "metadata": {
        "id": "LomyYzQAKyu4",
        "colab_type": "code",
        "colab": {
          "base_uri": "https://localhost:8080/",
          "height": 714
        },
        "outputId": "71541ad9-714b-4893-f7ac-8824d9306db4"
      },
      "source": [
        "features=['amount_tsh', 'gps_height', 'population']\n",
        "scaler = MinMaxScaler(feature_range=(0,20))\n",
        "data[features] = scaler.fit_transform(data[features])\n",
        "data[features].head(20)\n",
        "data.isnull().sum()"
      ],
      "execution_count": 7,
      "outputs": [
        {
          "output_type": "execute_result",
          "data": {
            "text/plain": [
              "id                          0\n",
              "amount_tsh                  0\n",
              "date_recorded               0\n",
              "funder                    718\n",
              "gps_height                  0\n",
              "installer                 723\n",
              "longitude                   0\n",
              "latitude                    0\n",
              "wpt_name                    0\n",
              "num_private                 0\n",
              "basin                       0\n",
              "subvillage                 84\n",
              "region                      0\n",
              "region_code                 0\n",
              "district_code               0\n",
              "lga                         0\n",
              "ward                        0\n",
              "population                  0\n",
              "public_meeting            692\n",
              "recorded_by                 0\n",
              "scheme_management         800\n",
              "scheme_name              5888\n",
              "permit                    614\n",
              "construction_year           0\n",
              "extraction_type             0\n",
              "extraction_type_group       0\n",
              "extraction_type_class       0\n",
              "management                  0\n",
              "management_group            0\n",
              "payment                     0\n",
              "payment_type                0\n",
              "water_quality               0\n",
              "quality_group               0\n",
              "quantity                    0\n",
              "quantity_group              0\n",
              "source                      0\n",
              "source_type                 0\n",
              "source_class                0\n",
              "waterpoint_type             0\n",
              "waterpoint_type_group       0\n",
              "dtype: int64"
            ]
          },
          "metadata": {
            "tags": []
          },
          "execution_count": 7
        }
      ]
    },
    {
      "cell_type": "code",
      "metadata": {
        "id": "m-ut32ZGKyu-",
        "colab_type": "code",
        "colab": {}
      },
      "source": [
        ""
      ],
      "execution_count": null,
      "outputs": []
    },
    {
      "cell_type": "code",
      "metadata": {
        "id": "JasNT785KyvD",
        "colab_type": "code",
        "colab": {
          "base_uri": "https://localhost:8080/",
          "height": 333
        },
        "outputId": "f1b38e9c-7a1a-417d-852e-17a09c1d5052"
      },
      "source": [
        "\"\"\"\n",
        "plt.figure(figsize=(13,6))\n",
        "sns.countplot(data.status_group, palette = 'Set3')\n",
        "data.status_group.value_counts()\n",
        "\"\"\""
      ],
      "execution_count": 8,
      "outputs": [
        {
          "output_type": "error",
          "ename": "AttributeError",
          "evalue": "ignored",
          "traceback": [
            "\u001b[0;31m---------------------------------------------------------------------------\u001b[0m",
            "\u001b[0;31mAttributeError\u001b[0m                            Traceback (most recent call last)",
            "\u001b[0;32m<ipython-input-8-52af6fdcbca6>\u001b[0m in \u001b[0;36m<module>\u001b[0;34m()\u001b[0m\n\u001b[1;32m      1\u001b[0m \u001b[0mplt\u001b[0m\u001b[0;34m.\u001b[0m\u001b[0mfigure\u001b[0m\u001b[0;34m(\u001b[0m\u001b[0mfigsize\u001b[0m\u001b[0;34m=\u001b[0m\u001b[0;34m(\u001b[0m\u001b[0;36m13\u001b[0m\u001b[0;34m,\u001b[0m\u001b[0;36m6\u001b[0m\u001b[0;34m)\u001b[0m\u001b[0;34m)\u001b[0m\u001b[0;34m\u001b[0m\u001b[0;34m\u001b[0m\u001b[0m\n\u001b[0;32m----> 2\u001b[0;31m \u001b[0msns\u001b[0m\u001b[0;34m.\u001b[0m\u001b[0mcountplot\u001b[0m\u001b[0;34m(\u001b[0m\u001b[0mdata\u001b[0m\u001b[0;34m.\u001b[0m\u001b[0mstatus_group\u001b[0m\u001b[0;34m,\u001b[0m \u001b[0mpalette\u001b[0m \u001b[0;34m=\u001b[0m \u001b[0;34m'Set3'\u001b[0m\u001b[0;34m)\u001b[0m\u001b[0;34m\u001b[0m\u001b[0;34m\u001b[0m\u001b[0m\n\u001b[0m\u001b[1;32m      3\u001b[0m \u001b[0mdata\u001b[0m\u001b[0;34m.\u001b[0m\u001b[0mstatus_group\u001b[0m\u001b[0;34m.\u001b[0m\u001b[0mvalue_counts\u001b[0m\u001b[0;34m(\u001b[0m\u001b[0;34m)\u001b[0m\u001b[0;34m\u001b[0m\u001b[0;34m\u001b[0m\u001b[0m\n",
            "\u001b[0;32m/usr/local/lib/python3.6/dist-packages/pandas/core/generic.py\u001b[0m in \u001b[0;36m__getattr__\u001b[0;34m(self, name)\u001b[0m\n\u001b[1;32m   5272\u001b[0m             \u001b[0;32mif\u001b[0m \u001b[0mself\u001b[0m\u001b[0;34m.\u001b[0m\u001b[0m_info_axis\u001b[0m\u001b[0;34m.\u001b[0m\u001b[0m_can_hold_identifiers_and_holds_name\u001b[0m\u001b[0;34m(\u001b[0m\u001b[0mname\u001b[0m\u001b[0;34m)\u001b[0m\u001b[0;34m:\u001b[0m\u001b[0;34m\u001b[0m\u001b[0;34m\u001b[0m\u001b[0m\n\u001b[1;32m   5273\u001b[0m                 \u001b[0;32mreturn\u001b[0m \u001b[0mself\u001b[0m\u001b[0;34m[\u001b[0m\u001b[0mname\u001b[0m\u001b[0;34m]\u001b[0m\u001b[0;34m\u001b[0m\u001b[0;34m\u001b[0m\u001b[0m\n\u001b[0;32m-> 5274\u001b[0;31m             \u001b[0;32mreturn\u001b[0m \u001b[0mobject\u001b[0m\u001b[0;34m.\u001b[0m\u001b[0m__getattribute__\u001b[0m\u001b[0;34m(\u001b[0m\u001b[0mself\u001b[0m\u001b[0;34m,\u001b[0m \u001b[0mname\u001b[0m\u001b[0;34m)\u001b[0m\u001b[0;34m\u001b[0m\u001b[0;34m\u001b[0m\u001b[0m\n\u001b[0m\u001b[1;32m   5275\u001b[0m \u001b[0;34m\u001b[0m\u001b[0m\n\u001b[1;32m   5276\u001b[0m     \u001b[0;32mdef\u001b[0m \u001b[0m__setattr__\u001b[0m\u001b[0;34m(\u001b[0m\u001b[0mself\u001b[0m\u001b[0;34m,\u001b[0m \u001b[0mname\u001b[0m\u001b[0;34m:\u001b[0m \u001b[0mstr\u001b[0m\u001b[0;34m,\u001b[0m \u001b[0mvalue\u001b[0m\u001b[0;34m)\u001b[0m \u001b[0;34m->\u001b[0m \u001b[0;32mNone\u001b[0m\u001b[0;34m:\u001b[0m\u001b[0;34m\u001b[0m\u001b[0;34m\u001b[0m\u001b[0m\n",
            "\u001b[0;31mAttributeError\u001b[0m: 'DataFrame' object has no attribute 'status_group'"
          ]
        },
        {
          "output_type": "display_data",
          "data": {
            "text/plain": [
              "<Figure size 936x432 with 0 Axes>"
            ]
          },
          "metadata": {
            "tags": []
          }
        }
      ]
    },
    {
      "cell_type": "code",
      "metadata": {
        "id": "6p1GN0lxKyvI",
        "colab_type": "code",
        "colab": {
          "base_uri": "https://localhost:8080/",
          "height": 544
        },
        "outputId": "3915c553-ad28-49f3-a96e-b6deb2725655"
      },
      "source": [
        "\"\"\"\n",
        "plt.figure(figsize=(14,6))\n",
        "sns.countplot(data=data,x='water_quality',hue='status_group')\n",
        "plt.legend(bbox_to_anchor=(1.05, 1), loc=2, borderaxespad=0.)\n",
        "data.water_quality.value_counts()\n",
        "\"\"\""
      ],
      "execution_count": null,
      "outputs": [
        {
          "output_type": "execute_result",
          "data": {
            "text/plain": [
              "soft                  50818\n",
              "salty                  4856\n",
              "unknown                1876\n",
              "milky                   804\n",
              "coloured                490\n",
              "salty abandoned         339\n",
              "fluoride                200\n",
              "fluoride abandoned       17\n",
              "Name: water_quality, dtype: int64"
            ]
          },
          "metadata": {
            "tags": []
          },
          "execution_count": 9
        },
        {
          "output_type": "display_data",
          "data": {
            "image/png": "[encoded data removed]",
            "text/plain": [
              "<Figure size 1008x432 with 1 Axes>"
            ]
          },
          "metadata": {
            "tags": [],
            "needs_background": "light"
          }
        }
      ]
    },
    {
      "cell_type": "code",
      "metadata": {
        "id": "GB_0aS7pKyvM",
        "colab_type": "code",
        "colab": {
          "base_uri": "https://localhost:8080/",
          "height": 568
        },
        "outputId": "88be4e30-6818-4bb0-c56a-fd635bae3aa1"
      },
      "source": [
        "#looking at regions\n",
        "\"\"\"\n",
        "plt.figure(figsize=(24, 9))\n",
        "\n",
        "sns.countplot(data=data,x='region',hue='status_group')\n",
        "\"\"\""
      ],
      "execution_count": null,
      "outputs": [
        {
          "output_type": "execute_result",
          "data": {
            "text/plain": [
              "<matplotlib.axes._subplots.AxesSubplot at 0x7f23fdeb59e8>"
            ]
          },
          "metadata": {
            "tags": []
          },
          "execution_count": 10
        },
        {
          "output_type": "display_data",
          "data": {
            "image/png": "[encoded data removed]",
            "text/plain": [
              "<Figure size 1728x648 with 1 Axes>"
            ]
          },
          "metadata": {
            "tags": [],
            "needs_background": "light"
          }
        }
      ]
    },
    {
      "cell_type": "code",
      "metadata": {
        "id": "G69J9tNRKyvV",
        "colab_type": "code",
        "colab": {
          "base_uri": "https://localhost:8080/",
          "height": 569
        },
        "outputId": "2c935d5b-1e5e-4fcb-cbcf-4d4a8d060aa4"
      },
      "source": [
        "\"\"\"\"\n",
        "plt.figure(figsize=(24, 9))\n",
        "\n",
        "sns.countplot(data=data,x='public_meeting',hue='status_group')\n",
        "\"\"\""
      ],
      "execution_count": null,
      "outputs": [
        {
          "output_type": "execute_result",
          "data": {
            "text/plain": [
              "<matplotlib.axes._subplots.AxesSubplot at 0x7f23f162a780>"
            ]
          },
          "metadata": {
            "tags": []
          },
          "execution_count": 11
        },
        {
          "output_type": "display_data",
          "data": {
            "image/png": "[encoded data removed]",
            "text/plain": [
              "<Figure size 1728x648 with 1 Axes>"
            ]
          },
          "metadata": {
            "tags": [],
            "needs_background": "light"
          }
        }
      ]
    },
    {
      "cell_type": "code",
      "metadata": {
        "id": "HvSA-tqBKyvb",
        "colab_type": "code",
        "colab": {
          "base_uri": "https://localhost:8080/",
          "height": 1000
        },
        "outputId": "859ed6a6-1891-48e6-c31a-f4013cc8d0f4"
      },
      "source": [
        "\"\"\"\"(sns\n",
        "  .FacetGrid(data, \n",
        "             hue='status_group',size=14)\n",
        "  .map(sns.kdeplot, 'population', shade=True)\n",
        " .add_legend()\n",
        ")\n",
        "\"\"\"\"\n"
      ],
      "execution_count": null,
      "outputs": [
        {
          "output_type": "stream",
          "text": [
            "/usr/local/lib/python3.6/dist-packages/seaborn/axisgrid.py:243: UserWarning: The `size` parameter has been renamed to `height`; please update your code.\n",
            "  warnings.warn(msg, UserWarning)\n"
          ],
          "name": "stderr"
        },
        {
          "output_type": "execute_result",
          "data": {
            "text/plain": [
              "<seaborn.axisgrid.FacetGrid at 0x7f23f0ebe208>"
            ]
          },
          "metadata": {
            "tags": []
          },
          "execution_count": 12
        },
        {
          "output_type": "display_data",
          "data": {
            "image/png": "[encoded data removed]",
            "text/plain": [
              "<Figure size 1159.88x1008 with 1 Axes>"
            ]
          },
          "metadata": {
            "tags": [],
            "needs_background": "light"
          }
        }
      ]
    },
    {
      "cell_type": "code",
      "metadata": {
        "id": "zImPWvX4Kyvg",
        "colab_type": "code",
        "colab": {
          "base_uri": "https://localhost:8080/",
          "height": 780
        },
        "outputId": "51ff8ceb-23b8-4d3a-a7b0-936ae0173f46"
      },
      "source": [
        "# (sns\n",
        "#   .FacetGrid(data, \n",
        "#              hue='status_group',size=10)\n",
        "#   .map(sns.kdeplot, 'construction_year', shade=True)\n",
        "#  .add_legend()\n",
        "# )"
      ],
      "execution_count": null,
      "outputs": [
        {
          "output_type": "stream",
          "text": [
            "/usr/local/lib/python3.6/dist-packages/seaborn/axisgrid.py:243: UserWarning: The `size` parameter has been renamed to `height`; please update your code.\n",
            "  warnings.warn(msg, UserWarning)\n"
          ],
          "name": "stderr"
        },
        {
          "output_type": "execute_result",
          "data": {
            "text/plain": [
              "<seaborn.axisgrid.FacetGrid at 0x7f23ee231dd8>"
            ]
          },
          "metadata": {
            "tags": []
          },
          "execution_count": 13
        },
        {
          "output_type": "display_data",
          "data": {
            "image/png": "[encoded data removed]",
            "text/plain": [
              "<Figure size 871.875x720 with 1 Axes>"
            ]
          },
          "metadata": {
            "tags": [],
            "needs_background": "light"
          }
        }
      ]
    },
    {
      "cell_type": "code",
      "metadata": {
        "id": "Vs2G3BPpKyvk",
        "colab_type": "code",
        "colab": {
          "base_uri": "https://localhost:8080/",
          "height": 780
        },
        "outputId": "0209cb03-813d-43e7-9378-ebd7bf2ed64c"
      },
      "source": [
        "# (sns\n",
        "#   .FacetGrid(data, \n",
        "#              hue='status_group',size=10)\n",
        "#   .map(sns.kdeplot, 'gps_height', shade=True)\n",
        "#  .add_legend()\n",
        "# )"
      ],
      "execution_count": null,
      "outputs": [
        {
          "output_type": "stream",
          "text": [
            "/usr/local/lib/python3.6/dist-packages/seaborn/axisgrid.py:243: UserWarning: The `size` parameter has been renamed to `height`; please update your code.\n",
            "  warnings.warn(msg, UserWarning)\n"
          ],
          "name": "stderr"
        },
        {
          "output_type": "execute_result",
          "data": {
            "text/plain": [
              "<seaborn.axisgrid.FacetGrid at 0x7f23ee3e3978>"
            ]
          },
          "metadata": {
            "tags": []
          },
          "execution_count": 14
        },
        {
          "output_type": "display_data",
          "data": {
            "image/png": "[encoded data removed]",
            "text/plain": [
              "<Figure size 871.875x720 with 1 Axes>"
            ]
          },
          "metadata": {
            "tags": [],
            "needs_background": "light"
          }
        }
      ]
    },
    {
      "cell_type": "code",
      "metadata": {
        "id": "DW4GSHSMKyvo",
        "colab_type": "code",
        "colab": {
          "base_uri": "https://localhost:8080/",
          "height": 780
        },
        "outputId": "eda33c7f-4f82-4764-8642-63a97061141d"
      },
      "source": [
        "# (sns\n",
        "#   .FacetGrid(data, \n",
        "#              hue='status_group',size=10)\n",
        "#   .map(sns.kdeplot, 'latitude', shade=True)\n",
        "#  .add_legend()\n",
        "# )"
      ],
      "execution_count": null,
      "outputs": [
        {
          "output_type": "stream",
          "text": [
            "/usr/local/lib/python3.6/dist-packages/seaborn/axisgrid.py:243: UserWarning: The `size` parameter has been renamed to `height`; please update your code.\n",
            "  warnings.warn(msg, UserWarning)\n"
          ],
          "name": "stderr"
        },
        {
          "output_type": "execute_result",
          "data": {
            "text/plain": [
              "<seaborn.axisgrid.FacetGrid at 0x7f23ee3e3c88>"
            ]
          },
          "metadata": {
            "tags": []
          },
          "execution_count": 15
        },
        {
          "output_type": "display_data",
          "data": {
            "image/png": "[encoded data removed]",
            "text/plain": [
              "<Figure size 871.875x720 with 1 Axes>"
            ]
          },
          "metadata": {
            "tags": [],
            "needs_background": "light"
          }
        }
      ]
    },
    {
      "cell_type": "code",
      "metadata": {
        "id": "yXNrCVCxKyvu",
        "colab_type": "code",
        "colab": {}
      },
      "source": [
        "# (sns\n",
        "#   .FacetGrid(data, \n",
        "#              hue='status_group',size=10)\n",
        "#   .map(sns.kdeplot, 'longitude', shade=True)\n",
        "#  .add_legend()\n",
        "# )"
      ],
      "execution_count": null,
      "outputs": []
    },
    {
      "cell_type": "code",
      "metadata": {
        "id": "oKavqFHjKyvy",
        "colab_type": "code",
        "colab": {}
      },
      "source": [
        "# (sns\n",
        "#   .FacetGrid(data, \n",
        "#              hue='status_group',size=15)\n",
        "#   .map(sns.kdeplot, 'amount_tsh', shade=True)\n",
        "#  .add_legend()\n",
        "# )"
      ],
      "execution_count": null,
      "outputs": []
    },
    {
      "cell_type": "code",
      "metadata": {
        "id": "rOSR_LEfKyv6",
        "colab_type": "code",
        "colab": {}
      },
      "source": [
        "# plt.figure(figsize=(24, 9))\n",
        "\n",
        "# sns.countplot(data=data,x='source_type',hue='status_group')"
      ],
      "execution_count": null,
      "outputs": []
    },
    {
      "cell_type": "code",
      "metadata": {
        "id": "YCOIyIuwKyv_",
        "colab_type": "code",
        "colab": {}
      },
      "source": [
        "# plt.figure(figsize=(24, 9))\n",
        "\n",
        "# sns.countplot(data=data,x='extraction_type_group',hue='status_group')"
      ],
      "execution_count": null,
      "outputs": []
    },
    {
      "cell_type": "code",
      "metadata": {
        "id": "WwxyxYobKywD",
        "colab_type": "code",
        "colab": {}
      },
      "source": [
        "# plt.figure(figsize=(24, 9))\n",
        "\n",
        "# sns.countplot(data=data,x='extraction_type_class',hue='status_group')"
      ],
      "execution_count": null,
      "outputs": []
    },
    {
      "cell_type": "code",
      "metadata": {
        "id": "p0YkFadPKywH",
        "colab_type": "code",
        "colab": {}
      },
      "source": [
        "# plt.figure(figsize=(24, 9))\n",
        "\n",
        "# sns.countplot(data=data,x='waterpoint_type',hue='status_group')"
      ],
      "execution_count": null,
      "outputs": []
    },
    {
      "cell_type": "code",
      "metadata": {
        "id": "YP9oc6VzKywN",
        "colab_type": "code",
        "colab": {}
      },
      "source": [
        "# plt.figure(figsize=(24, 9))\n",
        "\n",
        "# sns.countplot(data=data,x='quantity',hue='status_group')"
      ],
      "execution_count": null,
      "outputs": []
    },
    {
      "cell_type": "code",
      "metadata": {
        "id": "E_8VGlfhKywQ",
        "colab_type": "code",
        "colab": {}
      },
      "source": [
        "data['longitude'].replace(0.0, np.nan, inplace=True)\n",
        "data['latitude'].replace(0.0, np.nan, inplace=True)\n",
        "data['construction_year'].replace(0.0, np.nan, inplace=True)"
      ],
      "execution_count": 9,
      "outputs": []
    },
    {
      "cell_type": "code",
      "metadata": {
        "id": "KCj4sql4KywV",
        "colab_type": "code",
        "colab": {
          "base_uri": "https://localhost:8080/",
          "height": 238
        },
        "outputId": "a871b512-c589-4937-8c7f-17d25ddc9631"
      },
      "source": [
        "data.groupby(['district_code', 'region','construction_year']).size() "
      ],
      "execution_count": 10,
      "outputs": [
        {
          "output_type": "execute_result",
          "data": {
            "text/plain": [
              "district_code  region     construction_year\n",
              "0              Dodoma     0                     3\n",
              "1              Arusha     0                     1\n",
              "                          1990                  5\n",
              "                          2000                 20\n",
              "                          2010                  3\n",
              "                                               ..\n",
              "63             Mtwara     2011                  2\n",
              "                          2012                  5\n",
              "               Pwani      0                    13\n",
              "67             Pwani      0                     2\n",
              "80             Shinyanga  0                     1\n",
              "Length: 1698, dtype: int64"
            ]
          },
          "metadata": {
            "tags": []
          },
          "execution_count": 10
        }
      ]
    },
    {
      "cell_type": "code",
      "metadata": {
        "id": "c3InFOQeKywb",
        "colab_type": "code",
        "colab": {
          "base_uri": "https://localhost:8080/",
          "height": 714
        },
        "outputId": "82878645-98c1-4839-cfdc-77358084a338"
      },
      "source": [
        "data[\"latitude\"].fillna(data.groupby(['region', 'district_code'])[\"latitude\"].transform(\"mean\"), inplace=True)\n",
        "data[\"longitude\"].fillna(data.groupby(['region', 'district_code'])[\"longitude\"].transform(\"mean\"), inplace=True)\n",
        "data[\"longitude\"].fillna(data.groupby(['region'])[\"longitude\"].transform(\"mean\"), inplace=True)\n",
        "data[\"construction_year\"].fillna(data.groupby(['region', 'district_code'])[\"construction_year\"].transform(\"median\"), inplace=True)\n",
        "data[\"construction_year\"].fillna(data.groupby(['region'])[\"construction_year\"].transform(\"median\"), inplace=True)\n",
        "data[\"construction_year\"].fillna(data.groupby(['district_code'])[\"construction_year\"].transform(\"median\"), inplace=True)\n",
        "data[\"construction_year\"].fillna(data[\"construction_year\"].median(), inplace=True)\n",
        "print(data.isnull().sum())"
      ],
      "execution_count": 11,
      "outputs": [
        {
          "output_type": "stream",
          "text": [
            "id                          0\n",
            "amount_tsh                  0\n",
            "date_recorded               0\n",
            "funder                    718\n",
            "gps_height                  0\n",
            "installer                 723\n",
            "longitude                   0\n",
            "latitude                    0\n",
            "wpt_name                    0\n",
            "num_private                 0\n",
            "basin                       0\n",
            "subvillage                 84\n",
            "region                      0\n",
            "region_code                 0\n",
            "district_code               0\n",
            "lga                         0\n",
            "ward                        0\n",
            "population                  0\n",
            "public_meeting            692\n",
            "recorded_by                 0\n",
            "scheme_management         800\n",
            "scheme_name              5888\n",
            "permit                    614\n",
            "construction_year           0\n",
            "extraction_type             0\n",
            "extraction_type_group       0\n",
            "extraction_type_class       0\n",
            "management                  0\n",
            "management_group            0\n",
            "payment                     0\n",
            "payment_type                0\n",
            "water_quality               0\n",
            "quality_group               0\n",
            "quantity                    0\n",
            "quantity_group              0\n",
            "source                      0\n",
            "source_type                 0\n",
            "source_class                0\n",
            "waterpoint_type             0\n",
            "waterpoint_type_group       0\n",
            "dtype: int64\n"
          ],
          "name": "stdout"
        }
      ]
    },
    {
      "cell_type": "code",
      "metadata": {
        "id": "UOKbCM97Kywh",
        "colab_type": "code",
        "colab": {
          "base_uri": "https://localhost:8080/",
          "height": 221
        },
        "outputId": "88c24199-7cae-453b-d6e9-b719a3fcd3e7"
      },
      "source": [
        "#if water point is old, it is highly likely to be non functional or needs repair.\n",
        "#New features were created namely number of days and number of months water point is operational.\n",
        "print(data.date_recorded.head(5))\n",
        "print(data.construction_year.head(5))\n"
      ],
      "execution_count": 12,
      "outputs": [
        {
          "output_type": "stream",
          "text": [
            "0    2013-02-04\n",
            "1    2013-02-04\n",
            "2    2013-02-01\n",
            "3    2013-01-22\n",
            "4    2013-03-27\n",
            "Name: date_recorded, dtype: object\n",
            "0    2012\n",
            "1    2000\n",
            "2    2010\n",
            "3    1987\n",
            "4    2000\n",
            "Name: construction_year, dtype: int64\n"
          ],
          "name": "stdout"
        }
      ]
    },
    {
      "cell_type": "code",
      "metadata": {
        "id": "v_t4gDkqKywm",
        "colab_type": "code",
        "colab": {
          "base_uri": "https://localhost:8080/",
          "height": 323
        },
        "outputId": "ee7692cd-ce26-4bb5-b26a-4b517d960549"
      },
      "source": [
        "data.isnull().sum()\n",
        "data['date_recorded'] = pd.to_datetime(data['date_recorded'])\n",
        "data.date_recorded.head(5)\n",
        "print(data.date_recorded.dt.year.head(5))\n",
        "print(data.construction_year.head(5))\n",
        "data['operational_year'] = data.date_recorded.dt.year - data.construction_year\n",
        "data.operational_year.head(5)"
      ],
      "execution_count": 13,
      "outputs": [
        {
          "output_type": "stream",
          "text": [
            "0    2013\n",
            "1    2013\n",
            "2    2013\n",
            "3    2013\n",
            "4    2013\n",
            "Name: date_recorded, dtype: int64\n",
            "0    2012\n",
            "1    2000\n",
            "2    2010\n",
            "3    1987\n",
            "4    2000\n",
            "Name: construction_year, dtype: int64\n"
          ],
          "name": "stdout"
        },
        {
          "output_type": "execute_result",
          "data": {
            "text/plain": [
              "0     1\n",
              "1    13\n",
              "2     3\n",
              "3    26\n",
              "4    13\n",
              "Name: operational_year, dtype: int64"
            ]
          },
          "metadata": {
            "tags": []
          },
          "execution_count": 13
        }
      ]
    },
    {
      "cell_type": "code",
      "metadata": {
        "id": "8rjeHIbNKywq",
        "colab_type": "code",
        "colab": {}
      },
      "source": [
        ""
      ],
      "execution_count": null,
      "outputs": []
    },
    {
      "cell_type": "code",
      "metadata": {
        "id": "eSKvvO07Kywu",
        "colab_type": "code",
        "colab": {}
      },
      "source": [
        "# (sns\n",
        "#   .FacetGrid(data, \n",
        "#              hue='status_group',size=14)\n",
        "#   .map(sns.kdeplot, 'operational_year', shade=True)\n",
        "#  .add_legend()\n",
        "# )"
      ],
      "execution_count": null,
      "outputs": []
    },
    {
      "cell_type": "code",
      "metadata": {
        "id": "MLSA13ruKywz",
        "colab_type": "code",
        "colab": {}
      },
      "source": [
        "# plt.figure(figsize=(24, 9))\n",
        "# sns.countplot(data=data,x='payment_type',hue='status_group')"
      ],
      "execution_count": null,
      "outputs": []
    },
    {
      "cell_type": "code",
      "metadata": {
        "id": "UgI98KEZKyw2",
        "colab_type": "code",
        "colab": {
          "base_uri": "https://localhost:8080/",
          "height": 255
        },
        "outputId": "d6d43159-e7c6-46ee-ad99-40baf8706b05"
      },
      "source": [
        "#DATA Cleaning\n",
        "waste_features=['wpt_name','num_private','subvillage','region_code','recorded_by']\n",
        "#since region and region_code are representing the same thing\n",
        "data.drop(waste_features,axis=1,inplace=True)\n",
        "print(data.groupby(['management', 'management_group']).size() )\n",
        "data.drop('management_group',axis=1,inplace=True)"
      ],
      "execution_count": 14,
      "outputs": [
        {
          "output_type": "stream",
          "text": [
            "management        management_group\n",
            "company           commercial           157\n",
            "other             other                200\n",
            "other - school    other                 23\n",
            "parastatal        parastatal           390\n",
            "private operator  commercial           442\n",
            "trust             commercial            23\n",
            "unknown           unknown              101\n",
            "vwc               user-group          8452\n",
            "water authority   commercial           184\n",
            "water board       user-group           621\n",
            "wua               user-group           487\n",
            "wug               user-group          1336\n",
            "dtype: int64\n"
          ],
          "name": "stdout"
        }
      ]
    },
    {
      "cell_type": "code",
      "metadata": {
        "id": "M9mXzn3kKyw6",
        "colab_type": "code",
        "colab": {
          "base_uri": "https://localhost:8080/",
          "height": 340
        },
        "outputId": "15d1f556-2da2-4229-e70a-e7ca3d7cf103"
      },
      "source": [
        "print(data.groupby(['extraction_type_group','extraction_type_class','extraction_type']).size()   )   \n",
        "data.drop('extraction_type_group',axis=1,inplace=True)"
      ],
      "execution_count": 15,
      "outputs": [
        {
          "output_type": "stream",
          "text": [
            "extraction_type_group  extraction_type_class  extraction_type  \n",
            "afridev                handpump               afridev               372\n",
            "gravity                gravity                gravity              5432\n",
            "india mark ii          handpump               india mark ii         526\n",
            "india mark iii         handpump               india mark iii         32\n",
            "mono                   motorpump              mono                  656\n",
            "nira/tanira            handpump               nira/tanira          1696\n",
            "other                  other                  other                1383\n",
            "other handpump         handpump               other - play pump      12\n",
            "                                              other - swn 81         49\n",
            "                                              walimi                 11\n",
            "other motorpump        motorpump              cemo                   13\n",
            "                                              climax                  7\n",
            "rope pump              rope pump              other - rope pump      98\n",
            "submersible            submersible            ksb                   309\n",
            "                                              submersible          1027\n",
            "swn 80                 handpump               swn 80                764\n",
            "wind-powered           wind-powered           windmill               29\n",
            "dtype: int64\n"
          ],
          "name": "stdout"
        }
      ]
    },
    {
      "cell_type": "code",
      "metadata": {
        "id": "m59Qi2e_Kyw9",
        "colab_type": "code",
        "colab": {}
      },
      "source": [
        "data.drop('extraction_type_class',axis=1,inplace=True)"
      ],
      "execution_count": 16,
      "outputs": []
    },
    {
      "cell_type": "code",
      "metadata": {
        "id": "FMUk6CZGKyxC",
        "colab_type": "code",
        "colab": {
          "base_uri": "https://localhost:8080/",
          "height": 238
        },
        "outputId": "b9334d04-a6fc-4c4c-91d8-0778eb434459"
      },
      "source": [
        "data.groupby(['scheme_management', 'scheme_name']).size() "
      ],
      "execution_count": 17,
      "outputs": [
        {
          "output_type": "execute_result",
          "data": {
            "text/plain": [
              "scheme_management  scheme_name         \n",
              "Company            BSF water supplying      1\n",
              "                   Bagamoyo Wate           13\n",
              "                   Bagamoyo wate           49\n",
              "                   Bulamba piped scheme     1\n",
              "                   Doe water supply         1\n",
              "                                           ..\n",
              "Water authority    Water from DAWASCO      13\n",
              "                   World Bank              13\n",
              "                   Yongoma                  6\n",
              "                   Zepalama                 3\n",
              "                   no scheme                2\n",
              "Length: 1832, dtype: int64"
            ]
          },
          "metadata": {
            "tags": []
          },
          "execution_count": 17
        }
      ]
    },
    {
      "cell_type": "code",
      "metadata": {
        "id": "-ij3sKuiKyxF",
        "colab_type": "code",
        "colab": {}
      },
      "source": [
        "data.drop('scheme_name',axis=1,inplace=True)"
      ],
      "execution_count": 18,
      "outputs": []
    },
    {
      "cell_type": "code",
      "metadata": {
        "id": "1lMwHR1AKyxK",
        "colab_type": "code",
        "colab": {
          "base_uri": "https://localhost:8080/",
          "height": 170
        },
        "outputId": "46f34475-bacd-4a47-8abc-a91fc1c42e77"
      },
      "source": [
        "data.groupby(['payment', 'payment_type']).size() "
      ],
      "execution_count": 19,
      "outputs": [
        {
          "output_type": "execute_result",
          "data": {
            "text/plain": [
              "payment                payment_type\n",
              "never pay              never pay       5341\n",
              "other                  other            220\n",
              "pay annually           annually         763\n",
              "pay monthly            monthly         1755\n",
              "pay per bucket         per bucket      1919\n",
              "pay when scheme fails  on failure       755\n",
              "unknown                unknown         1663\n",
              "dtype: int64"
            ]
          },
          "metadata": {
            "tags": []
          },
          "execution_count": 19
        }
      ]
    },
    {
      "cell_type": "code",
      "metadata": {
        "id": "rUVKypGKKyxQ",
        "colab_type": "code",
        "colab": {}
      },
      "source": [
        "data.drop('payment',axis=1,inplace=True)"
      ],
      "execution_count": 20,
      "outputs": []
    },
    {
      "cell_type": "code",
      "metadata": {
        "id": "ixN6aMf0KyxV",
        "colab_type": "code",
        "colab": {
          "base_uri": "https://localhost:8080/",
          "height": 187
        },
        "outputId": "7ec6cbba-0a5e-495c-c0d4-202e83ea90d6"
      },
      "source": [
        "data.groupby(['water_quality', 'quality_group']).size() "
      ],
      "execution_count": 21,
      "outputs": [
        {
          "output_type": "execute_result",
          "data": {
            "text/plain": [
              "water_quality       quality_group\n",
              "coloured            colored            112\n",
              "fluoride            fluoride            34\n",
              "fluoride abandoned  fluoride             2\n",
              "milky               milky              168\n",
              "salty               salty             1033\n",
              "salty abandoned     salty               70\n",
              "soft                good             10601\n",
              "unknown             unknown            396\n",
              "dtype: int64"
            ]
          },
          "metadata": {
            "tags": []
          },
          "execution_count": 21
        }
      ]
    },
    {
      "cell_type": "code",
      "metadata": {
        "id": "FBLACs9eKyxb",
        "colab_type": "code",
        "colab": {}
      },
      "source": [
        "data.drop('quality_group',axis=1,inplace=True)"
      ],
      "execution_count": 22,
      "outputs": []
    },
    {
      "cell_type": "code",
      "metadata": {
        "id": "p58wEm_-Kyxk",
        "colab_type": "code",
        "colab": {
          "base_uri": "https://localhost:8080/",
          "height": 136
        },
        "outputId": "a38a6f45-ee12-4354-c304-0ba60a6c8b29"
      },
      "source": [
        "data.groupby(['quantity', 'quantity_group']).size() "
      ],
      "execution_count": 23,
      "outputs": [
        {
          "output_type": "execute_result",
          "data": {
            "text/plain": [
              "quantity      quantity_group\n",
              "dry           dry               1301\n",
              "enough        enough            6942\n",
              "insufficient  insufficient      3165\n",
              "seasonal      seasonal           841\n",
              "unknown       unknown            167\n",
              "dtype: int64"
            ]
          },
          "metadata": {
            "tags": []
          },
          "execution_count": 23
        }
      ]
    },
    {
      "cell_type": "code",
      "metadata": {
        "id": "b7sE8jYHKyxq",
        "colab_type": "code",
        "colab": {}
      },
      "source": [
        "data.drop('quantity_group',axis=1,inplace=True)"
      ],
      "execution_count": 24,
      "outputs": []
    },
    {
      "cell_type": "code",
      "metadata": {
        "id": "PucZ4C1QKyxy",
        "colab_type": "code",
        "colab": {
          "base_uri": "https://localhost:8080/",
          "height": 221
        },
        "outputId": "ca471654-0435-4f62-c4d8-6e927bd42970"
      },
      "source": [
        "data.groupby(['source', 'source_type', 'source_class']).size() "
      ],
      "execution_count": 25,
      "outputs": [
        {
          "output_type": "execute_result",
          "data": {
            "text/plain": [
              "source                source_type           source_class\n",
              "dam                   dam                   surface          148\n",
              "hand dtw              borehole              groundwater      201\n",
              "lake                  river/lake            surface          150\n",
              "machine dbh           borehole              groundwater     2340\n",
              "other                 other                 unknown           41\n",
              "rainwater harvesting  rainwater harvesting  surface          478\n",
              "river                 river/lake            surface         1961\n",
              "shallow well          shallow well          groundwater     3555\n",
              "spring                spring                groundwater     3522\n",
              "unknown               other                 unknown           20\n",
              "dtype: int64"
            ]
          },
          "metadata": {
            "tags": []
          },
          "execution_count": 25
        }
      ]
    },
    {
      "cell_type": "code",
      "metadata": {
        "id": "RSQrFXWaKyx2",
        "colab_type": "code",
        "colab": {}
      },
      "source": [
        "data.drop('source_type',axis=1,inplace=True)"
      ],
      "execution_count": 26,
      "outputs": []
    },
    {
      "cell_type": "code",
      "metadata": {
        "id": "TO-xPxGfKyx7",
        "colab_type": "code",
        "colab": {}
      },
      "source": [
        "data.drop('source_class',axis=1,inplace=True)"
      ],
      "execution_count": 27,
      "outputs": []
    },
    {
      "cell_type": "code",
      "metadata": {
        "id": "3T5KsYNeKyyA",
        "colab_type": "code",
        "colab": {
          "base_uri": "https://localhost:8080/",
          "height": 170
        },
        "outputId": "53f468f4-8df3-43b4-9fb6-07d5ba6aed7e"
      },
      "source": [
        "data.groupby(['waterpoint_type', 'waterpoint_type_group']).size() "
      ],
      "execution_count": 28,
      "outputs": [
        {
          "output_type": "execute_result",
          "data": {
            "text/plain": [
              "waterpoint_type              waterpoint_type_group\n",
              "cattle trough                cattle trough              29\n",
              "communal standpipe           communal standpipe       5968\n",
              "communal standpipe multiple  communal standpipe       1265\n",
              "dam                          dam                         1\n",
              "hand pump                    hand pump                3653\n",
              "improved spring              improved spring           136\n",
              "other                        other                    1364\n",
              "dtype: int64"
            ]
          },
          "metadata": {
            "tags": []
          },
          "execution_count": 28
        }
      ]
    },
    {
      "cell_type": "code",
      "metadata": {
        "id": "IvxgtXGOKyyD",
        "colab_type": "code",
        "colab": {}
      },
      "source": [
        "data.drop('waterpoint_type_group',axis=1,inplace=True)"
      ],
      "execution_count": 29,
      "outputs": []
    },
    {
      "cell_type": "code",
      "metadata": {
        "id": "T158YLv8KyyH",
        "colab_type": "code",
        "colab": {
          "base_uri": "https://localhost:8080/",
          "height": 578
        },
        "outputId": "b9702d7a-eaf9-4aa0-9fb9-f46350cdc8bc"
      },
      "source": [
        "data.info()"
      ],
      "execution_count": 30,
      "outputs": [
        {
          "output_type": "stream",
          "text": [
            "<class 'pandas.core.frame.DataFrame'>\n",
            "RangeIndex: 12416 entries, 0 to 12415\n",
            "Data columns (total 26 columns):\n",
            " #   Column             Non-Null Count  Dtype         \n",
            "---  ------             --------------  -----         \n",
            " 0   id                 12416 non-null  int64         \n",
            " 1   amount_tsh         12416 non-null  float64       \n",
            " 2   date_recorded      12416 non-null  datetime64[ns]\n",
            " 3   funder             11698 non-null  object        \n",
            " 4   gps_height         12416 non-null  float64       \n",
            " 5   installer          11693 non-null  object        \n",
            " 6   longitude          12416 non-null  float64       \n",
            " 7   latitude           12416 non-null  float64       \n",
            " 8   basin              12416 non-null  object        \n",
            " 9   region             12416 non-null  object        \n",
            " 10  district_code      12416 non-null  int64         \n",
            " 11  lga                12416 non-null  object        \n",
            " 12  ward               12416 non-null  object        \n",
            " 13  population         12416 non-null  float64       \n",
            " 14  public_meeting     11724 non-null  object        \n",
            " 15  scheme_management  11616 non-null  object        \n",
            " 16  permit             11802 non-null  object        \n",
            " 17  construction_year  12416 non-null  int64         \n",
            " 18  extraction_type    12416 non-null  object        \n",
            " 19  management         12416 non-null  object        \n",
            " 20  payment_type       12416 non-null  object        \n",
            " 21  water_quality      12416 non-null  object        \n",
            " 22  quantity           12416 non-null  object        \n",
            " 23  source             12416 non-null  object        \n",
            " 24  waterpoint_type    12416 non-null  object        \n",
            " 25  operational_year   12416 non-null  int64         \n",
            "dtypes: datetime64[ns](1), float64(5), int64(4), object(16)\n",
            "memory usage: 2.5+ MB\n"
          ],
          "name": "stdout"
        }
      ]
    },
    {
      "cell_type": "code",
      "metadata": {
        "id": "vg0hhLwvKyyK",
        "colab_type": "code",
        "colab": {
          "base_uri": "https://localhost:8080/",
          "height": 238
        },
        "outputId": "10448bde-d6d9-4228-f143-746b887ee1c6"
      },
      "source": [
        "# print(data.groupby(['lga', 'ward','status_group']).size() )\n",
        "# #print(data.groupby(['lga', 'ward']).size() )"
      ],
      "execution_count": null,
      "outputs": [
        {
          "output_type": "stream",
          "text": [
            "lga           ward     status_group           \n",
            "Arusha Rural  Bangata  functional                 21\n",
            "                       functional needs repair     2\n",
            "                       non functional             10\n",
            "              Bwawani  functional                 12\n",
            "                       non functional             25\n",
            "                                                  ..\n",
            "Uyui          Ufuluma  non functional             10\n",
            "              Upuge    functional                  7\n",
            "                       non functional             11\n",
            "              Usagali  functional                  8\n",
            "                       non functional             17\n",
            "Length: 5070, dtype: int64\n"
          ],
          "name": "stdout"
        }
      ]
    },
    {
      "cell_type": "code",
      "metadata": {
        "id": "6czkoJiEKyyN",
        "colab_type": "code",
        "colab": {}
      },
      "source": [
        "data.drop('ward',axis=1,inplace=True)"
      ],
      "execution_count": 31,
      "outputs": []
    },
    {
      "cell_type": "code",
      "metadata": {
        "id": "xl9TnXQFKyyQ",
        "colab_type": "code",
        "colab": {
          "base_uri": "https://localhost:8080/",
          "height": 561
        },
        "outputId": "f8c87672-5910-43bb-d961-78457de1cb2a"
      },
      "source": [
        "data.info()"
      ],
      "execution_count": 32,
      "outputs": [
        {
          "output_type": "stream",
          "text": [
            "<class 'pandas.core.frame.DataFrame'>\n",
            "RangeIndex: 12416 entries, 0 to 12415\n",
            "Data columns (total 25 columns):\n",
            " #   Column             Non-Null Count  Dtype         \n",
            "---  ------             --------------  -----         \n",
            " 0   id                 12416 non-null  int64         \n",
            " 1   amount_tsh         12416 non-null  float64       \n",
            " 2   date_recorded      12416 non-null  datetime64[ns]\n",
            " 3   funder             11698 non-null  object        \n",
            " 4   gps_height         12416 non-null  float64       \n",
            " 5   installer          11693 non-null  object        \n",
            " 6   longitude          12416 non-null  float64       \n",
            " 7   latitude           12416 non-null  float64       \n",
            " 8   basin              12416 non-null  object        \n",
            " 9   region             12416 non-null  object        \n",
            " 10  district_code      12416 non-null  int64         \n",
            " 11  lga                12416 non-null  object        \n",
            " 12  population         12416 non-null  float64       \n",
            " 13  public_meeting     11724 non-null  object        \n",
            " 14  scheme_management  11616 non-null  object        \n",
            " 15  permit             11802 non-null  object        \n",
            " 16  construction_year  12416 non-null  int64         \n",
            " 17  extraction_type    12416 non-null  object        \n",
            " 18  management         12416 non-null  object        \n",
            " 19  payment_type       12416 non-null  object        \n",
            " 20  water_quality      12416 non-null  object        \n",
            " 21  quantity           12416 non-null  object        \n",
            " 22  source             12416 non-null  object        \n",
            " 23  waterpoint_type    12416 non-null  object        \n",
            " 24  operational_year   12416 non-null  int64         \n",
            "dtypes: datetime64[ns](1), float64(5), int64(4), object(15)\n",
            "memory usage: 2.4+ MB\n"
          ],
          "name": "stdout"
        }
      ]
    },
    {
      "cell_type": "code",
      "metadata": {
        "id": "WQmwL7hiKyyT",
        "colab_type": "code",
        "colab": {
          "base_uri": "https://localhost:8080/",
          "height": 238
        },
        "outputId": "52d0a2fe-8825-422d-97d0-4b39bcad24cf"
      },
      "source": [
        "# data.groupby(['installer', 'funder','status_group']).size() "
      ],
      "execution_count": null,
      "outputs": [
        {
          "output_type": "execute_result",
          "data": {
            "text/plain": [
              "installer       funder                  status_group           \n",
              "-               Government Of Tanzania  functional                   1\n",
              "                                        non functional               1\n",
              "                Kalebejo Parish         functional                   1\n",
              "0               0                       functional                 445\n",
              "                                        functional needs repair      3\n",
              "                                                                  ... \n",
              "wizara ya maji  Serikali                functional                   2\n",
              "world           World Bank              functional needs repair      1\n",
              "                                        non functional               3\n",
              "world banks     World Bank              non functional               1\n",
              "world vision    World Vision            functional                   1\n",
              "Length: 5188, dtype: int64"
            ]
          },
          "metadata": {
            "tags": []
          },
          "execution_count": 50
        }
      ]
    },
    {
      "cell_type": "code",
      "metadata": {
        "id": "z5RcR3g4KyyY",
        "colab_type": "code",
        "colab": {}
      },
      "source": [
        "# data.drop('installer',axis=1,inplace=True)\n",
        "# INSTALLER STAYS"
      ],
      "execution_count": null,
      "outputs": []
    },
    {
      "cell_type": "code",
      "metadata": {
        "id": "XPs3e3FWKyyf",
        "colab_type": "code",
        "colab": {
          "base_uri": "https://localhost:8080/",
          "height": 459
        },
        "outputId": "f23237ac-a4f1-4164-e940-47a94d08b0a8"
      },
      "source": [
        "data.isnull().sum()"
      ],
      "execution_count": 33,
      "outputs": [
        {
          "output_type": "execute_result",
          "data": {
            "text/plain": [
              "id                     0\n",
              "amount_tsh             0\n",
              "date_recorded          0\n",
              "funder               718\n",
              "gps_height             0\n",
              "installer            723\n",
              "longitude              0\n",
              "latitude               0\n",
              "basin                  0\n",
              "region                 0\n",
              "district_code          0\n",
              "lga                    0\n",
              "population             0\n",
              "public_meeting       692\n",
              "scheme_management    800\n",
              "permit               614\n",
              "construction_year      0\n",
              "extraction_type        0\n",
              "management             0\n",
              "payment_type           0\n",
              "water_quality          0\n",
              "quantity               0\n",
              "source                 0\n",
              "waterpoint_type        0\n",
              "operational_year       0\n",
              "dtype: int64"
            ]
          },
          "metadata": {
            "tags": []
          },
          "execution_count": 33
        }
      ]
    },
    {
      "cell_type": "code",
      "metadata": {
        "id": "lvBWOcxDKyyj",
        "colab_type": "code",
        "colab": {}
      },
      "source": [
        "data.drop('public_meeting', axis=1, inplace=True)\n",
        "data.drop('permit', axis=1, inplace=True)"
      ],
      "execution_count": 34,
      "outputs": []
    },
    {
      "cell_type": "code",
      "metadata": {
        "id": "pehk6c8DKyyo",
        "colab_type": "code",
        "colab": {
          "base_uri": "https://localhost:8080/",
          "height": 425
        },
        "outputId": "0eccf64b-2291-4df4-b2b0-1c323826ef28"
      },
      "source": [
        "data.isnull().sum()"
      ],
      "execution_count": 35,
      "outputs": [
        {
          "output_type": "execute_result",
          "data": {
            "text/plain": [
              "id                     0\n",
              "amount_tsh             0\n",
              "date_recorded          0\n",
              "funder               718\n",
              "gps_height             0\n",
              "installer            723\n",
              "longitude              0\n",
              "latitude               0\n",
              "basin                  0\n",
              "region                 0\n",
              "district_code          0\n",
              "lga                    0\n",
              "population             0\n",
              "scheme_management    800\n",
              "construction_year      0\n",
              "extraction_type        0\n",
              "management             0\n",
              "payment_type           0\n",
              "water_quality          0\n",
              "quantity               0\n",
              "source                 0\n",
              "waterpoint_type        0\n",
              "operational_year       0\n",
              "dtype: int64"
            ]
          },
          "metadata": {
            "tags": []
          },
          "execution_count": 35
        }
      ]
    },
    {
      "cell_type": "code",
      "metadata": {
        "id": "vXWJXRuxKyys",
        "colab_type": "code",
        "colab": {
          "base_uri": "https://localhost:8080/",
          "height": 527
        },
        "outputId": "2e75810e-6bd0-44e2-b918-d66f6658fcaf"
      },
      "source": [
        "data.info()"
      ],
      "execution_count": 36,
      "outputs": [
        {
          "output_type": "stream",
          "text": [
            "<class 'pandas.core.frame.DataFrame'>\n",
            "RangeIndex: 12416 entries, 0 to 12415\n",
            "Data columns (total 23 columns):\n",
            " #   Column             Non-Null Count  Dtype         \n",
            "---  ------             --------------  -----         \n",
            " 0   id                 12416 non-null  int64         \n",
            " 1   amount_tsh         12416 non-null  float64       \n",
            " 2   date_recorded      12416 non-null  datetime64[ns]\n",
            " 3   funder             11698 non-null  object        \n",
            " 4   gps_height         12416 non-null  float64       \n",
            " 5   installer          11693 non-null  object        \n",
            " 6   longitude          12416 non-null  float64       \n",
            " 7   latitude           12416 non-null  float64       \n",
            " 8   basin              12416 non-null  object        \n",
            " 9   region             12416 non-null  object        \n",
            " 10  district_code      12416 non-null  int64         \n",
            " 11  lga                12416 non-null  object        \n",
            " 12  population         12416 non-null  float64       \n",
            " 13  scheme_management  11616 non-null  object        \n",
            " 14  construction_year  12416 non-null  int64         \n",
            " 15  extraction_type    12416 non-null  object        \n",
            " 16  management         12416 non-null  object        \n",
            " 17  payment_type       12416 non-null  object        \n",
            " 18  water_quality      12416 non-null  object        \n",
            " 19  quantity           12416 non-null  object        \n",
            " 20  source             12416 non-null  object        \n",
            " 21  waterpoint_type    12416 non-null  object        \n",
            " 22  operational_year   12416 non-null  int64         \n",
            "dtypes: datetime64[ns](1), float64(5), int64(4), object(13)\n",
            "memory usage: 2.2+ MB\n"
          ],
          "name": "stdout"
        }
      ]
    },
    {
      "cell_type": "code",
      "metadata": {
        "id": "rFpnIBJzKyyw",
        "colab_type": "code",
        "colab": {}
      },
      "source": [
        "#For every categorical response, convert the levels to lower case, in case there is random capitalization\n",
        "data.waterpoint_type = data.waterpoint_type.str.lower()\n",
        "data.funder = data.funder.str.lower()\n",
        "data.basin = data.basin.str.lower()\n",
        "data.region = data.region.str.lower()\n",
        "data.source = data.source.str.lower()\n",
        "data.lga = data.lga.str.lower()\n",
        "data.management = data.management.str.lower()\n",
        "data.quantity = data.quantity.str.lower()\n",
        "data.water_quality = data.water_quality.str.lower()\n",
        "data.payment_type=data.payment_type.str.lower()\n",
        "data.extraction_type=data.extraction_type.str.lower()"
      ],
      "execution_count": 37,
      "outputs": []
    },
    {
      "cell_type": "code",
      "metadata": {
        "id": "I57DD2PcKyy0",
        "colab_type": "code",
        "colab": {
          "base_uri": "https://localhost:8080/",
          "height": 748
        },
        "outputId": "d4771a45-d082-4516-bded-cd4e36cbc203"
      },
      "source": [
        "data[\"funder\"].fillna(\"other\", inplace=True)\n",
        "data[\"scheme_management\"].fillna(\"other\", inplace=True)\n",
        "data[\"installer\"].fillna(\"other\", inplace=True)\n",
        "print(data.isnull().sum())\n",
        "data.drop('date_recorded', axis=1, inplace=True)\n",
        "data.drop('construction_year', axis=1, inplace=True)\n",
        "data.info()\n",
        "data.quantity.head(5)\n",
        "pd.DataFrame(data).to_csv(\"/content/clean.csv\")"
      ],
      "execution_count": 39,
      "outputs": [
        {
          "output_type": "stream",
          "text": [
            "id                   0\n",
            "amount_tsh           0\n",
            "funder               0\n",
            "gps_height           0\n",
            "installer            0\n",
            "longitude            0\n",
            "latitude             0\n",
            "basin                0\n",
            "region               0\n",
            "district_code        0\n",
            "lga                  0\n",
            "population           0\n",
            "scheme_management    0\n",
            "extraction_type      0\n",
            "management           0\n",
            "payment_type         0\n",
            "water_quality        0\n",
            "quantity             0\n",
            "source               0\n",
            "waterpoint_type      0\n",
            "operational_year     0\n",
            "dtype: int64\n"
          ],
          "name": "stdout"
        },
        {
          "output_type": "error",
          "ename": "KeyError",
          "evalue": "ignored",
          "traceback": [
            "\u001b[0;31m---------------------------------------------------------------------------\u001b[0m",
            "\u001b[0;31mKeyError\u001b[0m                                  Traceback (most recent call last)",
            "\u001b[0;32m<ipython-input-39-5951ef380e3d>\u001b[0m in \u001b[0;36m<module>\u001b[0;34m()\u001b[0m\n\u001b[1;32m      3\u001b[0m \u001b[0mdata\u001b[0m\u001b[0;34m[\u001b[0m\u001b[0;34m\"installer\"\u001b[0m\u001b[0;34m]\u001b[0m\u001b[0;34m.\u001b[0m\u001b[0mfillna\u001b[0m\u001b[0;34m(\u001b[0m\u001b[0;34m\"other\"\u001b[0m\u001b[0;34m,\u001b[0m \u001b[0minplace\u001b[0m\u001b[0;34m=\u001b[0m\u001b[0;32mTrue\u001b[0m\u001b[0;34m)\u001b[0m\u001b[0;34m\u001b[0m\u001b[0;34m\u001b[0m\u001b[0m\n\u001b[1;32m      4\u001b[0m \u001b[0mprint\u001b[0m\u001b[0;34m(\u001b[0m\u001b[0mdata\u001b[0m\u001b[0;34m.\u001b[0m\u001b[0misnull\u001b[0m\u001b[0;34m(\u001b[0m\u001b[0;34m)\u001b[0m\u001b[0;34m.\u001b[0m\u001b[0msum\u001b[0m\u001b[0;34m(\u001b[0m\u001b[0;34m)\u001b[0m\u001b[0;34m)\u001b[0m\u001b[0;34m\u001b[0m\u001b[0;34m\u001b[0m\u001b[0m\n\u001b[0;32m----> 5\u001b[0;31m \u001b[0mdata\u001b[0m\u001b[0;34m.\u001b[0m\u001b[0mdrop\u001b[0m\u001b[0;34m(\u001b[0m\u001b[0;34m'date_recorded'\u001b[0m\u001b[0;34m,\u001b[0m \u001b[0maxis\u001b[0m\u001b[0;34m=\u001b[0m\u001b[0;36m1\u001b[0m\u001b[0;34m,\u001b[0m \u001b[0minplace\u001b[0m\u001b[0;34m=\u001b[0m\u001b[0;32mTrue\u001b[0m\u001b[0;34m)\u001b[0m\u001b[0;34m\u001b[0m\u001b[0;34m\u001b[0m\u001b[0m\n\u001b[0m\u001b[1;32m      6\u001b[0m \u001b[0mdata\u001b[0m\u001b[0;34m.\u001b[0m\u001b[0mdrop\u001b[0m\u001b[0;34m(\u001b[0m\u001b[0;34m'construction_year'\u001b[0m\u001b[0;34m,\u001b[0m \u001b[0maxis\u001b[0m\u001b[0;34m=\u001b[0m\u001b[0;36m1\u001b[0m\u001b[0;34m,\u001b[0m \u001b[0minplace\u001b[0m\u001b[0;34m=\u001b[0m\u001b[0;32mTrue\u001b[0m\u001b[0;34m)\u001b[0m\u001b[0;34m\u001b[0m\u001b[0;34m\u001b[0m\u001b[0m\n\u001b[1;32m      7\u001b[0m \u001b[0mdata\u001b[0m\u001b[0;34m.\u001b[0m\u001b[0minfo\u001b[0m\u001b[0;34m(\u001b[0m\u001b[0;34m)\u001b[0m\u001b[0;34m\u001b[0m\u001b[0;34m\u001b[0m\u001b[0m\n",
            "\u001b[0;32m/usr/local/lib/python3.6/dist-packages/pandas/core/frame.py\u001b[0m in \u001b[0;36mdrop\u001b[0;34m(self, labels, axis, index, columns, level, inplace, errors)\u001b[0m\n\u001b[1;32m   3995\u001b[0m             \u001b[0mlevel\u001b[0m\u001b[0;34m=\u001b[0m\u001b[0mlevel\u001b[0m\u001b[0;34m,\u001b[0m\u001b[0;34m\u001b[0m\u001b[0;34m\u001b[0m\u001b[0m\n\u001b[1;32m   3996\u001b[0m             \u001b[0minplace\u001b[0m\u001b[0;34m=\u001b[0m\u001b[0minplace\u001b[0m\u001b[0;34m,\u001b[0m\u001b[0;34m\u001b[0m\u001b[0;34m\u001b[0m\u001b[0m\n\u001b[0;32m-> 3997\u001b[0;31m             \u001b[0merrors\u001b[0m\u001b[0;34m=\u001b[0m\u001b[0merrors\u001b[0m\u001b[0;34m,\u001b[0m\u001b[0;34m\u001b[0m\u001b[0;34m\u001b[0m\u001b[0m\n\u001b[0m\u001b[1;32m   3998\u001b[0m         )\n\u001b[1;32m   3999\u001b[0m \u001b[0;34m\u001b[0m\u001b[0m\n",
            "\u001b[0;32m/usr/local/lib/python3.6/dist-packages/pandas/core/generic.py\u001b[0m in \u001b[0;36mdrop\u001b[0;34m(self, labels, axis, index, columns, level, inplace, errors)\u001b[0m\n\u001b[1;32m   3934\u001b[0m         \u001b[0;32mfor\u001b[0m \u001b[0maxis\u001b[0m\u001b[0;34m,\u001b[0m \u001b[0mlabels\u001b[0m \u001b[0;32min\u001b[0m \u001b[0maxes\u001b[0m\u001b[0;34m.\u001b[0m\u001b[0mitems\u001b[0m\u001b[0;34m(\u001b[0m\u001b[0;34m)\u001b[0m\u001b[0;34m:\u001b[0m\u001b[0;34m\u001b[0m\u001b[0;34m\u001b[0m\u001b[0m\n\u001b[1;32m   3935\u001b[0m             \u001b[0;32mif\u001b[0m \u001b[0mlabels\u001b[0m \u001b[0;32mis\u001b[0m \u001b[0;32mnot\u001b[0m \u001b[0;32mNone\u001b[0m\u001b[0;34m:\u001b[0m\u001b[0;34m\u001b[0m\u001b[0;34m\u001b[0m\u001b[0m\n\u001b[0;32m-> 3936\u001b[0;31m                 \u001b[0mobj\u001b[0m \u001b[0;34m=\u001b[0m \u001b[0mobj\u001b[0m\u001b[0;34m.\u001b[0m\u001b[0m_drop_axis\u001b[0m\u001b[0;34m(\u001b[0m\u001b[0mlabels\u001b[0m\u001b[0;34m,\u001b[0m \u001b[0maxis\u001b[0m\u001b[0;34m,\u001b[0m \u001b[0mlevel\u001b[0m\u001b[0;34m=\u001b[0m\u001b[0mlevel\u001b[0m\u001b[0;34m,\u001b[0m \u001b[0merrors\u001b[0m\u001b[0;34m=\u001b[0m\u001b[0merrors\u001b[0m\u001b[0;34m)\u001b[0m\u001b[0;34m\u001b[0m\u001b[0;34m\u001b[0m\u001b[0m\n\u001b[0m\u001b[1;32m   3937\u001b[0m \u001b[0;34m\u001b[0m\u001b[0m\n\u001b[1;32m   3938\u001b[0m         \u001b[0;32mif\u001b[0m \u001b[0minplace\u001b[0m\u001b[0;34m:\u001b[0m\u001b[0;34m\u001b[0m\u001b[0;34m\u001b[0m\u001b[0m\n",
            "\u001b[0;32m/usr/local/lib/python3.6/dist-packages/pandas/core/generic.py\u001b[0m in \u001b[0;36m_drop_axis\u001b[0;34m(self, labels, axis, level, errors)\u001b[0m\n\u001b[1;32m   3968\u001b[0m                 \u001b[0mnew_axis\u001b[0m \u001b[0;34m=\u001b[0m \u001b[0maxis\u001b[0m\u001b[0;34m.\u001b[0m\u001b[0mdrop\u001b[0m\u001b[0;34m(\u001b[0m\u001b[0mlabels\u001b[0m\u001b[0;34m,\u001b[0m \u001b[0mlevel\u001b[0m\u001b[0;34m=\u001b[0m\u001b[0mlevel\u001b[0m\u001b[0;34m,\u001b[0m \u001b[0merrors\u001b[0m\u001b[0;34m=\u001b[0m\u001b[0merrors\u001b[0m\u001b[0;34m)\u001b[0m\u001b[0;34m\u001b[0m\u001b[0;34m\u001b[0m\u001b[0m\n\u001b[1;32m   3969\u001b[0m             \u001b[0;32melse\u001b[0m\u001b[0;34m:\u001b[0m\u001b[0;34m\u001b[0m\u001b[0;34m\u001b[0m\u001b[0m\n\u001b[0;32m-> 3970\u001b[0;31m                 \u001b[0mnew_axis\u001b[0m \u001b[0;34m=\u001b[0m \u001b[0maxis\u001b[0m\u001b[0;34m.\u001b[0m\u001b[0mdrop\u001b[0m\u001b[0;34m(\u001b[0m\u001b[0mlabels\u001b[0m\u001b[0;34m,\u001b[0m \u001b[0merrors\u001b[0m\u001b[0;34m=\u001b[0m\u001b[0merrors\u001b[0m\u001b[0;34m)\u001b[0m\u001b[0;34m\u001b[0m\u001b[0;34m\u001b[0m\u001b[0m\n\u001b[0m\u001b[1;32m   3971\u001b[0m             \u001b[0mresult\u001b[0m \u001b[0;34m=\u001b[0m \u001b[0mself\u001b[0m\u001b[0;34m.\u001b[0m\u001b[0mreindex\u001b[0m\u001b[0;34m(\u001b[0m\u001b[0;34m**\u001b[0m\u001b[0;34m{\u001b[0m\u001b[0maxis_name\u001b[0m\u001b[0;34m:\u001b[0m \u001b[0mnew_axis\u001b[0m\u001b[0;34m}\u001b[0m\u001b[0;34m)\u001b[0m\u001b[0;34m\u001b[0m\u001b[0;34m\u001b[0m\u001b[0m\n\u001b[1;32m   3972\u001b[0m \u001b[0;34m\u001b[0m\u001b[0m\n",
            "\u001b[0;32m/usr/local/lib/python3.6/dist-packages/pandas/core/indexes/base.py\u001b[0m in \u001b[0;36mdrop\u001b[0;34m(self, labels, errors)\u001b[0m\n\u001b[1;32m   5016\u001b[0m         \u001b[0;32mif\u001b[0m \u001b[0mmask\u001b[0m\u001b[0;34m.\u001b[0m\u001b[0many\u001b[0m\u001b[0;34m(\u001b[0m\u001b[0;34m)\u001b[0m\u001b[0;34m:\u001b[0m\u001b[0;34m\u001b[0m\u001b[0;34m\u001b[0m\u001b[0m\n\u001b[1;32m   5017\u001b[0m             \u001b[0;32mif\u001b[0m \u001b[0merrors\u001b[0m \u001b[0;34m!=\u001b[0m \u001b[0;34m\"ignore\"\u001b[0m\u001b[0;34m:\u001b[0m\u001b[0;34m\u001b[0m\u001b[0;34m\u001b[0m\u001b[0m\n\u001b[0;32m-> 5018\u001b[0;31m                 \u001b[0;32mraise\u001b[0m \u001b[0mKeyError\u001b[0m\u001b[0;34m(\u001b[0m\u001b[0;34mf\"{labels[mask]} not found in axis\"\u001b[0m\u001b[0;34m)\u001b[0m\u001b[0;34m\u001b[0m\u001b[0;34m\u001b[0m\u001b[0m\n\u001b[0m\u001b[1;32m   5019\u001b[0m             \u001b[0mindexer\u001b[0m \u001b[0;34m=\u001b[0m \u001b[0mindexer\u001b[0m\u001b[0;34m[\u001b[0m\u001b[0;34m~\u001b[0m\u001b[0mmask\u001b[0m\u001b[0;34m]\u001b[0m\u001b[0;34m\u001b[0m\u001b[0;34m\u001b[0m\u001b[0m\n\u001b[1;32m   5020\u001b[0m         \u001b[0;32mreturn\u001b[0m \u001b[0mself\u001b[0m\u001b[0;34m.\u001b[0m\u001b[0mdelete\u001b[0m\u001b[0;34m(\u001b[0m\u001b[0mindexer\u001b[0m\u001b[0;34m)\u001b[0m\u001b[0;34m\u001b[0m\u001b[0;34m\u001b[0m\u001b[0m\n",
            "\u001b[0;31mKeyError\u001b[0m: \"['date_recorded'] not found in axis\""
          ]
        }
      ]
    },
    {
      "cell_type": "code",
      "metadata": {
        "id": "_AbHbI1UKyy5",
        "colab_type": "code",
        "colab": {}
      },
      "source": [
        ""
      ],
      "execution_count": null,
      "outputs": []
    },
    {
      "cell_type": "code",
      "metadata": {
        "id": "xx5TsD3GKyy-",
        "colab_type": "code",
        "colab": {}
      },
      "source": [
        ""
      ],
      "execution_count": null,
      "outputs": []
    },
    {
      "cell_type": "code",
      "metadata": {
        "id": "P6jcSvZeKyzB",
        "colab_type": "code",
        "colab": {}
      },
      "source": [
        ""
      ],
      "execution_count": null,
      "outputs": []
    },
    {
      "cell_type": "code",
      "metadata": {
        "id": "ZJyqV7JeKyzE",
        "colab_type": "code",
        "colab": {}
      },
      "source": [
        ""
      ],
      "execution_count": null,
      "outputs": []
    },
    {
      "cell_type": "code",
      "metadata": {
        "id": "yV87gfS6KyzI",
        "colab_type": "code",
        "colab": {}
      },
      "source": [
        ""
      ],
      "execution_count": null,
      "outputs": []
    },
    {
      "cell_type": "code",
      "metadata": {
        "id": "Qd_nldvXKyzK",
        "colab_type": "code",
        "colab": {}
      },
      "source": [
        ""
      ],
      "execution_count": null,
      "outputs": []
    },
    {
      "cell_type": "code",
      "metadata": {
        "id": "GiGHfLKxKyzO",
        "colab_type": "code",
        "colab": {}
      },
      "source": [
        ""
      ],
      "execution_count": null,
      "outputs": []
    }
  ]
}