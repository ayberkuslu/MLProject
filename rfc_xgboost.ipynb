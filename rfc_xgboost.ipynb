{
 "cells": [
  {
   "cell_type": "code",
   "execution_count": 261,
   "metadata": {},
   "outputs": [],
   "source": [
    "import pandas as pd\n",
    "import numpy as np\n"
   ]
  },
  {
   "cell_type": "code",
   "execution_count": 262,
   "metadata": {},
   "outputs": [],
   "source": [
    "train = pd.read_csv('clean.csv')"
   ]
  },
  {
   "cell_type": "code",
   "execution_count": 263,
   "metadata": {},
   "outputs": [],
   "source": [
    "test = pd.read_csv('clean_test.csv')"
   ]
  },
  {
   "cell_type": "code",
   "execution_count": 264,
   "metadata": {},
   "outputs": [
    {
     "data": {
      "text/plain": [
       "((59400, 23), (14850, 22))"
      ]
     },
     "execution_count": 264,
     "metadata": {},
     "output_type": "execute_result"
    }
   ],
   "source": [
    "train.shape,test.shape"
   ]
  },
  {
   "cell_type": "code",
   "execution_count": 265,
   "metadata": {},
   "outputs": [],
   "source": [
    "#drop this unnamed column \n",
    "train.drop('Unnamed: 0', axis=1, inplace=True)\n",
    "test.drop('Unnamed: 0', axis=1, inplace=True)\n",
    "target=train.pop('status_group')"
   ]
  },
  {
   "cell_type": "code",
   "execution_count": 266,
   "metadata": {},
   "outputs": [
    {
     "name": "stdout",
     "output_type": "stream",
     "text": [
      "<class 'pandas.core.frame.DataFrame'>\n",
      "RangeIndex: 59400 entries, 0 to 59399\n",
      "Data columns (total 22 columns):\n",
      "id                   59400 non-null int64\n",
      "amount_tsh           59400 non-null float64\n",
      "funder               59400 non-null object\n",
      "gps_height           59400 non-null float64\n",
      "installer            59400 non-null object\n",
      "longitude            59400 non-null float64\n",
      "latitude             59400 non-null float64\n",
      "basin                59400 non-null object\n",
      "region               59400 non-null object\n",
      "district_code        59400 non-null int64\n",
      "lga                  59400 non-null object\n",
      "population           59400 non-null float64\n",
      "scheme_management    59400 non-null object\n",
      "extraction_type      59400 non-null object\n",
      "management           59400 non-null object\n",
      "payment_type         59400 non-null object\n",
      "water_quality        59400 non-null object\n",
      "quantity             59400 non-null object\n",
      "source               59400 non-null object\n",
      "waterpoint_type      59400 non-null object\n",
      "operational_year     59400 non-null float64\n",
      "train                59400 non-null int64\n",
      "dtypes: float64(6), int64(3), object(13)\n",
      "memory usage: 10.0+ MB\n"
     ]
    }
   ],
   "source": [
    "train['train']=1\n",
    "test['train']=0\n",
    "train.info()"
   ]
  },
  {
   "cell_type": "code",
   "execution_count": 267,
   "metadata": {},
   "outputs": [
    {
     "data": {
      "text/plain": [
       "((59400, 22), (14850, 22))"
      ]
     },
     "execution_count": 267,
     "metadata": {},
     "output_type": "execute_result"
    }
   ],
   "source": [
    "train.shape,test.shape"
   ]
  },
  {
   "cell_type": "code",
   "execution_count": 268,
   "metadata": {},
   "outputs": [],
   "source": [
    "combined = pd.concat([train, test])\n",
    "\n"
   ]
  },
  {
   "cell_type": "code",
   "execution_count": 269,
   "metadata": {},
   "outputs": [
    {
     "name": "stdout",
     "output_type": "stream",
     "text": [
      "<class 'pandas.core.frame.DataFrame'>\n",
      "Int64Index: 74250 entries, 0 to 14849\n",
      "Data columns (total 22 columns):\n",
      "id                   74250 non-null int64\n",
      "amount_tsh           74250 non-null float64\n",
      "funder               74250 non-null object\n",
      "gps_height           74250 non-null float64\n",
      "installer            74250 non-null object\n",
      "longitude            74250 non-null float64\n",
      "latitude             74250 non-null float64\n",
      "basin                74250 non-null object\n",
      "region               74250 non-null object\n",
      "district_code        74250 non-null int64\n",
      "lga                  74250 non-null object\n",
      "population           74250 non-null float64\n",
      "scheme_management    74250 non-null object\n",
      "extraction_type      74250 non-null object\n",
      "management           74250 non-null object\n",
      "payment_type         74250 non-null object\n",
      "water_quality        74250 non-null object\n",
      "quantity             74250 non-null object\n",
      "source               74250 non-null object\n",
      "waterpoint_type      74250 non-null object\n",
      "operational_year     74250 non-null float64\n",
      "train                74250 non-null int64\n",
      "dtypes: float64(6), int64(3), object(13)\n",
      "memory usage: 13.0+ MB\n"
     ]
    }
   ],
   "source": [
    "combined.info()\n",
    "combined.drop('construction_year',axis=1,inplace=True)\n",
    "combined.drop('date_recorded',axis=1,inplace=True)\n"
   ]
  },
  {
   "cell_type": "code",
   "execution_count": 270,
   "metadata": {},
   "outputs": [],
   "source": [
    "combined['funder'] = pd.factorize(combined['funder'])[0]\n",
    "combined['scheme_management'] = pd.factorize(combined['scheme_management'])[0]\n",
    "combined['extraction_type'] = pd.factorize(combined['extraction_type'])[0]\n",
    "combined['management'] = pd.factorize(combined['management'])[0]\n",
    "combined['payment_type'] = pd.factorize(combined['payment_type'])[0]\n",
    "combined['water_quality'] = pd.factorize(combined['water_quality'])[0]\n",
    "combined['quantity'] = pd.factorize(combined['quantity'])[0]\n",
    "combined['source'] = pd.factorize(combined['source'])[0]\n",
    "combined['waterpoint_type'] = pd.factorize(combined['waterpoint_type'])[0]\n",
    "combined['basin'] = pd.factorize(combined['basin'])[0]\n",
    "combined['region'] = pd.factorize(combined['region'])[0]\n",
    "combined['lga'] = pd.factorize(combined['lga'])[0]\n",
    "combined['district_code'] = pd.factorize(combined['district_code'])[0]\n",
    "combined['operational_year'] = pd.factorize(combined['operational_year'])[0]\n",
    "combined.district_code.head(5)"
   ]
  },
  {
   "cell_type": "code",
   "execution_count": 271,
   "metadata": {},
   "outputs": [
    {
     "name": "stderr",
     "output_type": "stream",
     "text": [
      "/usr/local/lib/python3.6/site-packages/ipykernel_launcher.py:3: SettingWithCopyWarning: \n",
      "A value is trying to be set on a copy of a slice from a DataFrame\n",
      "\n",
      "See the caveats in the documentation: http://pandas.pydata.org/pandas-docs/stable/indexing.html#indexing-view-versus-copy\n",
      "  This is separate from the ipykernel package so we can avoid doing imports until\n",
      "/usr/local/lib/python3.6/site-packages/ipykernel_launcher.py:4: SettingWithCopyWarning: \n",
      "A value is trying to be set on a copy of a slice from a DataFrame\n",
      "\n",
      "See the caveats in the documentation: http://pandas.pydata.org/pandas-docs/stable/indexing.html#indexing-view-versus-copy\n",
      "  after removing the cwd from sys.path.\n",
      "/usr/local/lib/python3.6/site-packages/ipykernel_launcher.py:5: SettingWithCopyWarning: \n",
      "A value is trying to be set on a copy of a slice from a DataFrame\n",
      "\n",
      "See the caveats in the documentation: http://pandas.pydata.org/pandas-docs/stable/indexing.html#indexing-view-versus-copy\n",
      "  \"\"\"\n"
     ]
    }
   ],
   "source": [
    "train_df = combined[combined[\"train\"] == 1]\n",
    "test_df = combined[combined[\"train\"] == 0]\n",
    "train_df.drop([\"train\"], axis=1, inplace=True)\n",
    "train_df.drop(['id'],axis=1, inplace=True)\n",
    "test_df.drop([\"train\"], axis=1, inplace=True)"
   ]
  },
  {
   "cell_type": "code",
   "execution_count": 272,
   "metadata": {},
   "outputs": [],
   "source": [
    "#define X train\n",
    "X = train_df\n",
    "#y_train indentified at the beginning \n",
    "y = target"
   ]
  },
  {
   "cell_type": "code",
   "execution_count": 273,
   "metadata": {},
   "outputs": [],
   "source": [
    "from sklearn.ensemble import RandomForestClassifier\n",
    "model_rfc = RandomForestClassifier(n_estimators=1000)"
   ]
  },
  {
   "cell_type": "code",
   "execution_count": 274,
   "metadata": {},
   "outputs": [],
   "source": [
    "#from sklearn.svm import SVC\n",
    "#clf = SVC()"
   ]
  },
  {
   "cell_type": "code",
   "execution_count": 275,
   "metadata": {},
   "outputs": [],
   "source": [
    "from xgboost import XGBClassifier\n",
    "model = XGBClassifier(objective = 'multi:softmax', booster = 'gbtree', nrounds = 'min.error.idx', \n",
    "                      num_class = 4, maximize = False, eval_metric = 'merror', eta = .2,\n",
    "                      max_depth = 14, colsample_bytree = .4)"
   ]
  },
  {
   "cell_type": "code",
   "execution_count": 276,
   "metadata": {},
   "outputs": [],
   "source": [
    "#from sklearn.neighbors import KNeighborsClassifier\n",
    "#knn=KNeighborsClassifier(n_neighbors=1000)"
   ]
  },
  {
   "cell_type": "code",
   "execution_count": 277,
   "metadata": {},
   "outputs": [],
   "source": [
    "#from sklearn.ensemble import VotingClassifier\n",
    "#eclf1 = VotingClassifier(estimators=[('xg', model), ('rf', model_rfc)],weights=[1,2], voting='hard')"
   ]
  },
  {
   "cell_type": "code",
   "execution_count": null,
   "metadata": {},
   "outputs": [],
   "source": []
  },
  {
   "cell_type": "code",
   "execution_count": 278,
   "metadata": {},
   "outputs": [
    {
     "data": {
      "text/plain": [
       "array([ 0.80292929,  0.80282828,  0.80035354])"
      ]
     },
     "execution_count": 278,
     "metadata": {},
     "output_type": "execute_result"
    }
   ],
   "source": [
    "from sklearn.cross_validation import cross_val_score\n",
    "cross_val_score(model_rfc, X, y, cv=3)"
   ]
  },
  {
   "cell_type": "code",
   "execution_count": 279,
   "metadata": {},
   "outputs": [
    {
     "name": "stdout",
     "output_type": "stream",
     "text": [
      "<class 'pandas.core.frame.DataFrame'>\n",
      "Int64Index: 59400 entries, 0 to 59399\n",
      "Data columns (total 18 columns):\n",
      "amount_tsh          59400 non-null float64\n",
      "funder              59400 non-null int64\n",
      "gps_height          59400 non-null float64\n",
      "installer           59400 non-null int64\n",
      "longitude           59400 non-null float64\n",
      "latitude            59400 non-null float64\n",
      "basin               59400 non-null int64\n",
      "region              59400 non-null int64\n",
      "district_code       59400 non-null int64\n",
      "lga                 59400 non-null int64\n",
      "population          59400 non-null float64\n",
      "extraction_type     59400 non-null int64\n",
      "management          59400 non-null int64\n",
      "payment_type        59400 non-null int64\n",
      "quantity            59400 non-null int64\n",
      "source              59400 non-null int64\n",
      "waterpoint_type     59400 non-null int64\n",
      "operational_year    59400 non-null int64\n",
      "dtypes: float64(5), int64(13)\n",
      "memory usage: 8.6 MB\n"
     ]
    },
    {
     "data": {
      "text/plain": [
       "array([ 0.02600663,  0.04767696,  0.07709058,  0.03804899,  0.15242568,\n",
       "        0.14945111,  0.01635002,  0.02270284,  0.021218  ,  0.03128829,\n",
       "        0.05169935,  0.05699834,  0.02138889,  0.03299838,  0.11918174,\n",
       "        0.03078782,  0.05758706,  0.04709931])"
      ]
     },
     "execution_count": 279,
     "metadata": {},
     "output_type": "execute_result"
    }
   ],
   "source": [
    "model_rfc.fit(X,y)\n",
    "X.info()\n",
    "importances = model_rfc.feature_importances_\n",
    "importances"
   ]
  },
  {
   "cell_type": "code",
   "execution_count": 280,
   "metadata": {},
   "outputs": [
    {
     "name": "stdout",
     "output_type": "stream",
     "text": [
      "Feature ranking:\n",
      "1. feature 4 (0.152426)\n",
      "2. feature 5 (0.149451)\n",
      "3. feature 14 (0.119182)\n",
      "4. feature 2 (0.077091)\n",
      "5. feature 16 (0.057587)\n",
      "6. feature 11 (0.056998)\n",
      "7. feature 10 (0.051699)\n",
      "8. feature 1 (0.047677)\n",
      "9. feature 17 (0.047099)\n",
      "10. feature 3 (0.038049)\n",
      "11. feature 13 (0.032998)\n",
      "12. feature 9 (0.031288)\n",
      "13. feature 15 (0.030788)\n",
      "14. feature 0 (0.026007)\n",
      "15. feature 7 (0.022703)\n",
      "16. feature 12 (0.021389)\n",
      "17. feature 8 (0.021218)\n",
      "18. feature 6 (0.016350)\n",
      "longitude, latitude, quantity, gps_height, waterpoint_type, extraction_type, population, funder, operational_year, installer, payment_type, lga, source, amount_tsh, region, management, district_code, basin, "
     ]
    }
   ],
   "source": [
    "importances = model_rfc.feature_importances_\n",
    "importances\n",
    "indices = np.argsort(importances)[::-1]\n",
    "\n",
    "# Print the feature ranking\n",
    "print(\"Feature ranking:\")\n",
    "\n",
    "for f in range(X.shape[1]):\n",
    "    print(\"%d. feature %d (%f)\" % (f + 1, indices[f], importances[indices[f]]))\n",
    "\n",
    "for f in range(X.shape[1]):\n",
    "    print(X.columns[indices[f]],end=', ')\n"
   ]
  },
  {
   "cell_type": "code",
   "execution_count": null,
   "metadata": {},
   "outputs": [],
   "source": [
    "#ranking of features-\n",
    "#longitude,latitude,gps_height,ward,funder,operational_year,population,"
   ]
  },
  {
   "cell_type": "code",
   "execution_count": null,
   "metadata": {},
   "outputs": [],
   "source": [
    "\n"
   ]
  },
  {
   "cell_type": "code",
   "execution_count": null,
   "metadata": {},
   "outputs": [],
   "source": []
  },
  {
   "cell_type": "code",
   "execution_count": 258,
   "metadata": {},
   "outputs": [
    {
     "name": "stdout",
     "output_type": "stream",
     "text": [
      "[ 0.81040404  0.81277778  0.80919192]\n",
      "Feature ranking:\n",
      "longitude, latitude, gps_height, funder, operational_year, population, installer, amount_tsh, lga, payment_type, district_code, extraction_type, basin, management, source, region, scheme_management, waterpoint_type, water_quality, quantity, "
     ]
    }
   ],
   "source": [
    "#for xgboost\n",
    "'''from sklearn.cross_validation import cross_val_score\n",
    "print(cross_val_score(model, X, y, cv=3))\n",
    "model.fit(X,y)\n",
    "importances = model.feature_importances_\n",
    "importances\n",
    "indices = np.argsort(importances)[::-1]\n",
    "\n",
    "# Print the feature ranking\n",
    "print(\"Feature ranking:\")\n",
    "\n",
    "for f in range(X.shape[1]):\n",
    "    print(X.columns[indices[f]],end=', ')'''"
   ]
  },
  {
   "cell_type": "code",
   "execution_count": 259,
   "metadata": {},
   "outputs": [
    {
     "name": "stdout",
     "output_type": "stream",
     "text": [
      "1. feature 4 (0.207134)\n",
      "2. feature 5 (0.191001)\n",
      "3. feature 2 (0.118806)\n",
      "4. feature 1 (0.067732)\n",
      "5. feature 19 (0.061888)\n",
      "6. feature 10 (0.061443)\n",
      "7. feature 3 (0.049777)\n",
      "8. feature 0 (0.032798)\n",
      "9. feature 9 (0.029129)\n",
      "10. feature 14 (0.022409)\n",
      "11. feature 8 (0.022304)\n",
      "12. feature 12 (0.021030)\n",
      "13. feature 6 (0.018021)\n",
      "14. feature 13 (0.016567)\n",
      "15. feature 17 (0.015953)\n",
      "16. feature 7 (0.015375)\n",
      "17. feature 11 (0.013728)\n",
      "18. feature 18 (0.012758)\n",
      "19. feature 15 (0.011964)\n",
      "20. feature 16 (0.010183)\n"
     ]
    }
   ],
   "source": [
    "#for f in range(X.shape[1]):\n",
    " #   print(\"%d. feature %d (%f)\" % (f + 1, indices[f], importances[indices[f]]))"
   ]
  },
  {
   "cell_type": "code",
   "execution_count": null,
   "metadata": {},
   "outputs": [],
   "source": [
    "####xg-nrounds=1000-array([ 0.80924242,  0.81217172,  0.81186869])\n",
    "#xg-max_depth=5-array([ 0.76282828,  0.76823232,  0.76994949])\n",
    "#xg-max_depth=30-array([ 0.80772727,  0.80782828,  0.805     ])\n",
    "#model_rfc-array([ 0.80479798,  0.80267677,  0.80207071])\n",
    "#xg-nrounds=500-array([ 0.80939394,  0.80828283,  0.80777778])\n",
    "#xg-nrounds=1000-array([ 0.80939394,  0.80828283,  0.80777778])\n",
    "#xg-max_depth=20-array([ 0.8089899 ,  0.80893939,  0.80848485])\n",
    "#xg-max_depth=16-array([ 0.80838384,  0.80984848,  0.80742424])\n",
    "#xg-max_depth=12,nfold=5,array([ 0.80939394,  0.80828283,  0.80777778])\n",
    "#xg-max_depth=12,nfold=6,array([ 0.80939394,  0.80828283,  0.80777778])\n",
    "#xg-max_depth=12,nfold=6,nrounds=1200,early_stopping_rounds = 9-"
   ]
  },
  {
   "cell_type": "code",
   "execution_count": 233,
   "metadata": {},
   "outputs": [],
   "source": [
    "X_test=test_df\n"
   ]
  },
  {
   "cell_type": "code",
   "execution_count": 234,
   "metadata": {},
   "outputs": [
    {
     "data": {
      "text/plain": [
       "RandomForestClassifier(bootstrap=True, class_weight=None, criterion='gini',\n",
       "            max_depth=None, max_features='auto', max_leaf_nodes=None,\n",
       "            min_impurity_decrease=0.0, min_impurity_split=None,\n",
       "            min_samples_leaf=1, min_samples_split=2,\n",
       "            min_weight_fraction_leaf=0.0, n_estimators=1000, n_jobs=1,\n",
       "            oob_score=False, random_state=None, verbose=0,\n",
       "            warm_start=False)"
      ]
     },
     "execution_count": 234,
     "metadata": {},
     "output_type": "execute_result"
    }
   ],
   "source": [
    "model_rfc.fit(X,y)"
   ]
  },
  {
   "cell_type": "code",
   "execution_count": 235,
   "metadata": {},
   "outputs": [
    {
     "name": "stderr",
     "output_type": "stream",
     "text": [
      "/usr/local/lib/python3.6/site-packages/ipykernel_launcher.py:2: SettingWithCopyWarning: \n",
      "A value is trying to be set on a copy of a slice from a DataFrame\n",
      "\n",
      "See the caveats in the documentation: http://pandas.pydata.org/pandas-docs/stable/indexing.html#indexing-view-versus-copy\n",
      "  \n"
     ]
    }
   ],
   "source": [
    "a=X_test['id']\n",
    "X_test.drop(['id'],axis=1, inplace=True)\n",
    "y_pred = model.predict(X_test)"
   ]
  },
  {
   "cell_type": "code",
   "execution_count": 236,
   "metadata": {},
   "outputs": [],
   "source": [
    "y_pred=pd.DataFrame(y_pred)\n",
    "y_pred['id']=a\n",
    "y_pred.columns=['status_group','id']\n",
    "y_pred=y_pred[['id','status_group']]"
   ]
  },
  {
   "cell_type": "code",
   "execution_count": 237,
   "metadata": {},
   "outputs": [
    {
     "name": "stdout",
     "output_type": "stream",
     "text": [
      "<class 'pandas.core.frame.DataFrame'>\n",
      "RangeIndex: 14850 entries, 0 to 14849\n",
      "Data columns (total 2 columns):\n",
      "id              14850 non-null int64\n",
      "status_group    14850 non-null object\n",
      "dtypes: int64(1), object(1)\n",
      "memory usage: 232.1+ KB\n"
     ]
    }
   ],
   "source": [
    "y_pred.info()"
   ]
  },
  {
   "cell_type": "code",
   "execution_count": 238,
   "metadata": {},
   "outputs": [],
   "source": [
    "pd.DataFrame(y_pred).to_csv(\"submission_xg.csv\")"
   ]
  },
  {
   "cell_type": "code",
   "execution_count": 84,
   "metadata": {},
   "outputs": [],
   "source": []
  },
  {
   "cell_type": "code",
   "execution_count": null,
   "metadata": {},
   "outputs": [],
   "source": []
  },
  {
   "cell_type": "code",
   "execution_count": 86,
   "metadata": {},
   "outputs": [
    {
     "name": "stdout",
     "output_type": "stream",
     "text": [
      "<class 'pandas.core.frame.DataFrame'>\n",
      "RangeIndex: 14850 entries, 0 to 14849\n",
      "Data columns (total 4 columns):\n",
      "Unnamed: 0      14850 non-null int64\n",
      "0               14850 non-null object\n",
      "id              14850 non-null int64\n",
      "status_group    14850 non-null object\n",
      "dtypes: int64(2), object(2)\n",
      "memory usage: 464.1+ KB\n"
     ]
    }
   ],
   "source": []
  },
  {
   "cell_type": "code",
   "execution_count": 76,
   "metadata": {},
   "outputs": [],
   "source": []
  },
  {
   "cell_type": "code",
   "execution_count": 89,
   "metadata": {},
   "outputs": [
    {
     "name": "stdout",
     "output_type": "stream",
     "text": [
      "<class 'pandas.core.frame.DataFrame'>\n",
      "RangeIndex: 14850 entries, 0 to 14849\n",
      "Data columns (total 2 columns):\n",
      "id              14850 non-null int64\n",
      "status_group    14850 non-null object\n",
      "dtypes: int64(1), object(1)\n",
      "memory usage: 232.1+ KB\n"
     ]
    }
   ],
   "source": []
  },
  {
   "cell_type": "code",
   "execution_count": 90,
   "metadata": {},
   "outputs": [
    {
     "name": "stdout",
     "output_type": "stream",
     "text": [
      "<class 'pandas.core.frame.DataFrame'>\n",
      "RangeIndex: 14850 entries, 0 to 14849\n",
      "Data columns (total 2 columns):\n",
      "id              14850 non-null int64\n",
      "status_group    14850 non-null object\n",
      "dtypes: int64(1), object(1)\n",
      "memory usage: 232.1+ KB\n"
     ]
    }
   ],
   "source": []
  },
  {
   "cell_type": "code",
   "execution_count": 92,
   "metadata": {},
   "outputs": [],
   "source": []
  },
  {
   "cell_type": "code",
   "execution_count": null,
   "metadata": {},
   "outputs": [],
   "source": []
  }
 ],
 "metadata": {
  "kernelspec": {
   "display_name": "Python 3",
   "language": "python",
   "name": "python3"
  },
  "language_info": {
   "codemirror_mode": {
    "name": "ipython",
    "version": 3
   },
   "file_extension": ".py",
   "mimetype": "text/x-python",
   "name": "python",
   "nbconvert_exporter": "python",
   "pygments_lexer": "ipython3",
   "version": "3.6.5"
  }
 },
 "nbformat": 4,
 "nbformat_minor": 2
}
