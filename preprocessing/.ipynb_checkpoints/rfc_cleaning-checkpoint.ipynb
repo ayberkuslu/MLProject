{
 "cells": [
  {
   "cell_type": "markdown",
   "metadata": {
    "colab_type": "text",
    "id": "view-in-github"
   },
   "source": [
    "<a href=\"https://colab.research.google.com/github/ayberkuslu/MLProject/blob/master/rfc_cleaning_test.ipynb\" target=\"_parent\"><img src=\"https://colab.research.google.com/assets/colab-badge.svg\" alt=\"Open In Colab\"/></a>"
   ]
  },
  {
   "cell_type": "code",
   "execution_count": 95,
   "metadata": {},
   "outputs": [],
   "source": [
    "# if you are preprocessing test file, change test = True\n",
    "# Feature selection algorithm will be used in evaluation notebook.\n",
    "\n",
    "# input-output: test.csv -> rfc_clean_test.csv\n",
    "# input-output: train.csv + labels.csv -> rfc_clean_train.csv"
   ]
  },
  {
   "cell_type": "code",
   "execution_count": 96,
   "metadata": {
    "colab": {
     "base_uri": "https://localhost:8080/",
     "height": 51
    },
    "colab_type": "code",
    "id": "sGT_cKD7KyuS",
    "outputId": "48052707-26c9-4d6a-a947-9e4e7e6d0d55"
   },
   "outputs": [
    {
     "ename": "ModuleNotFoundError",
     "evalue": "No module named 'seaborn'",
     "output_type": "error",
     "traceback": [
      "\u001b[0;31m---------------------------------------------------------------------------\u001b[0m",
      "\u001b[0;31mModuleNotFoundError\u001b[0m                       Traceback (most recent call last)",
      "\u001b[0;32m<ipython-input-96-df91f5d8e1ed>\u001b[0m in \u001b[0;36m<module>\u001b[0;34m\u001b[0m\n\u001b[1;32m      2\u001b[0m \u001b[0;32mimport\u001b[0m \u001b[0mnumpy\u001b[0m \u001b[0;32mas\u001b[0m \u001b[0mnp\u001b[0m\u001b[0;34m\u001b[0m\u001b[0m\n\u001b[1;32m      3\u001b[0m \u001b[0;32mimport\u001b[0m \u001b[0mmatplotlib\u001b[0m\u001b[0;34m.\u001b[0m\u001b[0mpyplot\u001b[0m \u001b[0;32mas\u001b[0m \u001b[0mplt\u001b[0m\u001b[0;34m\u001b[0m\u001b[0m\n\u001b[0;32m----> 4\u001b[0;31m \u001b[0;32mimport\u001b[0m \u001b[0mseaborn\u001b[0m \u001b[0;32mas\u001b[0m \u001b[0msns\u001b[0m\u001b[0;34m\u001b[0m\u001b[0m\n\u001b[0m\u001b[1;32m      5\u001b[0m \u001b[0;32mfrom\u001b[0m \u001b[0msklearn\u001b[0m\u001b[0;34m.\u001b[0m\u001b[0mpreprocessing\u001b[0m \u001b[0;32mimport\u001b[0m \u001b[0mMinMaxScaler\u001b[0m\u001b[0;34m\u001b[0m\u001b[0m\n",
      "\u001b[0;31mModuleNotFoundError\u001b[0m: No module named 'seaborn'"
     ]
    }
   ],
   "source": [
    "import pandas as pd\n",
    "import numpy as np\n",
    "import matplotlib.pyplot as plt\n",
    "import seaborn as sns\n",
    "from sklearn.preprocessing import MinMaxScaler\n"
   ]
  },
  {
   "cell_type": "markdown",
   "metadata": {
    "colab_type": "text",
    "id": "JJwbUPQBX9zQ"
   },
   "source": [
    "# New Section"
   ]
  },
  {
   "cell_type": "code",
   "execution_count": null,
   "metadata": {
    "colab": {},
    "colab_type": "code",
    "id": "6V7qNkAPKyuY"
   },
   "outputs": [],
   "source": [
    "test = False # if it is True, then you are preprocessing test file.\n",
    "true_days_false_years = True # if True, process date as days, else calculate as years.\n",
    "\n",
    "labels_fpath = \"inputs/labels.csv\"\n",
    "\n",
    "if test == True:\n",
    "    input_fpath = \"inputs/test.csv\"\n",
    "    output_fpath = \"rfc_clean_test.csv\"\n",
    "    data = pd.read_csv(input_fpath)\n",
    "else:\n",
    "    input_fpath = \"inputs/train.csv\"\n",
    "    output_fpath = \"rfc_clean_train.csv\"\n",
    "    data = pd.read_csv(input_fpath)\n",
    "    data_values = pd.read_csv(labels_fpath)\n",
    "    data = data_values.merge(data, on='id')    "
   ]
  },
  {
   "cell_type": "markdown",
   "metadata": {
    "colab_type": "text",
    "id": "KT0788njKyue"
   },
   "source": [
    "##status_group-functional,non-functional or needs repair\n",
    "\n",
    "amount_tsh – Total static head (amount water available to waterpoint)\n",
    "\n",
    "date_recorded – The date the row was entered\n",
    "\n",
    "funder – Who funded the well\n",
    "\n",
    "gps_height – Altitude of the well\n",
    "\n",
    "installer – Organization that installed the well\n",
    "\n",
    "longitude – GPS coordinate\n",
    "\n",
    "latitude – GPS coordinate\n",
    "\n",
    "wpt_name – Name of the waterpoint if there is one\n",
    "\n",
    "num_private -No description\n",
    "\n",
    "basin – Geographic water basin\n",
    "\n",
    "subvillage – Geographic location\n",
    "\n",
    "region – Geographic location\n",
    "\n",
    "region_code – Geographic location (coded)\n",
    "\n",
    "district_code – Geographic location (coded)\n",
    "\n",
    "lga – Geographic location\n",
    "\n",
    "ward – Geographic location\n",
    "\n",
    "population – Population around the well\n",
    "\n",
    "public_meeting – True/False\n",
    "\n",
    "recorded_by – Group entering this row of data\n",
    "\n",
    "scheme_management – Who operates the water point\n",
    "\n",
    "scheme_name – Who operates the water point\n",
    "\n",
    "permit – If the water point is permitted\n",
    "\n",
    "construction_year – Year the water point was constructed\n",
    "\n",
    "extraction_type – The kind of extraction the water point uses\n",
    "\n",
    "extraction_type_group – The kind of extraction the water point uses\n",
    "\n",
    "extraction_type_class – The kind of extraction the water point uses\n",
    "\n",
    "management – How the water point is managed\n",
    "\n",
    "management_group – How the water point is managed\n",
    "\n",
    "payment – What the water costs\n",
    "\n",
    "payment_type – What the water costs\n",
    "\n",
    "water_quality – The quality of the water\n",
    "\n",
    "quality_group – The quality of the water\n",
    "\n",
    "quantity – The quantity of water\n",
    "\n",
    "quantity_group – The quantity of water\n",
    "\n",
    "source – The source of the water\n",
    "\n",
    "source_type – The source of the water\n",
    "\n",
    "source_class – The source of the water\n",
    "\n",
    "waterpoint_type – The kind of waterpoint\n",
    "\n",
    "waterpoint_type_group – The kind of waterpoint"
   ]
  },
  {
   "cell_type": "code",
   "execution_count": null,
   "metadata": {
    "colab": {
     "base_uri": "https://localhost:8080/",
     "height": 714
    },
    "colab_type": "code",
    "id": "HQofOhZ8Kyuf",
    "outputId": "b35419da-869e-4704-ee73-385d66e1421b"
   },
   "outputs": [],
   "source": [
    "#data.isnull().sum()\n",
    "#data.population.min()\n",
    "data['gps_height'].replace(0.0, np.nan, inplace=True)\n",
    "data['population'].replace(0.0, np.nan, inplace=True)\n",
    "data['amount_tsh'].replace(0.0, np.nan, inplace=True)\n",
    "data.isnull().sum()"
   ]
  },
  {
   "cell_type": "code",
   "execution_count": null,
   "metadata": {
    "colab": {
     "base_uri": "https://localhost:8080/",
     "height": 748
    },
    "colab_type": "code",
    "id": "kWojWSsZKyul",
    "outputId": "7a95c8d9-09d7-4460-b534-06b8a240e949"
   },
   "outputs": [],
   "source": [
    "data.groupby(['region','permit']).size() "
   ]
  },
  {
   "cell_type": "code",
   "execution_count": null,
   "metadata": {
    "colab": {
     "base_uri": "https://localhost:8080/",
     "height": 714
    },
    "colab_type": "code",
    "id": "Jl3-XSlsKyus",
    "outputId": "8232ce70-24da-4058-c756-2d206d44a5fa"
   },
   "outputs": [],
   "source": [
    "data[\"gps_height\"].fillna(data.groupby(['region', 'district_code'])[\"gps_height\"].transform(\"mean\"), inplace=True)\n",
    "data[\"gps_height\"].fillna(data.groupby(['region'])[\"gps_height\"].transform(\"mean\"), inplace=True)\n",
    "data[\"gps_height\"].fillna(data[\"gps_height\"].mean(), inplace=True)\n",
    "data[\"population\"].fillna(data.groupby(['region', 'district_code'])[\"population\"].transform(\"median\"), inplace=True)\n",
    "data[\"population\"].fillna(data.groupby(['region'])[\"population\"].transform(\"median\"), inplace=True)\n",
    "data[\"population\"].fillna(data[\"population\"].median(), inplace=True)\n",
    "data[\"amount_tsh\"].fillna(data.groupby(['region', 'district_code'])[\"amount_tsh\"].transform(\"median\"), inplace=True)\n",
    "data[\"amount_tsh\"].fillna(data.groupby(['region'])[\"amount_tsh\"].transform(\"median\"), inplace=True)\n",
    "data[\"amount_tsh\"].fillna(data[\"amount_tsh\"].median(), inplace=True)\n",
    "data.isnull().sum()"
   ]
  },
  {
   "cell_type": "code",
   "execution_count": null,
   "metadata": {
    "colab": {
     "base_uri": "https://localhost:8080/",
     "height": 51
    },
    "colab_type": "code",
    "id": "pvu98yMRKyuy",
    "outputId": "9b3183e1-6646-456c-9895-3cacb03cce9d"
   },
   "outputs": [],
   "source": [
    "print(data.latitude.max()-data.latitude.min())\n",
    "print(data.longitude.max()-data.longitude.min())"
   ]
  },
  {
   "cell_type": "code",
   "execution_count": null,
   "metadata": {
    "colab": {
     "base_uri": "https://localhost:8080/",
     "height": 714
    },
    "colab_type": "code",
    "id": "LomyYzQAKyu4",
    "outputId": "71541ad9-714b-4893-f7ac-8824d9306db4"
   },
   "outputs": [],
   "source": [
    "features=['amount_tsh', 'gps_height', 'population']\n",
    "scaler = MinMaxScaler(feature_range=(0,20))\n",
    "data[features] = scaler.fit_transform(data[features])\n",
    "data[features].head(20)\n",
    "data.isnull().sum()"
   ]
  },
  {
   "cell_type": "code",
   "execution_count": 97,
   "metadata": {
    "colab": {},
    "colab_type": "code",
    "id": "E_8VGlfhKywQ"
   },
   "outputs": [],
   "source": [
    "data['longitude'].replace(0.0, np.nan, inplace=True)\n",
    "data['latitude'].replace(0.0, np.nan, inplace=True)\n",
    "data['construction_year'].replace(0.0, np.nan, inplace=True)"
   ]
  },
  {
   "cell_type": "code",
   "execution_count": 98,
   "metadata": {
    "colab": {
     "base_uri": "https://localhost:8080/",
     "height": 238
    },
    "colab_type": "code",
    "id": "KCj4sql4KywV",
    "outputId": "a871b512-c589-4937-8c7f-17d25ddc9631"
   },
   "outputs": [
    {
     "data": {
      "text/plain": [
       "district_code  region         construction_year\n",
       "0              dodoma         2001.0                23\n",
       "1              arusha         1980.0                 2\n",
       "                              1990.0                23\n",
       "                              2000.0               140\n",
       "                              2010.0                24\n",
       "               dar es salaam  1970.0                24\n",
       "                              1990.0                 8\n",
       "                              2000.0                11\n",
       "                              2010.0                50\n",
       "               dodoma         2003.0               888\n",
       "               iringa         1964.0                 5\n",
       "                              1972.0                 3\n",
       "                              1974.0                 6\n",
       "                              1976.0                 2\n",
       "                              1978.0                13\n",
       "                              1981.0                 1\n",
       "                              1982.0                25\n",
       "                              1983.0                44\n",
       "                              1984.0                46\n",
       "                              1985.0                48\n",
       "                              1986.0                 5\n",
       "                              1987.0                38\n",
       "                              1988.0                 5\n",
       "                              1989.0                30\n",
       "                              1990.0                50\n",
       "                                                  ... \n",
       "62             lindi          2010.0                10\n",
       "                              2011.0                 6\n",
       "                              2012.0                 9\n",
       "63             mtwara         1976.0                17\n",
       "                              1977.0                 1\n",
       "                              1978.0                28\n",
       "                              1979.0                 1\n",
       "                              1981.0                 1\n",
       "                              1985.0                 2\n",
       "                              1986.0                13\n",
       "                              1989.0                 1\n",
       "                              1999.0                 2\n",
       "                              2001.0                 1\n",
       "                              2004.0                 1\n",
       "                              2005.0                15\n",
       "                              2006.0                 4\n",
       "                              2007.0                 7\n",
       "                              2008.0                23\n",
       "                              2009.0                14\n",
       "                              2010.0                17\n",
       "                              2011.0                 2\n",
       "                              2012.0                 8\n",
       "               pwani          2007.0                37\n",
       "67             pwani          2007.0                 6\n",
       "80             shinyanga      2005.0                12\n",
       "Length: 2313, dtype: int64"
      ]
     },
     "execution_count": 98,
     "metadata": {},
     "output_type": "execute_result"
    }
   ],
   "source": [
    "data.groupby(['district_code', 'region','construction_year']).size() "
   ]
  },
  {
   "cell_type": "code",
   "execution_count": 99,
   "metadata": {
    "colab": {
     "base_uri": "https://localhost:8080/",
     "height": 714
    },
    "colab_type": "code",
    "id": "c3InFOQeKywb",
    "outputId": "82878645-98c1-4839-cfdc-77358084a338"
   },
   "outputs": [
    {
     "name": "stdout",
     "output_type": "stream",
     "text": [
      "id                     0\n",
      "status_group           0\n",
      "amount_tsh             0\n",
      "days_since_recorded    0\n",
      "funder                 0\n",
      "gps_height             0\n",
      "installer              0\n",
      "longitude              0\n",
      "latitude               0\n",
      "basin                  0\n",
      "region                 0\n",
      "district_code          0\n",
      "lga                    0\n",
      "population             0\n",
      "scheme_management      0\n",
      "construction_year      0\n",
      "extraction_type        0\n",
      "management             0\n",
      "payment_type           0\n",
      "water_quality          0\n",
      "quantity               0\n",
      "source                 0\n",
      "waterpoint_type        0\n",
      "dtype: int64\n"
     ]
    }
   ],
   "source": [
    "data[\"latitude\"].fillna(data.groupby(['region', 'district_code'])[\"latitude\"].transform(\"mean\"), inplace=True)\n",
    "data[\"longitude\"].fillna(data.groupby(['region', 'district_code'])[\"longitude\"].transform(\"mean\"), inplace=True)\n",
    "data[\"longitude\"].fillna(data.groupby(['region'])[\"longitude\"].transform(\"mean\"), inplace=True)\n",
    "data[\"construction_year\"].fillna(data.groupby(['region', 'district_code'])[\"construction_year\"].transform(\"median\"), inplace=True)\n",
    "data[\"construction_year\"].fillna(data.groupby(['region'])[\"construction_year\"].transform(\"median\"), inplace=True)\n",
    "data[\"construction_year\"].fillna(data.groupby(['district_code'])[\"construction_year\"].transform(\"median\"), inplace=True)\n",
    "data[\"construction_year\"].fillna(data[\"construction_year\"].median(), inplace=True)\n",
    "print(data.isnull().sum())"
   ]
  },
  {
   "cell_type": "code",
   "execution_count": 100,
   "metadata": {
    "colab": {
     "base_uri": "https://localhost:8080/",
     "height": 221
    },
    "colab_type": "code",
    "id": "UOKbCM97Kywh",
    "outputId": "88c24199-7cae-453b-d6e9-b719a3fcd3e7"
   },
   "outputs": [
    {
     "ename": "AttributeError",
     "evalue": "'DataFrame' object has no attribute 'date_recorded'",
     "output_type": "error",
     "traceback": [
      "\u001b[0;31m---------------------------------------------------------------------------\u001b[0m",
      "\u001b[0;31mAttributeError\u001b[0m                            Traceback (most recent call last)",
      "\u001b[0;32m<ipython-input-100-e01f162e8e31>\u001b[0m in \u001b[0;36m<module>\u001b[0;34m\u001b[0m\n\u001b[1;32m      1\u001b[0m \u001b[0;31m#if water point is old, it is highly likely to be non functional or needs repair.\u001b[0m\u001b[0;34m\u001b[0m\u001b[0;34m\u001b[0m\u001b[0m\n\u001b[1;32m      2\u001b[0m \u001b[0;31m#New features were created namely number of days and number of months water point is operational.\u001b[0m\u001b[0;34m\u001b[0m\u001b[0;34m\u001b[0m\u001b[0m\n\u001b[0;32m----> 3\u001b[0;31m \u001b[0mprint\u001b[0m\u001b[0;34m(\u001b[0m\u001b[0mdata\u001b[0m\u001b[0;34m.\u001b[0m\u001b[0mdate_recorded\u001b[0m\u001b[0;34m.\u001b[0m\u001b[0mhead\u001b[0m\u001b[0;34m(\u001b[0m\u001b[0;36m5\u001b[0m\u001b[0;34m)\u001b[0m\u001b[0;34m)\u001b[0m\u001b[0;34m\u001b[0m\u001b[0m\n\u001b[0m\u001b[1;32m      4\u001b[0m \u001b[0mprint\u001b[0m\u001b[0;34m(\u001b[0m\u001b[0mdata\u001b[0m\u001b[0;34m.\u001b[0m\u001b[0mconstruction_year\u001b[0m\u001b[0;34m.\u001b[0m\u001b[0mhead\u001b[0m\u001b[0;34m(\u001b[0m\u001b[0;36m5\u001b[0m\u001b[0;34m)\u001b[0m\u001b[0;34m)\u001b[0m\u001b[0;34m\u001b[0m\u001b[0m\n",
      "\u001b[0;32m~/anaconda2/envs/py36/lib/python3.7/site-packages/pandas/core/generic.py\u001b[0m in \u001b[0;36m__getattr__\u001b[0;34m(self, name)\u001b[0m\n\u001b[1;32m   5065\u001b[0m             \u001b[0;32mif\u001b[0m \u001b[0mself\u001b[0m\u001b[0;34m.\u001b[0m\u001b[0m_info_axis\u001b[0m\u001b[0;34m.\u001b[0m\u001b[0m_can_hold_identifiers_and_holds_name\u001b[0m\u001b[0;34m(\u001b[0m\u001b[0mname\u001b[0m\u001b[0;34m)\u001b[0m\u001b[0;34m:\u001b[0m\u001b[0;34m\u001b[0m\u001b[0m\n\u001b[1;32m   5066\u001b[0m                 \u001b[0;32mreturn\u001b[0m \u001b[0mself\u001b[0m\u001b[0;34m[\u001b[0m\u001b[0mname\u001b[0m\u001b[0;34m]\u001b[0m\u001b[0;34m\u001b[0m\u001b[0m\n\u001b[0;32m-> 5067\u001b[0;31m             \u001b[0;32mreturn\u001b[0m \u001b[0mobject\u001b[0m\u001b[0;34m.\u001b[0m\u001b[0m__getattribute__\u001b[0m\u001b[0;34m(\u001b[0m\u001b[0mself\u001b[0m\u001b[0;34m,\u001b[0m \u001b[0mname\u001b[0m\u001b[0;34m)\u001b[0m\u001b[0;34m\u001b[0m\u001b[0m\n\u001b[0m\u001b[1;32m   5068\u001b[0m \u001b[0;34m\u001b[0m\u001b[0m\n\u001b[1;32m   5069\u001b[0m     \u001b[0;32mdef\u001b[0m \u001b[0m__setattr__\u001b[0m\u001b[0;34m(\u001b[0m\u001b[0mself\u001b[0m\u001b[0;34m,\u001b[0m \u001b[0mname\u001b[0m\u001b[0;34m,\u001b[0m \u001b[0mvalue\u001b[0m\u001b[0;34m)\u001b[0m\u001b[0;34m:\u001b[0m\u001b[0;34m\u001b[0m\u001b[0m\n",
      "\u001b[0;31mAttributeError\u001b[0m: 'DataFrame' object has no attribute 'date_recorded'"
     ]
    }
   ],
   "source": [
    "#if water point is old, it is highly likely to be non functional or needs repair.\n",
    "#New features were created namely number of days and number of months water point is operational.\n",
    "print(data.date_recorded.head(5))\n",
    "print(data.construction_year.head(5))\n"
   ]
  },
  {
   "cell_type": "code",
   "execution_count": null,
   "metadata": {
    "colab": {
     "base_uri": "https://localhost:8080/",
     "height": 323
    },
    "colab_type": "code",
    "id": "v_t4gDkqKywm",
    "outputId": "ee7692cd-ce26-4bb5-b26a-4b517d960549"
   },
   "outputs": [],
   "source": [
    "# date preprocessing\n",
    "# using as passing years\n",
    "if true_days_false_years:\n",
    "    # using as passing days.\n",
    "    data.date_recorded = pd.datetime(2013, 12, 3) - pd.to_datetime(data.date_recorded)\n",
    "    # date_recorded dropped in here.\n",
    "    data.columns = ['days_since_recorded' if x=='date_recorded' else x for x in data.columns]\n",
    "    data.days_since_recorded = data.days_since_recorded.astype('timedelta64[D]').astype(int)\n",
    "    print(data.days_since_recorded.describe())\n",
    "else:\n",
    "    data['date_recorded'] = pd.to_datetime(data['date_recorded'])\n",
    "    data.date_recorded.head(5)\n",
    "    print(data.date_recorded.dt.year.head(5))\n",
    "    print(data.construction_year.head(5))\n",
    "    data['operational_year'] = data.date_recorded.dt.year - data.construction_year\n",
    "    data.operational_year.head(5)\n",
    "    data.drop('data_recorded', axis=1, inplace=True)"
   ]
  },
  {
   "cell_type": "code",
   "execution_count": null,
   "metadata": {
    "colab": {
     "base_uri": "https://localhost:8080/",
     "height": 255
    },
    "colab_type": "code",
    "id": "UgI98KEZKyw2",
    "outputId": "d6d43159-e7c6-46ee-ad99-40baf8706b05"
   },
   "outputs": [],
   "source": [
    "#DATA Cleaning\n",
    "waste_features=['wpt_name','num_private','subvillage','region_code','recorded_by']\n",
    "#since region and region_code are representing the same thing\n",
    "data.drop(waste_features,axis=1,inplace=True)\n",
    "print(data.groupby(['management', 'management_group']).size() )\n",
    "data.drop('management_group',axis=1,inplace=True)"
   ]
  },
  {
   "cell_type": "code",
   "execution_count": null,
   "metadata": {
    "colab": {
     "base_uri": "https://localhost:8080/",
     "height": 340
    },
    "colab_type": "code",
    "id": "M9mXzn3kKyw6",
    "outputId": "15d1f556-2da2-4229-e70a-e7ca3d7cf103"
   },
   "outputs": [],
   "source": [
    "print(data.groupby(['extraction_type_group','extraction_type_class','extraction_type']).size()   )   \n",
    "data.drop('extraction_type_group',axis=1,inplace=True)"
   ]
  },
  {
   "cell_type": "code",
   "execution_count": null,
   "metadata": {
    "colab": {},
    "colab_type": "code",
    "id": "m59Qi2e_Kyw9"
   },
   "outputs": [],
   "source": [
    "data.drop('extraction_type_class',axis=1,inplace=True)"
   ]
  },
  {
   "cell_type": "code",
   "execution_count": null,
   "metadata": {
    "colab": {
     "base_uri": "https://localhost:8080/",
     "height": 238
    },
    "colab_type": "code",
    "id": "FMUk6CZGKyxC",
    "outputId": "b9334d04-a6fc-4c4c-91d8-0778eb434459"
   },
   "outputs": [],
   "source": [
    "data.groupby(['scheme_management', 'scheme_name']).size() "
   ]
  },
  {
   "cell_type": "code",
   "execution_count": null,
   "metadata": {
    "colab": {},
    "colab_type": "code",
    "id": "-ij3sKuiKyxF"
   },
   "outputs": [],
   "source": [
    "data.drop('scheme_name',axis=1,inplace=True)"
   ]
  },
  {
   "cell_type": "code",
   "execution_count": null,
   "metadata": {
    "colab": {
     "base_uri": "https://localhost:8080/",
     "height": 170
    },
    "colab_type": "code",
    "id": "1lMwHR1AKyxK",
    "outputId": "46f34475-bacd-4a47-8abc-a91fc1c42e77"
   },
   "outputs": [],
   "source": [
    "data.groupby(['payment', 'payment_type']).size() "
   ]
  },
  {
   "cell_type": "code",
   "execution_count": null,
   "metadata": {
    "colab": {},
    "colab_type": "code",
    "id": "rUVKypGKKyxQ"
   },
   "outputs": [],
   "source": [
    "data.drop('payment',axis=1,inplace=True)"
   ]
  },
  {
   "cell_type": "code",
   "execution_count": null,
   "metadata": {
    "colab": {
     "base_uri": "https://localhost:8080/",
     "height": 187
    },
    "colab_type": "code",
    "id": "ixN6aMf0KyxV",
    "outputId": "7ec6cbba-0a5e-495c-c0d4-202e83ea90d6"
   },
   "outputs": [],
   "source": [
    "data.groupby(['water_quality', 'quality_group']).size() "
   ]
  },
  {
   "cell_type": "code",
   "execution_count": null,
   "metadata": {
    "colab": {},
    "colab_type": "code",
    "id": "FBLACs9eKyxb"
   },
   "outputs": [],
   "source": [
    "data.drop('quality_group',axis=1,inplace=True)"
   ]
  },
  {
   "cell_type": "code",
   "execution_count": null,
   "metadata": {
    "colab": {
     "base_uri": "https://localhost:8080/",
     "height": 136
    },
    "colab_type": "code",
    "id": "p58wEm_-Kyxk",
    "outputId": "a38a6f45-ee12-4354-c304-0ba60a6c8b29"
   },
   "outputs": [],
   "source": [
    "data.groupby(['quantity', 'quantity_group']).size() "
   ]
  },
  {
   "cell_type": "code",
   "execution_count": null,
   "metadata": {
    "colab": {},
    "colab_type": "code",
    "id": "b7sE8jYHKyxq"
   },
   "outputs": [],
   "source": [
    "data.drop('quantity_group',axis=1,inplace=True)"
   ]
  },
  {
   "cell_type": "code",
   "execution_count": null,
   "metadata": {
    "colab": {
     "base_uri": "https://localhost:8080/",
     "height": 221
    },
    "colab_type": "code",
    "id": "PucZ4C1QKyxy",
    "outputId": "ca471654-0435-4f62-c4d8-6e927bd42970"
   },
   "outputs": [],
   "source": [
    "data.groupby(['source', 'source_type', 'source_class']).size() "
   ]
  },
  {
   "cell_type": "code",
   "execution_count": null,
   "metadata": {
    "colab": {},
    "colab_type": "code",
    "id": "RSQrFXWaKyx2"
   },
   "outputs": [],
   "source": [
    "data.drop('source_type',axis=1,inplace=True)"
   ]
  },
  {
   "cell_type": "code",
   "execution_count": null,
   "metadata": {
    "colab": {},
    "colab_type": "code",
    "id": "TO-xPxGfKyx7"
   },
   "outputs": [],
   "source": [
    "data.drop('source_class',axis=1,inplace=True)"
   ]
  },
  {
   "cell_type": "code",
   "execution_count": null,
   "metadata": {
    "colab": {
     "base_uri": "https://localhost:8080/",
     "height": 170
    },
    "colab_type": "code",
    "id": "3T5KsYNeKyyA",
    "outputId": "53f468f4-8df3-43b4-9fb6-07d5ba6aed7e"
   },
   "outputs": [],
   "source": [
    "data.groupby(['waterpoint_type', 'waterpoint_type_group']).size() "
   ]
  },
  {
   "cell_type": "code",
   "execution_count": null,
   "metadata": {
    "colab": {},
    "colab_type": "code",
    "id": "IvxgtXGOKyyD"
   },
   "outputs": [],
   "source": [
    "# as they are the same name, drop one of them.(waterpoint_type is more spesific.)\n",
    "data.drop('waterpoint_type_group',axis=1,inplace=True)"
   ]
  },
  {
   "cell_type": "code",
   "execution_count": null,
   "metadata": {
    "colab": {
     "base_uri": "https://localhost:8080/",
     "height": 578
    },
    "colab_type": "code",
    "id": "T158YLv8KyyH",
    "outputId": "b9702d7a-eaf9-4aa0-9fb9-f46350cdc8bc"
   },
   "outputs": [],
   "source": [
    "data.info()"
   ]
  },
  {
   "cell_type": "code",
   "execution_count": null,
   "metadata": {
    "colab": {},
    "colab_type": "code",
    "id": "6czkoJiEKyyN"
   },
   "outputs": [],
   "source": [
    "data.drop('ward',axis=1,inplace=True)"
   ]
  },
  {
   "cell_type": "code",
   "execution_count": null,
   "metadata": {
    "colab": {
     "base_uri": "https://localhost:8080/",
     "height": 561
    },
    "colab_type": "code",
    "id": "xl9TnXQFKyyQ",
    "outputId": "f8c87672-5910-43bb-d961-78457de1cb2a"
   },
   "outputs": [],
   "source": [
    "data.info()"
   ]
  },
  {
   "cell_type": "code",
   "execution_count": null,
   "metadata": {
    "colab": {
     "base_uri": "https://localhost:8080/",
     "height": 238
    },
    "colab_type": "code",
    "id": "WQmwL7hiKyyT",
    "outputId": "52d0a2fe-8825-422d-97d0-4b39bcad24cf"
   },
   "outputs": [],
   "source": [
    "# data.groupby(['installer', 'funder','status_group']).size() "
   ]
  },
  {
   "cell_type": "code",
   "execution_count": null,
   "metadata": {
    "colab": {},
    "colab_type": "code",
    "id": "z5RcR3g4KyyY"
   },
   "outputs": [],
   "source": [
    "# data.drop('installer',axis=1,inplace=True)\n",
    "# INSTALLER STAYS"
   ]
  },
  {
   "cell_type": "code",
   "execution_count": null,
   "metadata": {
    "colab": {
     "base_uri": "https://localhost:8080/",
     "height": 459
    },
    "colab_type": "code",
    "id": "XPs3e3FWKyyf",
    "outputId": "f23237ac-a4f1-4164-e940-47a94d08b0a8"
   },
   "outputs": [],
   "source": [
    "data.isnull().sum()"
   ]
  },
  {
   "cell_type": "code",
   "execution_count": null,
   "metadata": {
    "colab": {},
    "colab_type": "code",
    "id": "lvBWOcxDKyyj"
   },
   "outputs": [],
   "source": [
    "data.drop('public_meeting', axis=1, inplace=True)\n",
    "data.drop('permit', axis=1, inplace=True)"
   ]
  },
  {
   "cell_type": "code",
   "execution_count": null,
   "metadata": {
    "colab": {
     "base_uri": "https://localhost:8080/",
     "height": 425
    },
    "colab_type": "code",
    "id": "pehk6c8DKyyo",
    "outputId": "0eccf64b-2291-4df4-b2b0-1c323826ef28"
   },
   "outputs": [],
   "source": [
    "data.isnull().sum()"
   ]
  },
  {
   "cell_type": "code",
   "execution_count": null,
   "metadata": {
    "colab": {
     "base_uri": "https://localhost:8080/",
     "height": 527
    },
    "colab_type": "code",
    "id": "vXWJXRuxKyys",
    "outputId": "2e75810e-6bd0-44e2-b918-d66f6658fcaf"
   },
   "outputs": [],
   "source": [
    "data.info()"
   ]
  },
  {
   "cell_type": "code",
   "execution_count": null,
   "metadata": {
    "colab": {},
    "colab_type": "code",
    "id": "rFpnIBJzKyyw"
   },
   "outputs": [],
   "source": [
    "#For every categorical response, convert the levels to lower case, in case there is random capitalization\n",
    "data.waterpoint_type = data.waterpoint_type.str.lower()\n",
    "data.funder = data.funder.str.lower()\n",
    "data.basin = data.basin.str.lower()\n",
    "data.region = data.region.str.lower()\n",
    "data.source = data.source.str.lower()\n",
    "data.lga = data.lga.str.lower()\n",
    "data.management = data.management.str.lower()\n",
    "data.quantity = data.quantity.str.lower()\n",
    "data.water_quality = data.water_quality.str.lower()\n",
    "data.payment_type=data.payment_type.str.lower()\n",
    "data.extraction_type=data.extraction_type.str.lower()"
   ]
  },
  {
   "cell_type": "code",
   "execution_count": null,
   "metadata": {
    "colab": {
     "base_uri": "https://localhost:8080/",
     "height": 748
    },
    "colab_type": "code",
    "id": "I57DD2PcKyy0",
    "outputId": "d4771a45-d082-4516-bded-cd4e36cbc203"
   },
   "outputs": [],
   "source": [
    "data[\"funder\"].fillna(\"other\", inplace=True)\n",
    "data[\"scheme_management\"].fillna(\"other\", inplace=True)\n",
    "data[\"installer\"].fillna(\"other\", inplace=True)\n",
    "print(data.isnull().sum())\n",
    "data.info()\n",
    "data.quantity.head(5)"
   ]
  },
  {
   "cell_type": "code",
   "execution_count": null,
   "metadata": {},
   "outputs": [],
   "source": [
    "# Add column named 'status_group_vals' to allow the use of a pivot table to check differences\n",
    "# between the different funders.\n",
    "\n",
    "#vals_to_replace = {'functional':2, 'functional needs repair':1, 'non functional':0}\n",
    "#data['status_group_vals']  = data.status_group.replace(vals_to_replace)\n",
    "\n",
    "#piv_table = pd.pivot_table(data,index=['funder','status_group'],values='status_group_vals', aggfunc='count')\n",
    "\n",
    "\n",
    "\n",
    "sorted_funder = data.groupby(['funder']).size().sort_values(ascending=False)\n",
    "print(sorted_funder)\n",
    "\n",
    "def funder_wrangler(row):  \n",
    "    '''Keep top 5 values and set the rest to 'other'''\n",
    "\n",
    "    if row['funder']=='government of tanzania':\n",
    "        return 'gov'\n",
    "    elif row['funder']=='danida':\n",
    "        return 'danida'\n",
    "    elif row['funder']=='hesawa':\n",
    "        return 'hesawa'\n",
    "    elif row['funder']=='rwssp':\n",
    "        return 'rwssp'\n",
    "    elif row['funder']=='world bank':\n",
    "        return 'world_bank'    \n",
    "    elif row['funder']=='kkkt':\n",
    "        return 'kkkt'\n",
    "    elif row['funder']=='world vision':\n",
    "        return 'world vision'\n",
    "    elif row['funder']=='unicef':\n",
    "        return 'unicef'\n",
    "    else:\n",
    "        return 'other'\n",
    "    \n",
    "#df['funder'] = df.apply(lambda row: funder_wrangler(row), axis=1)"
   ]
  },
  {
   "cell_type": "code",
   "execution_count": null,
   "metadata": {
    "colab": {},
    "colab_type": "code",
    "id": "GiGHfLKxKyzO"
   },
   "outputs": [],
   "source": [
    "# observation = data.groupby(['installer', 'status_group']).filter(lambda x : pd.Series(['UNICEF']).isin(x['installer']).all()).groupby(['installer', 'status_group']).size()\n",
    "\n",
    "\n",
    "# to see them all\n",
    "pd.set_option('display.max_rows', 500)\n",
    "\n",
    "# get most frequent installers\n",
    "#sorted_installers = data.groupby(['installer']).size().sort_values(ascending=False)\n",
    "\n",
    "\n",
    "# this is checked by -> data.groupby(['installer']).size().sort_values(ascending=False)\n",
    "# as I observed, most of others distribution is normal, so we won't lose valueable data.\n",
    "\n",
    "# keep the top ones, mark other as \"other\"\n",
    "def installer_wrangler(row):\n",
    "    if row['installer']=='DWE':\n",
    "        return 'dwe'\n",
    "    elif row['installer']=='Government':\n",
    "        return 'gov'\n",
    "    elif row['installer']=='RWE':\n",
    "        return 'rwe'\n",
    "    elif row['installer']=='Commu':\n",
    "        return 'commu'\n",
    "    elif row['installer']=='DANIDA':\n",
    "        return 'danida'\n",
    "    elif row['installer']=='KKKT':\n",
    "        return 'kkkt'\n",
    "    elif row['installer']== 'Hesawa':\n",
    "        return 'hesawa'\n",
    "    else:\n",
    "        return 'other'  \n",
    "\n",
    "data['installer'] = data.apply(lambda row: installer_wrangler(row), axis=1)"
   ]
  },
  {
   "cell_type": "code",
   "execution_count": null,
   "metadata": {
    "scrolled": false
   },
   "outputs": [],
   "source": [
    "pd.set_option('display.max_rows', 50)\n",
    "data.isnull().sum()\n",
    "\n",
    "\n",
    "\n",
    "def scheme_wrangler(row):\n",
    "    '''Keep top 5 values and set the rest to 'other'. '''\n",
    "    if row['scheme_management']=='VWC':\n",
    "        return 'vwc'\n",
    "    elif row['scheme_management']=='WUG':\n",
    "        return 'wug'\n",
    "    elif row['scheme_management']=='Water authority':\n",
    "        return 'wtr_auth'\n",
    "    elif row['scheme_management']=='WUA':\n",
    "        return 'wua'\n",
    "    elif row['scheme_management']=='Water Board':\n",
    "        return 'wtr_brd'\n",
    "    else:\n",
    "        return 'other'\n",
    "\n",
    "\n",
    "data.scheme_management.unique()\n",
    "data.groupby(['scheme_management']).size()\n"
   ]
  },
  {
   "cell_type": "code",
   "execution_count": null,
   "metadata": {},
   "outputs": [],
   "source": [
    "data['scheme_management'] = data.apply(lambda row: scheme_wrangler(row), axis=1)"
   ]
  },
  {
   "cell_type": "code",
   "execution_count": null,
   "metadata": {},
   "outputs": [],
   "source": [
    "data.groupby(['extraction_type']).size()"
   ]
  },
  {
   "cell_type": "code",
   "execution_count": null,
   "metadata": {},
   "outputs": [],
   "source": [
    "#checking final rows\n",
    "data.info()"
   ]
  },
  {
   "cell_type": "code",
   "execution_count": null,
   "metadata": {},
   "outputs": [],
   "source": [
    "# basin, lga, region, ward seems so similiar.\n",
    "# we dropped ward earlier.\n",
    "region_data = data.groupby(['region'])['status_group'].sum()\n",
    "\n",
    "sns.catplot(x='region', y='status_group', data=region_data, kind='bar')"
   ]
  },
  {
   "cell_type": "code",
   "execution_count": null,
   "metadata": {},
   "outputs": [],
   "source": [
    "pd.DataFrame(data).to_csv(output_fpath)"
   ]
  }
 ],
 "metadata": {
  "colab": {
   "include_colab_link": true,
   "name": "rfc_cleaning.ipynb",
   "provenance": [],
   "toc_visible": true
  },
  "kernelspec": {
   "display_name": "Python 3",
   "language": "python",
   "name": "python3"
  },
  "language_info": {
   "codemirror_mode": {
    "name": "ipython",
    "version": 3
   },
   "file_extension": ".py",
   "mimetype": "text/x-python",
   "name": "python",
   "nbconvert_exporter": "python",
   "pygments_lexer": "ipython3",
   "version": "3.7.0"
  }
 },
 "nbformat": 4,
 "nbformat_minor": 1
}
