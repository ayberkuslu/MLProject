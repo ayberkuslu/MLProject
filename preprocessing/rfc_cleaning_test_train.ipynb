{
  "nbformat": 4,
  "nbformat_minor": 0,
  "metadata": {
    "kernelspec": {
      "display_name": "Python 3",
      "language": "python",
      "name": "python3"
    },
    "language_info": {
      "codemirror_mode": {
        "name": "ipython",
        "version": 3
      },
      "file_extension": ".py",
      "mimetype": "text/x-python",
      "name": "python",
      "nbconvert_exporter": "python",
      "pygments_lexer": "ipython3",
      "version": "3.6.5"
    },
    "colab": {
      "name": "rfc_cleaning.ipynb",
      "provenance": [],
      "toc_visible": true,
      "include_colab_link": true
    }
  },
  "cells": [
    {
      "cell_type": "markdown",
      "metadata": {
        "id": "view-in-github",
        "colab_type": "text"
      },
      "source": [
        "<a href=\"https://colab.research.google.com/github/ayberkuslu/MLProject/blob/master/rfc_cleaning_test_train.ipynb\" target=\"_parent\"><img src=\"https://colab.research.google.com/assets/colab-badge.svg\" alt=\"Open In Colab\"/></a>"
      ]
    },
    {
      "cell_type": "code",
      "metadata": {
        "id": "sGT_cKD7KyuS",
        "colab_type": "code",
        "colab": {}
      },
      "source": [
        "import pandas as pd\n",
        "import numpy as np\n",
        "import matplotlib.pyplot as plt\n",
        "import seaborn as sns\n",
        "from sklearn.preprocessing import MinMaxScaler\n"
      ],
      "execution_count": 56,
      "outputs": []
    },
    {
      "cell_type": "markdown",
      "metadata": {
        "id": "JJwbUPQBX9zQ",
        "colab_type": "text"
      },
      "source": [
        "# New Section"
      ]
    },
    {
      "cell_type": "code",
      "metadata": {
        "id": "6V7qNkAPKyuY",
        "colab_type": "code",
        "colab": {}
      },
      "source": [
        "data_labels=pd.read_csv('/content/train.csv')\n",
        "data_values=pd.read_csv('/content/labels.csv')\n",
        "data = data_values.merge(data_labels, on='id')"
      ],
      "execution_count": 57,
      "outputs": []
    },
    {
      "cell_type": "markdown",
      "metadata": {
        "id": "KT0788njKyue",
        "colab_type": "text"
      },
      "source": [
        "##status_group-functional,non-functional or needs repair\n",
        "\n",
        "amount_tsh – Total static head (amount water available to waterpoint)\n",
        "\n",
        "date_recorded – The date the row was entered\n",
        "\n",
        "funder – Who funded the well\n",
        "\n",
        "gps_height – Altitude of the well\n",
        "\n",
        "installer – Organization that installed the well\n",
        "\n",
        "longitude – GPS coordinate\n",
        "\n",
        "latitude – GPS coordinate\n",
        "\n",
        "wpt_name – Name of the waterpoint if there is one\n",
        "\n",
        "num_private -No description\n",
        "\n",
        "basin – Geographic water basin\n",
        "\n",
        "subvillage – Geographic location\n",
        "\n",
        "region – Geographic location\n",
        "\n",
        "region_code – Geographic location (coded)\n",
        "\n",
        "district_code – Geographic location (coded)\n",
        "\n",
        "lga – Geographic location\n",
        "\n",
        "ward – Geographic location\n",
        "\n",
        "population – Population around the well\n",
        "\n",
        "public_meeting – True/False\n",
        "\n",
        "recorded_by – Group entering this row of data\n",
        "\n",
        "scheme_management – Who operates the water point\n",
        "\n",
        "scheme_name – Who operates the water point\n",
        "\n",
        "permit – If the water point is permitted\n",
        "\n",
        "construction_year – Year the water point was constructed\n",
        "\n",
        "extraction_type – The kind of extraction the water point uses\n",
        "\n",
        "extraction_type_group – The kind of extraction the water point uses\n",
        "\n",
        "extraction_type_class – The kind of extraction the water point uses\n",
        "\n",
        "management – How the water point is managed\n",
        "\n",
        "management_group – How the water point is managed\n",
        "\n",
        "payment – What the water costs\n",
        "\n",
        "payment_type – What the water costs\n",
        "\n",
        "water_quality – The quality of the water\n",
        "\n",
        "quality_group – The quality of the water\n",
        "\n",
        "quantity – The quantity of water\n",
        "\n",
        "quantity_group – The quantity of water\n",
        "\n",
        "source – The source of the water\n",
        "\n",
        "source_type – The source of the water\n",
        "\n",
        "source_class – The source of the water\n",
        "\n",
        "waterpoint_type – The kind of waterpoint\n",
        "\n",
        "waterpoint_type_group – The kind of waterpoint"
      ]
    },
    {
      "cell_type": "code",
      "metadata": {
        "id": "HQofOhZ8Kyuf",
        "colab_type": "code",
        "colab": {
          "base_uri": "https://localhost:8080/",
          "height": 731
        },
        "outputId": "6c4ae4a4-121f-4832-cbb9-027f9d51bee7"
      },
      "source": [
        "data.isnull().sum()\n",
        "data.population.min()\n",
        "data['gps_height'].replace(0.0, np.nan, inplace=True)\n",
        "data['population'].replace(0.0, np.nan, inplace=True)\n",
        "data['amount_tsh'].replace(0.0, np.nan, inplace=True)\n",
        "data.isnull().sum()"
      ],
      "execution_count": 58,
      "outputs": [
        {
          "output_type": "execute_result",
          "data": {
            "text/plain": [
              "id                           0\n",
              "status_group                 0\n",
              "amount_tsh               41639\n",
              "date_recorded                0\n",
              "funder                    3635\n",
              "gps_height                   0\n",
              "installer                 3655\n",
              "longitude                    0\n",
              "latitude                     0\n",
              "wpt_name                     0\n",
              "num_private                  0\n",
              "basin                        0\n",
              "subvillage                 371\n",
              "region                       0\n",
              "region_code                  0\n",
              "district_code                0\n",
              "lga                          0\n",
              "ward                         0\n",
              "population                   0\n",
              "public_meeting            3334\n",
              "recorded_by                  0\n",
              "scheme_management         3877\n",
              "scheme_name              28166\n",
              "permit                    3056\n",
              "construction_year            0\n",
              "extraction_type              0\n",
              "extraction_type_group        0\n",
              "extraction_type_class        0\n",
              "management                   0\n",
              "management_group             0\n",
              "payment                      0\n",
              "payment_type                 0\n",
              "water_quality                0\n",
              "quality_group                0\n",
              "quantity                     0\n",
              "quantity_group               0\n",
              "source                       0\n",
              "source_type                  0\n",
              "source_class                 0\n",
              "waterpoint_type              0\n",
              "waterpoint_type_group        0\n",
              "dtype: int64"
            ]
          },
          "metadata": {
            "tags": []
          },
          "execution_count": 58
        }
      ]
    },
    {
      "cell_type": "code",
      "metadata": {
        "id": "kWojWSsZKyul",
        "colab_type": "code",
        "colab": {
          "base_uri": "https://localhost:8080/",
          "height": 748
        },
        "outputId": "af222761-d2d1-463e-a923-4fd2e1f704c6"
      },
      "source": [
        "data.groupby(['region','permit']).size() "
      ],
      "execution_count": 59,
      "outputs": [
        {
          "output_type": "execute_result",
          "data": {
            "text/plain": [
              "region         permit\n",
              "Arusha         False      255\n",
              "               True      2650\n",
              "Dar es Salaam  False      777\n",
              "Dodoma         False     1212\n",
              "               True       989\n",
              "Iringa         False     2117\n",
              "               True      3174\n",
              "Kagera         False      795\n",
              "               True      2521\n",
              "Kigoma         False     1160\n",
              "               True      1656\n",
              "Kilimanjaro    False      445\n",
              "               True      3796\n",
              "Lindi          False      733\n",
              "               True       813\n",
              "Manyara        False       77\n",
              "               True      1506\n",
              "Mara           False      604\n",
              "               True       998\n",
              "Mbeya          False     1399\n",
              "               True      2134\n",
              "Morogoro       False       39\n",
              "               True      3967\n",
              "Mtwara         False      419\n",
              "               True      1311\n",
              "Mwanza         False      127\n",
              "               True      2975\n",
              "Pwani          False     1105\n",
              "               True      1530\n",
              "Rukwa          False      646\n",
              "               True      1162\n",
              "Ruvuma         False      840\n",
              "               True      1798\n",
              "Shinyanga      False     2618\n",
              "               True      2364\n",
              "Singida        False      321\n",
              "               True       805\n",
              "Tabora         False      634\n",
              "               True      1325\n",
              "Tanga          False     1169\n",
              "               True      1378\n",
              "dtype: int64"
            ]
          },
          "metadata": {
            "tags": []
          },
          "execution_count": 59
        }
      ]
    },
    {
      "cell_type": "code",
      "metadata": {
        "id": "Jl3-XSlsKyus",
        "colab_type": "code",
        "colab": {
          "base_uri": "https://localhost:8080/",
          "height": 731
        },
        "outputId": "2d036d9a-5da4-4987-f8b1-6237a217536b"
      },
      "source": [
        "data[\"gps_height\"].fillna(data.groupby(['region', 'district_code'])[\"gps_height\"].transform(\"mean\"), inplace=True)\n",
        "data[\"gps_height\"].fillna(data.groupby(['region'])[\"gps_height\"].transform(\"mean\"), inplace=True)\n",
        "data[\"gps_height\"].fillna(data[\"gps_height\"].mean(), inplace=True)\n",
        "data[\"population\"].fillna(data.groupby(['region', 'district_code'])[\"population\"].transform(\"median\"), inplace=True)\n",
        "data[\"population\"].fillna(data.groupby(['region'])[\"population\"].transform(\"median\"), inplace=True)\n",
        "data[\"population\"].fillna(data[\"population\"].median(), inplace=True)\n",
        "data[\"amount_tsh\"].fillna(data.groupby(['region', 'district_code'])[\"amount_tsh\"].transform(\"median\"), inplace=True)\n",
        "data[\"amount_tsh\"].fillna(data.groupby(['region'])[\"amount_tsh\"].transform(\"median\"), inplace=True)\n",
        "data[\"amount_tsh\"].fillna(data[\"amount_tsh\"].median(), inplace=True)\n",
        "data.isnull().sum()"
      ],
      "execution_count": 60,
      "outputs": [
        {
          "output_type": "execute_result",
          "data": {
            "text/plain": [
              "id                           0\n",
              "status_group                 0\n",
              "amount_tsh                   0\n",
              "date_recorded                0\n",
              "funder                    3635\n",
              "gps_height                   0\n",
              "installer                 3655\n",
              "longitude                    0\n",
              "latitude                     0\n",
              "wpt_name                     0\n",
              "num_private                  0\n",
              "basin                        0\n",
              "subvillage                 371\n",
              "region                       0\n",
              "region_code                  0\n",
              "district_code                0\n",
              "lga                          0\n",
              "ward                         0\n",
              "population                   0\n",
              "public_meeting            3334\n",
              "recorded_by                  0\n",
              "scheme_management         3877\n",
              "scheme_name              28166\n",
              "permit                    3056\n",
              "construction_year            0\n",
              "extraction_type              0\n",
              "extraction_type_group        0\n",
              "extraction_type_class        0\n",
              "management                   0\n",
              "management_group             0\n",
              "payment                      0\n",
              "payment_type                 0\n",
              "water_quality                0\n",
              "quality_group                0\n",
              "quantity                     0\n",
              "quantity_group               0\n",
              "source                       0\n",
              "source_type                  0\n",
              "source_class                 0\n",
              "waterpoint_type              0\n",
              "waterpoint_type_group        0\n",
              "dtype: int64"
            ]
          },
          "metadata": {
            "tags": []
          },
          "execution_count": 60
        }
      ]
    },
    {
      "cell_type": "code",
      "metadata": {
        "id": "pvu98yMRKyuy",
        "colab_type": "code",
        "colab": {
          "base_uri": "https://localhost:8080/",
          "height": 51
        },
        "outputId": "ce38ca90-5395-4396-ef55-e49a7bbf1401"
      },
      "source": [
        "print(data.latitude.max()-data.latitude.min())\n",
        "print(data.longitude.max()-data.longitude.min())"
      ],
      "execution_count": 61,
      "outputs": [
        {
          "output_type": "stream",
          "text": [
            "11.64944016\n",
            "40.34519307\n"
          ],
          "name": "stdout"
        }
      ]
    },
    {
      "cell_type": "code",
      "metadata": {
        "id": "LomyYzQAKyu4",
        "colab_type": "code",
        "colab": {
          "base_uri": "https://localhost:8080/",
          "height": 731
        },
        "outputId": "769951e8-832a-486d-c0d8-03f11aa19e43"
      },
      "source": [
        "features=['amount_tsh', 'gps_height', 'population']\n",
        "scaler = MinMaxScaler(feature_range=(0,20))\n",
        "data[features] = scaler.fit_transform(data[features])\n",
        "data[features].head(20)\n",
        "data.isnull().sum()"
      ],
      "execution_count": 62,
      "outputs": [
        {
          "output_type": "execute_result",
          "data": {
            "text/plain": [
              "id                           0\n",
              "status_group                 0\n",
              "amount_tsh                   0\n",
              "date_recorded                0\n",
              "funder                    3635\n",
              "gps_height                   0\n",
              "installer                 3655\n",
              "longitude                    0\n",
              "latitude                     0\n",
              "wpt_name                     0\n",
              "num_private                  0\n",
              "basin                        0\n",
              "subvillage                 371\n",
              "region                       0\n",
              "region_code                  0\n",
              "district_code                0\n",
              "lga                          0\n",
              "ward                         0\n",
              "population                   0\n",
              "public_meeting            3334\n",
              "recorded_by                  0\n",
              "scheme_management         3877\n",
              "scheme_name              28166\n",
              "permit                    3056\n",
              "construction_year            0\n",
              "extraction_type              0\n",
              "extraction_type_group        0\n",
              "extraction_type_class        0\n",
              "management                   0\n",
              "management_group             0\n",
              "payment                      0\n",
              "payment_type                 0\n",
              "water_quality                0\n",
              "quality_group                0\n",
              "quantity                     0\n",
              "quantity_group               0\n",
              "source                       0\n",
              "source_type                  0\n",
              "source_class                 0\n",
              "waterpoint_type              0\n",
              "waterpoint_type_group        0\n",
              "dtype: int64"
            ]
          },
          "metadata": {
            "tags": []
          },
          "execution_count": 62
        }
      ]
    },
    {
      "cell_type": "code",
      "metadata": {
        "id": "m-ut32ZGKyu-",
        "colab_type": "code",
        "colab": {}
      },
      "source": [
        ""
      ],
      "execution_count": 62,
      "outputs": []
    },
    {
      "cell_type": "code",
      "metadata": {
        "id": "JasNT785KyvD",
        "colab_type": "code",
        "colab": {
          "base_uri": "https://localhost:8080/",
          "height": 35
        },
        "outputId": "ac820c25-959c-4290-fef7-eb17771113f4"
      },
      "source": [
        "\"\"\"\n",
        "plt.figure(figsize=(13,6))\n",
        "sns.countplot(data.status_group, palette = 'Set3')\n",
        "data.status_group.value_counts()\n",
        "\"\"\""
      ],
      "execution_count": 63,
      "outputs": [
        {
          "output_type": "execute_result",
          "data": {
            "application/vnd.google.colaboratory.intrinsic": {
              "type": "string"
            },
            "text/plain": [
              "\"\\nplt.figure(figsize=(13,6))\\nsns.countplot(data.status_group, palette = 'Set3')\\ndata.status_group.value_counts()\\n\""
            ]
          },
          "metadata": {
            "tags": []
          },
          "execution_count": 63
        }
      ]
    },
    {
      "cell_type": "code",
      "metadata": {
        "id": "6p1GN0lxKyvI",
        "colab_type": "code",
        "colab": {
          "base_uri": "https://localhost:8080/",
          "height": 52
        },
        "outputId": "ff091dd7-d2f1-46bd-c582-e75185cab710"
      },
      "source": [
        "\"\"\"\n",
        "plt.figure(figsize=(14,6))\n",
        "sns.countplot(data=data,x='water_quality',hue='status_group')\n",
        "plt.legend(bbox_to_anchor=(1.05, 1), loc=2, borderaxespad=0.)\n",
        "data.water_quality.value_counts()\n",
        "\"\"\""
      ],
      "execution_count": 64,
      "outputs": [
        {
          "output_type": "execute_result",
          "data": {
            "application/vnd.google.colaboratory.intrinsic": {
              "type": "string"
            },
            "text/plain": [
              "\"\\nplt.figure(figsize=(14,6))\\nsns.countplot(data=data,x='water_quality',hue='status_group')\\nplt.legend(bbox_to_anchor=(1.05, 1), loc=2, borderaxespad=0.)\\ndata.water_quality.value_counts()\\n\""
            ]
          },
          "metadata": {
            "tags": []
          },
          "execution_count": 64
        }
      ]
    },
    {
      "cell_type": "code",
      "metadata": {
        "id": "GB_0aS7pKyvM",
        "colab_type": "code",
        "colab": {
          "base_uri": "https://localhost:8080/",
          "height": 35
        },
        "outputId": "9469c8cf-c96c-438b-aaa2-90f5821d0a05"
      },
      "source": [
        "#looking at regions\n",
        "\"\"\"\n",
        "plt.figure(figsize=(24, 9))\n",
        "\n",
        "sns.countplot(data=data,x='region',hue='status_group')\n",
        "\"\"\""
      ],
      "execution_count": 65,
      "outputs": [
        {
          "output_type": "execute_result",
          "data": {
            "application/vnd.google.colaboratory.intrinsic": {
              "type": "string"
            },
            "text/plain": [
              "\"\\nplt.figure(figsize=(24, 9))\\n\\nsns.countplot(data=data,x='region',hue='status_group')\\n\""
            ]
          },
          "metadata": {
            "tags": []
          },
          "execution_count": 65
        }
      ]
    },
    {
      "cell_type": "code",
      "metadata": {
        "id": "G69J9tNRKyvV",
        "colab_type": "code",
        "colab": {
          "base_uri": "https://localhost:8080/",
          "height": 35
        },
        "outputId": "43852e6d-1a4f-47b4-df39-976f044d6aec"
      },
      "source": [
        "\"\"\"\"\n",
        "plt.figure(figsize=(24, 9))\n",
        "\n",
        "sns.countplot(data=data,x='public_meeting',hue='status_group')\n",
        "\"\"\""
      ],
      "execution_count": 66,
      "outputs": [
        {
          "output_type": "execute_result",
          "data": {
            "application/vnd.google.colaboratory.intrinsic": {
              "type": "string"
            },
            "text/plain": [
              "'\"\\nplt.figure(figsize=(24, 9))\\n\\nsns.countplot(data=data,x=\\'public_meeting\\',hue=\\'status_group\\')\\n'"
            ]
          },
          "metadata": {
            "tags": []
          },
          "execution_count": 66
        }
      ]
    },
    {
      "cell_type": "code",
      "metadata": {
        "id": "HvSA-tqBKyvb",
        "colab_type": "code",
        "colab": {}
      },
      "source": [
        "# (sns\n",
        "#   .FacetGrid(data, \n",
        "#              hue='status_group',size=14)\n",
        "#   .map(sns.kdeplot, 'population', shade=True)\n",
        "#  .add_legend()\n",
        "# )\n",
        "\n"
      ],
      "execution_count": 67,
      "outputs": []
    },
    {
      "cell_type": "code",
      "metadata": {
        "id": "zImPWvX4Kyvg",
        "colab_type": "code",
        "colab": {}
      },
      "source": [
        "# (sns\n",
        "#   .FacetGrid(data, \n",
        "#              hue='status_group',size=10)\n",
        "#   .map(sns.kdeplot, 'construction_year', shade=True)\n",
        "#  .add_legend()\n",
        "# )"
      ],
      "execution_count": 68,
      "outputs": []
    },
    {
      "cell_type": "code",
      "metadata": {
        "id": "Vs2G3BPpKyvk",
        "colab_type": "code",
        "colab": {}
      },
      "source": [
        "# (sns\n",
        "#   .FacetGrid(data, \n",
        "#              hue='status_group',size=10)\n",
        "#   .map(sns.kdeplot, 'gps_height', shade=True)\n",
        "#  .add_legend()\n",
        "# )"
      ],
      "execution_count": 69,
      "outputs": []
    },
    {
      "cell_type": "code",
      "metadata": {
        "id": "DW4GSHSMKyvo",
        "colab_type": "code",
        "colab": {}
      },
      "source": [
        "# (sns\n",
        "#   .FacetGrid(data, \n",
        "#              hue='status_group',size=10)\n",
        "#   .map(sns.kdeplot, 'latitude', shade=True)\n",
        "#  .add_legend()\n",
        "# )"
      ],
      "execution_count": 70,
      "outputs": []
    },
    {
      "cell_type": "code",
      "metadata": {
        "id": "yXNrCVCxKyvu",
        "colab_type": "code",
        "colab": {}
      },
      "source": [
        "# (sns\n",
        "#   .FacetGrid(data, \n",
        "#              hue='status_group',size=10)\n",
        "#   .map(sns.kdeplot, 'longitude', shade=True)\n",
        "#  .add_legend()\n",
        "# )"
      ],
      "execution_count": 71,
      "outputs": []
    },
    {
      "cell_type": "code",
      "metadata": {
        "id": "oKavqFHjKyvy",
        "colab_type": "code",
        "colab": {}
      },
      "source": [
        "# (sns\n",
        "#   .FacetGrid(data, \n",
        "#              hue='status_group',size=15)\n",
        "#   .map(sns.kdeplot, 'amount_tsh', shade=True)\n",
        "#  .add_legend()\n",
        "# )"
      ],
      "execution_count": 72,
      "outputs": []
    },
    {
      "cell_type": "code",
      "metadata": {
        "id": "rOSR_LEfKyv6",
        "colab_type": "code",
        "colab": {}
      },
      "source": [
        "# plt.figure(figsize=(24, 9))\n",
        "\n",
        "# sns.countplot(data=data,x='source_type',hue='status_group')"
      ],
      "execution_count": 73,
      "outputs": []
    },
    {
      "cell_type": "code",
      "metadata": {
        "id": "YCOIyIuwKyv_",
        "colab_type": "code",
        "colab": {}
      },
      "source": [
        "# plt.figure(figsize=(24, 9))\n",
        "\n",
        "# sns.countplot(data=data,x='extraction_type_group',hue='status_group')"
      ],
      "execution_count": 74,
      "outputs": []
    },
    {
      "cell_type": "code",
      "metadata": {
        "id": "WwxyxYobKywD",
        "colab_type": "code",
        "colab": {}
      },
      "source": [
        "# plt.figure(figsize=(24, 9))\n",
        "\n",
        "# sns.countplot(data=data,x='extraction_type_class',hue='status_group')"
      ],
      "execution_count": 75,
      "outputs": []
    },
    {
      "cell_type": "code",
      "metadata": {
        "id": "p0YkFadPKywH",
        "colab_type": "code",
        "colab": {}
      },
      "source": [
        "# plt.figure(figsize=(24, 9))\n",
        "\n",
        "# sns.countplot(data=data,x='waterpoint_type',hue='status_group')"
      ],
      "execution_count": 76,
      "outputs": []
    },
    {
      "cell_type": "code",
      "metadata": {
        "id": "YP9oc6VzKywN",
        "colab_type": "code",
        "colab": {}
      },
      "source": [
        "# plt.figure(figsize=(24, 9))\n",
        "\n",
        "# sns.countplot(data=data,x='quantity',hue='status_group')"
      ],
      "execution_count": 77,
      "outputs": []
    },
    {
      "cell_type": "code",
      "metadata": {
        "id": "E_8VGlfhKywQ",
        "colab_type": "code",
        "colab": {}
      },
      "source": [
        "data['longitude'].replace(0.0, np.nan, inplace=True)\n",
        "data['latitude'].replace(0.0, np.nan, inplace=True)\n",
        "data['construction_year'].replace(0.0, np.nan, inplace=True)"
      ],
      "execution_count": 78,
      "outputs": []
    },
    {
      "cell_type": "code",
      "metadata": {
        "id": "KCj4sql4KywV",
        "colab_type": "code",
        "colab": {
          "base_uri": "https://localhost:8080/",
          "height": 238
        },
        "outputId": "6d34d6a5-9beb-4d15-9a99-87e2c43cf0b1"
      },
      "source": [
        "data.groupby(['district_code', 'region','construction_year']).size() "
      ],
      "execution_count": 79,
      "outputs": [
        {
          "output_type": "execute_result",
          "data": {
            "text/plain": [
              "district_code  region     construction_year\n",
              "0              Dodoma     0                     23\n",
              "1              Arusha     0                      3\n",
              "                          1980                   2\n",
              "                          1990                  23\n",
              "                          2000                 137\n",
              "                                              ... \n",
              "63             Mtwara     2011                   2\n",
              "                          2012                   8\n",
              "               Pwani      0                     37\n",
              "67             Pwani      0                      6\n",
              "80             Shinyanga  0                     12\n",
              "Length: 2374, dtype: int64"
            ]
          },
          "metadata": {
            "tags": []
          },
          "execution_count": 79
        }
      ]
    },
    {
      "cell_type": "code",
      "metadata": {
        "id": "c3InFOQeKywb",
        "colab_type": "code",
        "colab": {
          "base_uri": "https://localhost:8080/",
          "height": 731
        },
        "outputId": "a59b1dd8-6522-4bb0-e0c7-dfcee075ad05"
      },
      "source": [
        "data[\"latitude\"].fillna(data.groupby(['region', 'district_code'])[\"latitude\"].transform(\"mean\"), inplace=True)\n",
        "data[\"longitude\"].fillna(data.groupby(['region', 'district_code'])[\"longitude\"].transform(\"mean\"), inplace=True)\n",
        "data[\"longitude\"].fillna(data.groupby(['region'])[\"longitude\"].transform(\"mean\"), inplace=True)\n",
        "data[\"construction_year\"].fillna(data.groupby(['region', 'district_code'])[\"construction_year\"].transform(\"median\"), inplace=True)\n",
        "data[\"construction_year\"].fillna(data.groupby(['region'])[\"construction_year\"].transform(\"median\"), inplace=True)\n",
        "data[\"construction_year\"].fillna(data.groupby(['district_code'])[\"construction_year\"].transform(\"median\"), inplace=True)\n",
        "data[\"construction_year\"].fillna(data[\"construction_year\"].median(), inplace=True)\n",
        "print(data.isnull().sum())"
      ],
      "execution_count": 80,
      "outputs": [
        {
          "output_type": "stream",
          "text": [
            "id                           0\n",
            "status_group                 0\n",
            "amount_tsh                   0\n",
            "date_recorded                0\n",
            "funder                    3635\n",
            "gps_height                   0\n",
            "installer                 3655\n",
            "longitude                    0\n",
            "latitude                     0\n",
            "wpt_name                     0\n",
            "num_private                  0\n",
            "basin                        0\n",
            "subvillage                 371\n",
            "region                       0\n",
            "region_code                  0\n",
            "district_code                0\n",
            "lga                          0\n",
            "ward                         0\n",
            "population                   0\n",
            "public_meeting            3334\n",
            "recorded_by                  0\n",
            "scheme_management         3877\n",
            "scheme_name              28166\n",
            "permit                    3056\n",
            "construction_year            0\n",
            "extraction_type              0\n",
            "extraction_type_group        0\n",
            "extraction_type_class        0\n",
            "management                   0\n",
            "management_group             0\n",
            "payment                      0\n",
            "payment_type                 0\n",
            "water_quality                0\n",
            "quality_group                0\n",
            "quantity                     0\n",
            "quantity_group               0\n",
            "source                       0\n",
            "source_type                  0\n",
            "source_class                 0\n",
            "waterpoint_type              0\n",
            "waterpoint_type_group        0\n",
            "dtype: int64\n"
          ],
          "name": "stdout"
        }
      ]
    },
    {
      "cell_type": "code",
      "metadata": {
        "id": "UOKbCM97Kywh",
        "colab_type": "code",
        "colab": {
          "base_uri": "https://localhost:8080/",
          "height": 221
        },
        "outputId": "acd35e5b-2e5b-4764-9bcc-4c5f4b197b15"
      },
      "source": [
        "#if water point is old, it is highly likely to be non functional or needs repair.\n",
        "#New features were created namely number of days and number of months water point is operational.\n",
        "print(data.date_recorded.head(5))\n",
        "print(data.construction_year.head(5))\n"
      ],
      "execution_count": 81,
      "outputs": [
        {
          "output_type": "stream",
          "text": [
            "0    2011-03-14\n",
            "1    2013-03-06\n",
            "2    2013-02-25\n",
            "3    2013-01-28\n",
            "4    2011-07-13\n",
            "Name: date_recorded, dtype: object\n",
            "0    1999\n",
            "1    2010\n",
            "2    2009\n",
            "3    1986\n",
            "4       0\n",
            "Name: construction_year, dtype: int64\n"
          ],
          "name": "stdout"
        }
      ]
    },
    {
      "cell_type": "code",
      "metadata": {
        "id": "v_t4gDkqKywm",
        "colab_type": "code",
        "colab": {
          "base_uri": "https://localhost:8080/",
          "height": 323
        },
        "outputId": "ca0aaf82-c553-405f-91b2-73fe3a72ddab"
      },
      "source": [
        "data.isnull().sum()\n",
        "data['date_recorded'] = pd.to_datetime(data['date_recorded'])\n",
        "data.date_recorded.head(5)\n",
        "print(data.date_recorded.dt.year.head(5))\n",
        "print(data.construction_year.head(5))\n",
        "data['operational_year'] = data.date_recorded.dt.year - data.construction_year\n",
        "data.operational_year.head(5)"
      ],
      "execution_count": 82,
      "outputs": [
        {
          "output_type": "stream",
          "text": [
            "0    2011\n",
            "1    2013\n",
            "2    2013\n",
            "3    2013\n",
            "4    2011\n",
            "Name: date_recorded, dtype: int64\n",
            "0    1999\n",
            "1    2010\n",
            "2    2009\n",
            "3    1986\n",
            "4       0\n",
            "Name: construction_year, dtype: int64\n"
          ],
          "name": "stdout"
        },
        {
          "output_type": "execute_result",
          "data": {
            "text/plain": [
              "0      12\n",
              "1       3\n",
              "2       4\n",
              "3      27\n",
              "4    2011\n",
              "Name: operational_year, dtype: int64"
            ]
          },
          "metadata": {
            "tags": []
          },
          "execution_count": 82
        }
      ]
    },
    {
      "cell_type": "code",
      "metadata": {
        "id": "8rjeHIbNKywq",
        "colab_type": "code",
        "colab": {}
      },
      "source": [
        ""
      ],
      "execution_count": 82,
      "outputs": []
    },
    {
      "cell_type": "code",
      "metadata": {
        "id": "eSKvvO07Kywu",
        "colab_type": "code",
        "colab": {}
      },
      "source": [
        "# (sns\n",
        "#   .FacetGrid(data, \n",
        "#              hue='status_group',size=14)\n",
        "#   .map(sns.kdeplot, 'operational_year', shade=True)\n",
        "#  .add_legend()\n",
        "# )"
      ],
      "execution_count": 83,
      "outputs": []
    },
    {
      "cell_type": "code",
      "metadata": {
        "id": "MLSA13ruKywz",
        "colab_type": "code",
        "colab": {}
      },
      "source": [
        "# plt.figure(figsize=(24, 9))\n",
        "# sns.countplot(data=data,x='payment_type',hue='status_group')"
      ],
      "execution_count": 84,
      "outputs": []
    },
    {
      "cell_type": "code",
      "metadata": {
        "id": "UgI98KEZKyw2",
        "colab_type": "code",
        "colab": {
          "base_uri": "https://localhost:8080/",
          "height": 255
        },
        "outputId": "63e76f09-c2c0-4be0-edbd-1780b66fca8d"
      },
      "source": [
        "#DATA Cleaning\n",
        "waste_features=['wpt_name','num_private','subvillage','region_code','recorded_by']\n",
        "#since region and region_code are representing the same thing\n",
        "data.drop(waste_features,axis=1,inplace=True)\n",
        "print(data.groupby(['management', 'management_group']).size() )\n",
        "data.drop('management_group',axis=1,inplace=True)"
      ],
      "execution_count": 85,
      "outputs": [
        {
          "output_type": "stream",
          "text": [
            "management        management_group\n",
            "company           commercial            685\n",
            "other             other                 844\n",
            "other - school    other                  99\n",
            "parastatal        parastatal           1768\n",
            "private operator  commercial           1971\n",
            "trust             commercial             78\n",
            "unknown           unknown               561\n",
            "vwc               user-group          40507\n",
            "water authority   commercial            904\n",
            "water board       user-group           2933\n",
            "wua               user-group           2535\n",
            "wug               user-group           6515\n",
            "dtype: int64\n"
          ],
          "name": "stdout"
        }
      ]
    },
    {
      "cell_type": "code",
      "metadata": {
        "id": "M9mXzn3kKyw6",
        "colab_type": "code",
        "colab": {
          "base_uri": "https://localhost:8080/",
          "height": 357
        },
        "outputId": "2e24e39c-10a7-40d4-ba70-062ff82e24dc"
      },
      "source": [
        "print(data.groupby(['extraction_type_group','extraction_type_class','extraction_type']).size()   )   \n",
        "data.drop('extraction_type_group',axis=1,inplace=True)"
      ],
      "execution_count": 86,
      "outputs": [
        {
          "output_type": "stream",
          "text": [
            "extraction_type_group  extraction_type_class  extraction_type          \n",
            "afridev                handpump               afridev                       1770\n",
            "gravity                gravity                gravity                      26780\n",
            "india mark ii          handpump               india mark ii                 2400\n",
            "india mark iii         handpump               india mark iii                  98\n",
            "mono                   motorpump              mono                          2865\n",
            "nira/tanira            handpump               nira/tanira                   8154\n",
            "other                  other                  other                         6430\n",
            "other handpump         handpump               other - mkulima/shinyanga        2\n",
            "                                              other - play pump               85\n",
            "                                              other - swn 81                 229\n",
            "                                              walimi                          48\n",
            "other motorpump        motorpump              cemo                            90\n",
            "                                              climax                          32\n",
            "rope pump              rope pump              other - rope pump              451\n",
            "submersible            submersible            ksb                           1415\n",
            "                                              submersible                   4764\n",
            "swn 80                 handpump               swn 80                        3670\n",
            "wind-powered           wind-powered           windmill                       117\n",
            "dtype: int64\n"
          ],
          "name": "stdout"
        }
      ]
    },
    {
      "cell_type": "code",
      "metadata": {
        "id": "m59Qi2e_Kyw9",
        "colab_type": "code",
        "colab": {}
      },
      "source": [
        "data.drop('extraction_type_class',axis=1,inplace=True)"
      ],
      "execution_count": 87,
      "outputs": []
    },
    {
      "cell_type": "code",
      "metadata": {
        "id": "FMUk6CZGKyxC",
        "colab_type": "code",
        "colab": {
          "base_uri": "https://localhost:8080/",
          "height": 238
        },
        "outputId": "fed1a794-3cf4-4ac9-9c78-69f3b1f3a7a2"
      },
      "source": [
        "data.groupby(['scheme_management', 'scheme_name']).size() "
      ],
      "execution_count": 88,
      "outputs": [
        {
          "output_type": "execute_result",
          "data": {
            "text/plain": [
              "scheme_management  scheme_name              \n",
              "Company            BFFS                           1\n",
              "                   Bagamoyo Wate                 60\n",
              "                   Bagamoyo wate                210\n",
              "                   Borehole                       1\n",
              "                   Borehole drilling project      1\n",
              "                                               ... \n",
              "Water authority    Yongoma                       16\n",
              "                   Zepalama                       5\n",
              "                   no scheme                      9\n",
              "                   pump                           2\n",
              "                   water supply at Kalebejo       1\n",
              "Length: 3077, dtype: int64"
            ]
          },
          "metadata": {
            "tags": []
          },
          "execution_count": 88
        }
      ]
    },
    {
      "cell_type": "code",
      "metadata": {
        "id": "-ij3sKuiKyxF",
        "colab_type": "code",
        "colab": {}
      },
      "source": [
        "data.drop('scheme_name',axis=1,inplace=True)"
      ],
      "execution_count": 89,
      "outputs": []
    },
    {
      "cell_type": "code",
      "metadata": {
        "id": "1lMwHR1AKyxK",
        "colab_type": "code",
        "colab": {
          "base_uri": "https://localhost:8080/",
          "height": 170
        },
        "outputId": "06c81145-16e9-47f2-fd37-9636acee0546"
      },
      "source": [
        "data.groupby(['payment', 'payment_type']).size() "
      ],
      "execution_count": 90,
      "outputs": [
        {
          "output_type": "execute_result",
          "data": {
            "text/plain": [
              "payment                payment_type\n",
              "never pay              never pay       25348\n",
              "other                  other            1054\n",
              "pay annually           annually         3642\n",
              "pay monthly            monthly          8300\n",
              "pay per bucket         per bucket       8985\n",
              "pay when scheme fails  on failure       3914\n",
              "unknown                unknown          8157\n",
              "dtype: int64"
            ]
          },
          "metadata": {
            "tags": []
          },
          "execution_count": 90
        }
      ]
    },
    {
      "cell_type": "code",
      "metadata": {
        "id": "rUVKypGKKyxQ",
        "colab_type": "code",
        "colab": {}
      },
      "source": [
        "data.drop('payment',axis=1,inplace=True)"
      ],
      "execution_count": 91,
      "outputs": []
    },
    {
      "cell_type": "code",
      "metadata": {
        "id": "ixN6aMf0KyxV",
        "colab_type": "code",
        "colab": {
          "base_uri": "https://localhost:8080/",
          "height": 187
        },
        "outputId": "2b4764ab-0923-46ca-eb01-12da0a0126d8"
      },
      "source": [
        "data.groupby(['water_quality', 'quality_group']).size() "
      ],
      "execution_count": 92,
      "outputs": [
        {
          "output_type": "execute_result",
          "data": {
            "text/plain": [
              "water_quality       quality_group\n",
              "coloured            colored            490\n",
              "fluoride            fluoride           200\n",
              "fluoride abandoned  fluoride            17\n",
              "milky               milky              804\n",
              "salty               salty             4856\n",
              "salty abandoned     salty              339\n",
              "soft                good             50818\n",
              "unknown             unknown           1876\n",
              "dtype: int64"
            ]
          },
          "metadata": {
            "tags": []
          },
          "execution_count": 92
        }
      ]
    },
    {
      "cell_type": "code",
      "metadata": {
        "id": "FBLACs9eKyxb",
        "colab_type": "code",
        "colab": {}
      },
      "source": [
        "data.drop('quality_group',axis=1,inplace=True)"
      ],
      "execution_count": 93,
      "outputs": []
    },
    {
      "cell_type": "code",
      "metadata": {
        "id": "p58wEm_-Kyxk",
        "colab_type": "code",
        "colab": {
          "base_uri": "https://localhost:8080/",
          "height": 136
        },
        "outputId": "c2b9fbe3-cacd-4fee-99ab-a6ec0b1c2615"
      },
      "source": [
        "data.groupby(['quantity', 'quantity_group']).size() "
      ],
      "execution_count": 94,
      "outputs": [
        {
          "output_type": "execute_result",
          "data": {
            "text/plain": [
              "quantity      quantity_group\n",
              "dry           dry                6246\n",
              "enough        enough            33186\n",
              "insufficient  insufficient      15129\n",
              "seasonal      seasonal           4050\n",
              "unknown       unknown             789\n",
              "dtype: int64"
            ]
          },
          "metadata": {
            "tags": []
          },
          "execution_count": 94
        }
      ]
    },
    {
      "cell_type": "code",
      "metadata": {
        "id": "b7sE8jYHKyxq",
        "colab_type": "code",
        "colab": {}
      },
      "source": [
        "data.drop('quantity_group',axis=1,inplace=True)"
      ],
      "execution_count": 95,
      "outputs": []
    },
    {
      "cell_type": "code",
      "metadata": {
        "id": "PucZ4C1QKyxy",
        "colab_type": "code",
        "colab": {
          "base_uri": "https://localhost:8080/",
          "height": 221
        },
        "outputId": "c08913a1-d90f-43cf-a4c0-8630935011a4"
      },
      "source": [
        "data.groupby(['source', 'source_type', 'source_class']).size() "
      ],
      "execution_count": 96,
      "outputs": [
        {
          "output_type": "execute_result",
          "data": {
            "text/plain": [
              "source                source_type           source_class\n",
              "dam                   dam                   surface           656\n",
              "hand dtw              borehole              groundwater       874\n",
              "lake                  river/lake            surface           765\n",
              "machine dbh           borehole              groundwater     11075\n",
              "other                 other                 unknown           212\n",
              "rainwater harvesting  rainwater harvesting  surface          2295\n",
              "river                 river/lake            surface          9612\n",
              "shallow well          shallow well          groundwater     16824\n",
              "spring                spring                groundwater     17021\n",
              "unknown               other                 unknown            66\n",
              "dtype: int64"
            ]
          },
          "metadata": {
            "tags": []
          },
          "execution_count": 96
        }
      ]
    },
    {
      "cell_type": "code",
      "metadata": {
        "id": "RSQrFXWaKyx2",
        "colab_type": "code",
        "colab": {}
      },
      "source": [
        "data.drop('source_type',axis=1,inplace=True)"
      ],
      "execution_count": 97,
      "outputs": []
    },
    {
      "cell_type": "code",
      "metadata": {
        "id": "TO-xPxGfKyx7",
        "colab_type": "code",
        "colab": {}
      },
      "source": [
        "data.drop('source_class',axis=1,inplace=True)"
      ],
      "execution_count": 98,
      "outputs": []
    },
    {
      "cell_type": "code",
      "metadata": {
        "id": "3T5KsYNeKyyA",
        "colab_type": "code",
        "colab": {
          "base_uri": "https://localhost:8080/",
          "height": 170
        },
        "outputId": "ee9595fc-d49d-454c-91c3-db2a333dce5b"
      },
      "source": [
        "data.groupby(['waterpoint_type', 'waterpoint_type_group']).size() "
      ],
      "execution_count": 99,
      "outputs": [
        {
          "output_type": "execute_result",
          "data": {
            "text/plain": [
              "waterpoint_type              waterpoint_type_group\n",
              "cattle trough                cattle trough              116\n",
              "communal standpipe           communal standpipe       28522\n",
              "communal standpipe multiple  communal standpipe        6103\n",
              "dam                          dam                          7\n",
              "hand pump                    hand pump                17488\n",
              "improved spring              improved spring            784\n",
              "other                        other                     6380\n",
              "dtype: int64"
            ]
          },
          "metadata": {
            "tags": []
          },
          "execution_count": 99
        }
      ]
    },
    {
      "cell_type": "code",
      "metadata": {
        "id": "IvxgtXGOKyyD",
        "colab_type": "code",
        "colab": {}
      },
      "source": [
        "data.drop('waterpoint_type_group',axis=1,inplace=True)"
      ],
      "execution_count": 100,
      "outputs": []
    },
    {
      "cell_type": "code",
      "metadata": {
        "id": "T158YLv8KyyH",
        "colab_type": "code",
        "colab": {
          "base_uri": "https://localhost:8080/",
          "height": 595
        },
        "outputId": "a78ee24c-8a79-4cf8-a25f-4f963244f784"
      },
      "source": [
        "data.info()"
      ],
      "execution_count": 101,
      "outputs": [
        {
          "output_type": "stream",
          "text": [
            "<class 'pandas.core.frame.DataFrame'>\n",
            "Int64Index: 59400 entries, 0 to 59399\n",
            "Data columns (total 27 columns):\n",
            " #   Column             Non-Null Count  Dtype         \n",
            "---  ------             --------------  -----         \n",
            " 0   id                 59400 non-null  int64         \n",
            " 1   status_group       59400 non-null  object        \n",
            " 2   amount_tsh         59400 non-null  float64       \n",
            " 3   date_recorded      59400 non-null  datetime64[ns]\n",
            " 4   funder             55765 non-null  object        \n",
            " 5   gps_height         59400 non-null  float64       \n",
            " 6   installer          55745 non-null  object        \n",
            " 7   longitude          59400 non-null  float64       \n",
            " 8   latitude           59400 non-null  float64       \n",
            " 9   basin              59400 non-null  object        \n",
            " 10  region             59400 non-null  object        \n",
            " 11  district_code      59400 non-null  int64         \n",
            " 12  lga                59400 non-null  object        \n",
            " 13  ward               59400 non-null  object        \n",
            " 14  population         59400 non-null  float64       \n",
            " 15  public_meeting     56066 non-null  object        \n",
            " 16  scheme_management  55523 non-null  object        \n",
            " 17  permit             56344 non-null  object        \n",
            " 18  construction_year  59400 non-null  int64         \n",
            " 19  extraction_type    59400 non-null  object        \n",
            " 20  management         59400 non-null  object        \n",
            " 21  payment_type       59400 non-null  object        \n",
            " 22  water_quality      59400 non-null  object        \n",
            " 23  quantity           59400 non-null  object        \n",
            " 24  source             59400 non-null  object        \n",
            " 25  waterpoint_type    59400 non-null  object        \n",
            " 26  operational_year   59400 non-null  int64         \n",
            "dtypes: datetime64[ns](1), float64(5), int64(4), object(17)\n",
            "memory usage: 12.7+ MB\n"
          ],
          "name": "stdout"
        }
      ]
    },
    {
      "cell_type": "code",
      "metadata": {
        "id": "vg0hhLwvKyyK",
        "colab_type": "code",
        "colab": {}
      },
      "source": [
        "# print(data.groupby(['lga', 'ward','status_group']).size() )\n",
        "# #print(data.groupby(['lga', 'ward']).size() )"
      ],
      "execution_count": 102,
      "outputs": []
    },
    {
      "cell_type": "code",
      "metadata": {
        "id": "6czkoJiEKyyN",
        "colab_type": "code",
        "colab": {}
      },
      "source": [
        "data.drop('ward',axis=1,inplace=True)"
      ],
      "execution_count": 103,
      "outputs": []
    },
    {
      "cell_type": "code",
      "metadata": {
        "id": "xl9TnXQFKyyQ",
        "colab_type": "code",
        "colab": {
          "base_uri": "https://localhost:8080/",
          "height": 578
        },
        "outputId": "566c0cf1-a90e-4101-d7a5-a51a0eac653e"
      },
      "source": [
        "data.info()"
      ],
      "execution_count": 104,
      "outputs": [
        {
          "output_type": "stream",
          "text": [
            "<class 'pandas.core.frame.DataFrame'>\n",
            "Int64Index: 59400 entries, 0 to 59399\n",
            "Data columns (total 26 columns):\n",
            " #   Column             Non-Null Count  Dtype         \n",
            "---  ------             --------------  -----         \n",
            " 0   id                 59400 non-null  int64         \n",
            " 1   status_group       59400 non-null  object        \n",
            " 2   amount_tsh         59400 non-null  float64       \n",
            " 3   date_recorded      59400 non-null  datetime64[ns]\n",
            " 4   funder             55765 non-null  object        \n",
            " 5   gps_height         59400 non-null  float64       \n",
            " 6   installer          55745 non-null  object        \n",
            " 7   longitude          59400 non-null  float64       \n",
            " 8   latitude           59400 non-null  float64       \n",
            " 9   basin              59400 non-null  object        \n",
            " 10  region             59400 non-null  object        \n",
            " 11  district_code      59400 non-null  int64         \n",
            " 12  lga                59400 non-null  object        \n",
            " 13  population         59400 non-null  float64       \n",
            " 14  public_meeting     56066 non-null  object        \n",
            " 15  scheme_management  55523 non-null  object        \n",
            " 16  permit             56344 non-null  object        \n",
            " 17  construction_year  59400 non-null  int64         \n",
            " 18  extraction_type    59400 non-null  object        \n",
            " 19  management         59400 non-null  object        \n",
            " 20  payment_type       59400 non-null  object        \n",
            " 21  water_quality      59400 non-null  object        \n",
            " 22  quantity           59400 non-null  object        \n",
            " 23  source             59400 non-null  object        \n",
            " 24  waterpoint_type    59400 non-null  object        \n",
            " 25  operational_year   59400 non-null  int64         \n",
            "dtypes: datetime64[ns](1), float64(5), int64(4), object(16)\n",
            "memory usage: 12.2+ MB\n"
          ],
          "name": "stdout"
        }
      ]
    },
    {
      "cell_type": "code",
      "metadata": {
        "id": "WQmwL7hiKyyT",
        "colab_type": "code",
        "colab": {}
      },
      "source": [
        "# data.groupby(['installer', 'funder','status_group']).size() "
      ],
      "execution_count": 105,
      "outputs": []
    },
    {
      "cell_type": "code",
      "metadata": {
        "id": "z5RcR3g4KyyY",
        "colab_type": "code",
        "colab": {}
      },
      "source": [
        "# data.drop('installer',axis=1,inplace=True)\n",
        "# INSTALLER STAYS"
      ],
      "execution_count": 106,
      "outputs": []
    },
    {
      "cell_type": "code",
      "metadata": {
        "id": "XPs3e3FWKyyf",
        "colab_type": "code",
        "colab": {
          "base_uri": "https://localhost:8080/",
          "height": 476
        },
        "outputId": "5ce6423b-963c-4c64-d017-a9001b4d57e4"
      },
      "source": [
        "data.isnull().sum()"
      ],
      "execution_count": 107,
      "outputs": [
        {
          "output_type": "execute_result",
          "data": {
            "text/plain": [
              "id                      0\n",
              "status_group            0\n",
              "amount_tsh              0\n",
              "date_recorded           0\n",
              "funder               3635\n",
              "gps_height              0\n",
              "installer            3655\n",
              "longitude               0\n",
              "latitude                0\n",
              "basin                   0\n",
              "region                  0\n",
              "district_code           0\n",
              "lga                     0\n",
              "population              0\n",
              "public_meeting       3334\n",
              "scheme_management    3877\n",
              "permit               3056\n",
              "construction_year       0\n",
              "extraction_type         0\n",
              "management              0\n",
              "payment_type            0\n",
              "water_quality           0\n",
              "quantity                0\n",
              "source                  0\n",
              "waterpoint_type         0\n",
              "operational_year        0\n",
              "dtype: int64"
            ]
          },
          "metadata": {
            "tags": []
          },
          "execution_count": 107
        }
      ]
    },
    {
      "cell_type": "code",
      "metadata": {
        "id": "lvBWOcxDKyyj",
        "colab_type": "code",
        "colab": {}
      },
      "source": [
        "data.drop('public_meeting', axis=1, inplace=True)\n",
        "data.drop('permit', axis=1, inplace=True)"
      ],
      "execution_count": 108,
      "outputs": []
    },
    {
      "cell_type": "code",
      "metadata": {
        "id": "pehk6c8DKyyo",
        "colab_type": "code",
        "colab": {
          "base_uri": "https://localhost:8080/",
          "height": 442
        },
        "outputId": "e773f3bf-8aea-41b7-cc67-7ffd4a91fbb9"
      },
      "source": [
        "data.isnull().sum()"
      ],
      "execution_count": 109,
      "outputs": [
        {
          "output_type": "execute_result",
          "data": {
            "text/plain": [
              "id                      0\n",
              "status_group            0\n",
              "amount_tsh              0\n",
              "date_recorded           0\n",
              "funder               3635\n",
              "gps_height              0\n",
              "installer            3655\n",
              "longitude               0\n",
              "latitude                0\n",
              "basin                   0\n",
              "region                  0\n",
              "district_code           0\n",
              "lga                     0\n",
              "population              0\n",
              "scheme_management    3877\n",
              "construction_year       0\n",
              "extraction_type         0\n",
              "management              0\n",
              "payment_type            0\n",
              "water_quality           0\n",
              "quantity                0\n",
              "source                  0\n",
              "waterpoint_type         0\n",
              "operational_year        0\n",
              "dtype: int64"
            ]
          },
          "metadata": {
            "tags": []
          },
          "execution_count": 109
        }
      ]
    },
    {
      "cell_type": "code",
      "metadata": {
        "id": "vXWJXRuxKyys",
        "colab_type": "code",
        "colab": {
          "base_uri": "https://localhost:8080/",
          "height": 544
        },
        "outputId": "2ea5ccc9-fb6c-446b-d88b-7d715bc8324a"
      },
      "source": [
        "data.info()"
      ],
      "execution_count": 110,
      "outputs": [
        {
          "output_type": "stream",
          "text": [
            "<class 'pandas.core.frame.DataFrame'>\n",
            "Int64Index: 59400 entries, 0 to 59399\n",
            "Data columns (total 24 columns):\n",
            " #   Column             Non-Null Count  Dtype         \n",
            "---  ------             --------------  -----         \n",
            " 0   id                 59400 non-null  int64         \n",
            " 1   status_group       59400 non-null  object        \n",
            " 2   amount_tsh         59400 non-null  float64       \n",
            " 3   date_recorded      59400 non-null  datetime64[ns]\n",
            " 4   funder             55765 non-null  object        \n",
            " 5   gps_height         59400 non-null  float64       \n",
            " 6   installer          55745 non-null  object        \n",
            " 7   longitude          59400 non-null  float64       \n",
            " 8   latitude           59400 non-null  float64       \n",
            " 9   basin              59400 non-null  object        \n",
            " 10  region             59400 non-null  object        \n",
            " 11  district_code      59400 non-null  int64         \n",
            " 12  lga                59400 non-null  object        \n",
            " 13  population         59400 non-null  float64       \n",
            " 14  scheme_management  55523 non-null  object        \n",
            " 15  construction_year  59400 non-null  int64         \n",
            " 16  extraction_type    59400 non-null  object        \n",
            " 17  management         59400 non-null  object        \n",
            " 18  payment_type       59400 non-null  object        \n",
            " 19  water_quality      59400 non-null  object        \n",
            " 20  quantity           59400 non-null  object        \n",
            " 21  source             59400 non-null  object        \n",
            " 22  waterpoint_type    59400 non-null  object        \n",
            " 23  operational_year   59400 non-null  int64         \n",
            "dtypes: datetime64[ns](1), float64(5), int64(4), object(14)\n",
            "memory usage: 11.3+ MB\n"
          ],
          "name": "stdout"
        }
      ]
    },
    {
      "cell_type": "code",
      "metadata": {
        "id": "rFpnIBJzKyyw",
        "colab_type": "code",
        "colab": {}
      },
      "source": [
        "#For every categorical response, convert the levels to lower case, in case there is random capitalization\n",
        "data.waterpoint_type = data.waterpoint_type.str.lower()\n",
        "data.funder = data.funder.str.lower()\n",
        "data.basin = data.basin.str.lower()\n",
        "data.region = data.region.str.lower()\n",
        "data.source = data.source.str.lower()\n",
        "data.lga = data.lga.str.lower()\n",
        "data.management = data.management.str.lower()\n",
        "data.quantity = data.quantity.str.lower()\n",
        "data.water_quality = data.water_quality.str.lower()\n",
        "data.payment_type=data.payment_type.str.lower()\n",
        "data.extraction_type=data.extraction_type.str.lower()"
      ],
      "execution_count": 111,
      "outputs": []
    },
    {
      "cell_type": "code",
      "metadata": {
        "id": "I57DD2PcKyy0",
        "colab_type": "code",
        "colab": {
          "base_uri": "https://localhost:8080/",
          "height": 935
        },
        "outputId": "b39cfc11-5bd1-40a6-823d-9ec336992b6d"
      },
      "source": [
        "data[\"funder\"].fillna(\"other\", inplace=True)\n",
        "data[\"scheme_management\"].fillna(\"other\", inplace=True)\n",
        "data[\"installer\"].fillna(\"other\", inplace=True)\n",
        "print(data.isnull().sum())\n",
        "data.drop('date_recorded', axis=1, inplace=True)\n",
        "data.drop('construction_year', axis=1, inplace=True)\n",
        "data.info()\n",
        "data.quantity.head(5)\n",
        "pd.DataFrame(data).to_csv(\"/content/clean_train.csv\")"
      ],
      "execution_count": 112,
      "outputs": [
        {
          "output_type": "stream",
          "text": [
            "id                   0\n",
            "status_group         0\n",
            "amount_tsh           0\n",
            "date_recorded        0\n",
            "funder               0\n",
            "gps_height           0\n",
            "installer            0\n",
            "longitude            0\n",
            "latitude             0\n",
            "basin                0\n",
            "region               0\n",
            "district_code        0\n",
            "lga                  0\n",
            "population           0\n",
            "scheme_management    0\n",
            "construction_year    0\n",
            "extraction_type      0\n",
            "management           0\n",
            "payment_type         0\n",
            "water_quality        0\n",
            "quantity             0\n",
            "source               0\n",
            "waterpoint_type      0\n",
            "operational_year     0\n",
            "dtype: int64\n",
            "<class 'pandas.core.frame.DataFrame'>\n",
            "Int64Index: 59400 entries, 0 to 59399\n",
            "Data columns (total 22 columns):\n",
            " #   Column             Non-Null Count  Dtype  \n",
            "---  ------             --------------  -----  \n",
            " 0   id                 59400 non-null  int64  \n",
            " 1   status_group       59400 non-null  object \n",
            " 2   amount_tsh         59400 non-null  float64\n",
            " 3   funder             59400 non-null  object \n",
            " 4   gps_height         59400 non-null  float64\n",
            " 5   installer          59400 non-null  object \n",
            " 6   longitude          59400 non-null  float64\n",
            " 7   latitude           59400 non-null  float64\n",
            " 8   basin              59400 non-null  object \n",
            " 9   region             59400 non-null  object \n",
            " 10  district_code      59400 non-null  int64  \n",
            " 11  lga                59400 non-null  object \n",
            " 12  population         59400 non-null  float64\n",
            " 13  scheme_management  59400 non-null  object \n",
            " 14  extraction_type    59400 non-null  object \n",
            " 15  management         59400 non-null  object \n",
            " 16  payment_type       59400 non-null  object \n",
            " 17  water_quality      59400 non-null  object \n",
            " 18  quantity           59400 non-null  object \n",
            " 19  source             59400 non-null  object \n",
            " 20  waterpoint_type    59400 non-null  object \n",
            " 21  operational_year   59400 non-null  int64  \n",
            "dtypes: float64(5), int64(3), object(14)\n",
            "memory usage: 10.4+ MB\n"
          ],
          "name": "stdout"
        }
      ]
    },
    {
      "cell_type": "code",
      "metadata": {
        "id": "_AbHbI1UKyy5",
        "colab_type": "code",
        "colab": {}
      },
      "source": [
        ""
      ],
      "execution_count": 112,
      "outputs": []
    },
    {
      "cell_type": "code",
      "metadata": {
        "id": "xx5TsD3GKyy-",
        "colab_type": "code",
        "colab": {}
      },
      "source": [
        ""
      ],
      "execution_count": 112,
      "outputs": []
    },
    {
      "cell_type": "code",
      "metadata": {
        "id": "P6jcSvZeKyzB",
        "colab_type": "code",
        "colab": {}
      },
      "source": [
        ""
      ],
      "execution_count": 112,
      "outputs": []
    },
    {
      "cell_type": "code",
      "metadata": {
        "id": "ZJyqV7JeKyzE",
        "colab_type": "code",
        "colab": {}
      },
      "source": [
        ""
      ],
      "execution_count": 112,
      "outputs": []
    },
    {
      "cell_type": "code",
      "metadata": {
        "id": "yV87gfS6KyzI",
        "colab_type": "code",
        "colab": {}
      },
      "source": [
        ""
      ],
      "execution_count": 112,
      "outputs": []
    },
    {
      "cell_type": "code",
      "metadata": {
        "id": "Qd_nldvXKyzK",
        "colab_type": "code",
        "colab": {}
      },
      "source": [
        ""
      ],
      "execution_count": 112,
      "outputs": []
    },
    {
      "cell_type": "code",
      "metadata": {
        "id": "GiGHfLKxKyzO",
        "colab_type": "code",
        "colab": {}
      },
      "source": [
        ""
      ],
      "execution_count": 112,
      "outputs": []
    }
  ]
}