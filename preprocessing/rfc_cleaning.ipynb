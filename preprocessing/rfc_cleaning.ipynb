{
 "cells": [
  {
   "cell_type": "markdown",
   "metadata": {
    "colab_type": "text",
    "id": "view-in-github"
   },
   "source": [
    "<a href=\"https://colab.research.google.com/github/ayberkuslu/MLProject/blob/master/rfc_cleaning_test.ipynb\" target=\"_parent\"><img src=\"https://colab.research.google.com/assets/colab-badge.svg\" alt=\"Open In Colab\"/></a>"
   ]
  },
  {
   "cell_type": "code",
   "execution_count": 190,
   "metadata": {},
   "outputs": [],
   "source": [
    "# if you are preprocessing test file, change test = True\n",
    "# Feature selection algorithm will be used in evaluation notebook.\n",
    "\n",
    "# input-output: test.csv -> rfc_clean_test.csv\n",
    "# input-output: train.csv + labels.csv -> rfc_clean_train.csv"
   ]
  },
  {
   "cell_type": "code",
   "execution_count": 191,
   "metadata": {
    "colab": {
     "base_uri": "https://localhost:8080/",
     "height": 51
    },
    "colab_type": "code",
    "id": "sGT_cKD7KyuS",
    "outputId": "48052707-26c9-4d6a-a947-9e4e7e6d0d55"
   },
   "outputs": [],
   "source": [
    "import pandas as pd\n",
    "import numpy as np\n",
    "import matplotlib.pyplot as plt\n",
    "import seaborn as sns\n",
    "from sklearn.preprocessing import MinMaxScaler\n"
   ]
  },
  {
   "cell_type": "markdown",
   "metadata": {
    "colab_type": "text",
    "id": "JJwbUPQBX9zQ"
   },
   "source": [
    "# New Section"
   ]
  },
  {
   "cell_type": "code",
   "execution_count": 192,
   "metadata": {
    "colab": {},
    "colab_type": "code",
    "id": "6V7qNkAPKyuY"
   },
   "outputs": [],
   "source": [
    "test = False # if it is True, then you are preprocessing test file.\n",
    "true_days_false_years = True # if True, process date as days, else calculate as years.\n",
    "\n",
    "labels_fpath = \"inputs/labels.csv\"\n",
    "\n",
    "if test == True:\n",
    "    input_fpath = \"inputs/test.csv\"\n",
    "    output_fpath = \"rfc_clean_test.csv\"\n",
    "    data = pd.read_csv(input_fpath)\n",
    "else:\n",
    "    input_fpath = \"inputs/train.csv\"\n",
    "    output_fpath = \"rfc_clean_train.csv\"\n",
    "    data = pd.read_csv(input_fpath)\n",
    "    data_values = pd.read_csv(labels_fpath)\n",
    "    data = data_values.merge(data, on='id')    "
   ]
  },
  {
   "cell_type": "markdown",
   "metadata": {
    "colab_type": "text",
    "id": "KT0788njKyue"
   },
   "source": [
    "##status_group-functional,non-functional or needs repair\n",
    "\n",
    "amount_tsh – Total static head (amount water available to waterpoint)\n",
    "\n",
    "date_recorded – The date the row was entered\n",
    "\n",
    "funder – Who funded the well\n",
    "\n",
    "gps_height – Altitude of the well\n",
    "\n",
    "installer – Organization that installed the well\n",
    "\n",
    "longitude – GPS coordinate\n",
    "\n",
    "latitude – GPS coordinate\n",
    "\n",
    "wpt_name – Name of the waterpoint if there is one\n",
    "\n",
    "num_private -No description\n",
    "\n",
    "basin – Geographic water basin\n",
    "\n",
    "subvillage – Geographic location\n",
    "\n",
    "region – Geographic location\n",
    "\n",
    "region_code – Geographic location (coded)\n",
    "\n",
    "district_code – Geographic location (coded)\n",
    "\n",
    "lga – Geographic location\n",
    "\n",
    "ward – Geographic location\n",
    "\n",
    "population – Population around the well\n",
    "\n",
    "public_meeting – True/False\n",
    "\n",
    "recorded_by – Group entering this row of data\n",
    "\n",
    "scheme_management – Who operates the water point\n",
    "\n",
    "scheme_name – Who operates the water point\n",
    "\n",
    "permit – If the water point is permitted\n",
    "\n",
    "construction_year – Year the water point was constructed\n",
    "\n",
    "extraction_type – The kind of extraction the water point uses\n",
    "\n",
    "extraction_type_group – The kind of extraction the water point uses\n",
    "\n",
    "extraction_type_class – The kind of extraction the water point uses\n",
    "\n",
    "management – How the water point is managed\n",
    "\n",
    "management_group – How the water point is managed\n",
    "\n",
    "payment – What the water costs\n",
    "\n",
    "payment_type – What the water costs\n",
    "\n",
    "water_quality – The quality of the water\n",
    "\n",
    "quality_group – The quality of the water\n",
    "\n",
    "quantity – The quantity of water\n",
    "\n",
    "quantity_group – The quantity of water\n",
    "\n",
    "source – The source of the water\n",
    "\n",
    "source_type – The source of the water\n",
    "\n",
    "source_class – The source of the water\n",
    "\n",
    "waterpoint_type – The kind of waterpoint\n",
    "\n",
    "waterpoint_type_group – The kind of waterpoint"
   ]
  },
  {
   "cell_type": "code",
   "execution_count": 193,
   "metadata": {
    "colab": {
     "base_uri": "https://localhost:8080/",
     "height": 714
    },
    "colab_type": "code",
    "id": "HQofOhZ8Kyuf",
    "outputId": "b35419da-869e-4704-ee73-385d66e1421b"
   },
   "outputs": [
    {
     "data": {
      "text/plain": [
       "id                           0\n",
       "status_group                 0\n",
       "amount_tsh               41639\n",
       "date_recorded                0\n",
       "funder                    3635\n",
       "gps_height               20438\n",
       "installer                 3655\n",
       "longitude                    0\n",
       "latitude                     0\n",
       "wpt_name                     0\n",
       "num_private                  0\n",
       "basin                        0\n",
       "subvillage                 371\n",
       "region                       0\n",
       "region_code                  0\n",
       "district_code                0\n",
       "lga                          0\n",
       "ward                         0\n",
       "population               21381\n",
       "public_meeting            3334\n",
       "recorded_by                  0\n",
       "scheme_management         3877\n",
       "scheme_name              28166\n",
       "permit                    3056\n",
       "construction_year            0\n",
       "extraction_type              0\n",
       "extraction_type_group        0\n",
       "extraction_type_class        0\n",
       "management                   0\n",
       "management_group             0\n",
       "payment                      0\n",
       "payment_type                 0\n",
       "water_quality                0\n",
       "quality_group                0\n",
       "quantity                     0\n",
       "quantity_group               0\n",
       "source                       0\n",
       "source_type                  0\n",
       "source_class                 0\n",
       "waterpoint_type              0\n",
       "waterpoint_type_group        0\n",
       "dtype: int64"
      ]
     },
     "execution_count": 193,
     "metadata": {},
     "output_type": "execute_result"
    }
   ],
   "source": [
    "#data.isnull().sum()\n",
    "#data.population.min()\n",
    "data['gps_height'].replace(0.0, np.nan, inplace=True)\n",
    "data['population'].replace(0.0, np.nan, inplace=True)\n",
    "data['amount_tsh'].replace(0.0, np.nan, inplace=True)\n",
    "data.isnull().sum()"
   ]
  },
  {
   "cell_type": "code",
   "execution_count": 194,
   "metadata": {
    "colab": {
     "base_uri": "https://localhost:8080/",
     "height": 748
    },
    "colab_type": "code",
    "id": "kWojWSsZKyul",
    "outputId": "7a95c8d9-09d7-4460-b534-06b8a240e949"
   },
   "outputs": [
    {
     "data": {
      "text/plain": [
       "region         permit\n",
       "Arusha         False      255\n",
       "               True      2650\n",
       "Dar es Salaam  False      777\n",
       "Dodoma         False     1212\n",
       "               True       989\n",
       "Iringa         False     2117\n",
       "               True      3174\n",
       "Kagera         False      795\n",
       "               True      2521\n",
       "Kigoma         False     1160\n",
       "               True      1656\n",
       "Kilimanjaro    False      445\n",
       "               True      3796\n",
       "Lindi          False      733\n",
       "               True       813\n",
       "Manyara        False       77\n",
       "               True      1506\n",
       "Mara           False      604\n",
       "               True       998\n",
       "Mbeya          False     1399\n",
       "               True      2134\n",
       "Morogoro       False       39\n",
       "               True      3967\n",
       "Mtwara         False      419\n",
       "               True      1311\n",
       "Mwanza         False      127\n",
       "               True      2975\n",
       "Pwani          False     1105\n",
       "               True      1530\n",
       "Rukwa          False      646\n",
       "               True      1162\n",
       "Ruvuma         False      840\n",
       "               True      1798\n",
       "Shinyanga      False     2618\n",
       "               True      2364\n",
       "Singida        False      321\n",
       "               True       805\n",
       "Tabora         False      634\n",
       "               True      1325\n",
       "Tanga          False     1169\n",
       "               True      1378\n",
       "dtype: int64"
      ]
     },
     "execution_count": 194,
     "metadata": {},
     "output_type": "execute_result"
    }
   ],
   "source": [
    "data.groupby(['region','permit']).size() "
   ]
  },
  {
   "cell_type": "code",
   "execution_count": 195,
   "metadata": {
    "colab": {
     "base_uri": "https://localhost:8080/",
     "height": 714
    },
    "colab_type": "code",
    "id": "Jl3-XSlsKyus",
    "outputId": "8232ce70-24da-4058-c756-2d206d44a5fa"
   },
   "outputs": [
    {
     "data": {
      "text/plain": [
       "id                           0\n",
       "status_group                 0\n",
       "amount_tsh                   0\n",
       "date_recorded                0\n",
       "funder                    3635\n",
       "gps_height                   0\n",
       "installer                 3655\n",
       "longitude                    0\n",
       "latitude                     0\n",
       "wpt_name                     0\n",
       "num_private                  0\n",
       "basin                        0\n",
       "subvillage                 371\n",
       "region                       0\n",
       "region_code                  0\n",
       "district_code                0\n",
       "lga                          0\n",
       "ward                         0\n",
       "population                   0\n",
       "public_meeting            3334\n",
       "recorded_by                  0\n",
       "scheme_management         3877\n",
       "scheme_name              28166\n",
       "permit                    3056\n",
       "construction_year            0\n",
       "extraction_type              0\n",
       "extraction_type_group        0\n",
       "extraction_type_class        0\n",
       "management                   0\n",
       "management_group             0\n",
       "payment                      0\n",
       "payment_type                 0\n",
       "water_quality                0\n",
       "quality_group                0\n",
       "quantity                     0\n",
       "quantity_group               0\n",
       "source                       0\n",
       "source_type                  0\n",
       "source_class                 0\n",
       "waterpoint_type              0\n",
       "waterpoint_type_group        0\n",
       "dtype: int64"
      ]
     },
     "execution_count": 195,
     "metadata": {},
     "output_type": "execute_result"
    }
   ],
   "source": [
    "data[\"gps_height\"].fillna(data.groupby(['region', 'district_code'])[\"gps_height\"].transform(\"mean\"), inplace=True)\n",
    "data[\"gps_height\"].fillna(data.groupby(['region'])[\"gps_height\"].transform(\"mean\"), inplace=True)\n",
    "data[\"gps_height\"].fillna(data[\"gps_height\"].mean(), inplace=True)\n",
    "data[\"population\"].fillna(data.groupby(['region', 'district_code'])[\"population\"].transform(\"median\"), inplace=True)\n",
    "data[\"population\"].fillna(data.groupby(['region'])[\"population\"].transform(\"median\"), inplace=True)\n",
    "data[\"population\"].fillna(data[\"population\"].median(), inplace=True)\n",
    "data[\"amount_tsh\"].fillna(data.groupby(['region', 'district_code'])[\"amount_tsh\"].transform(\"median\"), inplace=True)\n",
    "data[\"amount_tsh\"].fillna(data.groupby(['region'])[\"amount_tsh\"].transform(\"median\"), inplace=True)\n",
    "data[\"amount_tsh\"].fillna(data[\"amount_tsh\"].median(), inplace=True)\n",
    "data.isnull().sum()"
   ]
  },
  {
   "cell_type": "code",
   "execution_count": 196,
   "metadata": {
    "colab": {
     "base_uri": "https://localhost:8080/",
     "height": 51
    },
    "colab_type": "code",
    "id": "pvu98yMRKyuy",
    "outputId": "9b3183e1-6646-456c-9895-3cacb03cce9d"
   },
   "outputs": [
    {
     "name": "stdout",
     "output_type": "stream",
     "text": [
      "11.64944016\n",
      "40.34519307\n"
     ]
    }
   ],
   "source": [
    "print(data.latitude.max()-data.latitude.min())\n",
    "print(data.longitude.max()-data.longitude.min())"
   ]
  },
  {
   "cell_type": "code",
   "execution_count": 197,
   "metadata": {
    "colab": {
     "base_uri": "https://localhost:8080/",
     "height": 714
    },
    "colab_type": "code",
    "id": "LomyYzQAKyu4",
    "outputId": "71541ad9-714b-4893-f7ac-8824d9306db4"
   },
   "outputs": [
    {
     "data": {
      "text/plain": [
       "id                           0\n",
       "status_group                 0\n",
       "amount_tsh                   0\n",
       "date_recorded                0\n",
       "funder                    3635\n",
       "gps_height                   0\n",
       "installer                 3655\n",
       "longitude                    0\n",
       "latitude                     0\n",
       "wpt_name                     0\n",
       "num_private                  0\n",
       "basin                        0\n",
       "subvillage                 371\n",
       "region                       0\n",
       "region_code                  0\n",
       "district_code                0\n",
       "lga                          0\n",
       "ward                         0\n",
       "population                   0\n",
       "public_meeting            3334\n",
       "recorded_by                  0\n",
       "scheme_management         3877\n",
       "scheme_name              28166\n",
       "permit                    3056\n",
       "construction_year            0\n",
       "extraction_type              0\n",
       "extraction_type_group        0\n",
       "extraction_type_class        0\n",
       "management                   0\n",
       "management_group             0\n",
       "payment                      0\n",
       "payment_type                 0\n",
       "water_quality                0\n",
       "quality_group                0\n",
       "quantity                     0\n",
       "quantity_group               0\n",
       "source                       0\n",
       "source_type                  0\n",
       "source_class                 0\n",
       "waterpoint_type              0\n",
       "waterpoint_type_group        0\n",
       "dtype: int64"
      ]
     },
     "execution_count": 197,
     "metadata": {},
     "output_type": "execute_result"
    }
   ],
   "source": [
    "features=['amount_tsh', 'gps_height', 'population']\n",
    "scaler = MinMaxScaler(feature_range=(0,20))\n",
    "data[features] = scaler.fit_transform(data[features])\n",
    "data[features].head(20)\n",
    "data.isnull().sum()"
   ]
  },
  {
   "cell_type": "code",
   "execution_count": 198,
   "metadata": {
    "colab": {},
    "colab_type": "code",
    "id": "E_8VGlfhKywQ"
   },
   "outputs": [],
   "source": [
    "data['longitude'].replace(0.0, np.nan, inplace=True)\n",
    "data['latitude'].replace(0.0, np.nan, inplace=True)\n",
    "data['construction_year'].replace(0.0, np.nan, inplace=True)"
   ]
  },
  {
   "cell_type": "code",
   "execution_count": 199,
   "metadata": {
    "colab": {
     "base_uri": "https://localhost:8080/",
     "height": 238
    },
    "colab_type": "code",
    "id": "KCj4sql4KywV",
    "outputId": "a871b512-c589-4937-8c7f-17d25ddc9631"
   },
   "outputs": [
    {
     "data": {
      "text/plain": [
       "district_code  region         construction_year\n",
       "1              Arusha         1980.0                 2\n",
       "                              1990.0                23\n",
       "                              2000.0               137\n",
       "                              2010.0                24\n",
       "               Dar es Salaam  1970.0                24\n",
       "                              1990.0                 8\n",
       "                              2000.0                11\n",
       "                              2010.0                50\n",
       "               Iringa         1964.0                 5\n",
       "                              1972.0                 3\n",
       "                              1974.0                 6\n",
       "                              1976.0                 2\n",
       "                              1978.0                13\n",
       "                              1981.0                 1\n",
       "                              1982.0                25\n",
       "                              1983.0                44\n",
       "                              1984.0                46\n",
       "                              1985.0                48\n",
       "                              1986.0                 5\n",
       "                              1987.0                38\n",
       "                              1988.0                 5\n",
       "                              1989.0                30\n",
       "                              1990.0                50\n",
       "                              1991.0                 8\n",
       "                              1992.0                74\n",
       "                                                  ... \n",
       "62             Lindi          2007.0                 3\n",
       "                              2008.0                 6\n",
       "                              2009.0                 2\n",
       "                              2010.0                10\n",
       "                              2011.0                 6\n",
       "                              2012.0                 9\n",
       "63             Mtwara         1976.0                17\n",
       "                              1977.0                 1\n",
       "                              1978.0                28\n",
       "                              1979.0                 1\n",
       "                              1981.0                 1\n",
       "                              1985.0                 2\n",
       "                              1986.0                13\n",
       "                              1989.0                 1\n",
       "                              1999.0                 2\n",
       "                              2001.0                 1\n",
       "                              2004.0                 1\n",
       "                              2005.0                 9\n",
       "                              2006.0                 4\n",
       "                              2007.0                 7\n",
       "                              2008.0                23\n",
       "                              2009.0                14\n",
       "                              2010.0                17\n",
       "                              2011.0                 2\n",
       "                              2012.0                 8\n",
       "Length: 2264, dtype: int64"
      ]
     },
     "execution_count": 199,
     "metadata": {},
     "output_type": "execute_result"
    }
   ],
   "source": [
    "data.groupby(['district_code', 'region','construction_year']).size() "
   ]
  },
  {
   "cell_type": "code",
   "execution_count": 200,
   "metadata": {
    "colab": {
     "base_uri": "https://localhost:8080/",
     "height": 714
    },
    "colab_type": "code",
    "id": "c3InFOQeKywb",
    "outputId": "82878645-98c1-4839-cfdc-77358084a338"
   },
   "outputs": [
    {
     "name": "stdout",
     "output_type": "stream",
     "text": [
      "id                           0\n",
      "status_group                 0\n",
      "amount_tsh                   0\n",
      "date_recorded                0\n",
      "funder                    3635\n",
      "gps_height                   0\n",
      "installer                 3655\n",
      "longitude                    0\n",
      "latitude                     0\n",
      "wpt_name                     0\n",
      "num_private                  0\n",
      "basin                        0\n",
      "subvillage                 371\n",
      "region                       0\n",
      "region_code                  0\n",
      "district_code                0\n",
      "lga                          0\n",
      "ward                         0\n",
      "population                   0\n",
      "public_meeting            3334\n",
      "recorded_by                  0\n",
      "scheme_management         3877\n",
      "scheme_name              28166\n",
      "permit                    3056\n",
      "construction_year            0\n",
      "extraction_type              0\n",
      "extraction_type_group        0\n",
      "extraction_type_class        0\n",
      "management                   0\n",
      "management_group             0\n",
      "payment                      0\n",
      "payment_type                 0\n",
      "water_quality                0\n",
      "quality_group                0\n",
      "quantity                     0\n",
      "quantity_group               0\n",
      "source                       0\n",
      "source_type                  0\n",
      "source_class                 0\n",
      "waterpoint_type              0\n",
      "waterpoint_type_group        0\n",
      "dtype: int64\n"
     ]
    }
   ],
   "source": [
    "data[\"latitude\"].fillna(data.groupby(['region', 'district_code'])[\"latitude\"].transform(\"mean\"), inplace=True)\n",
    "data[\"longitude\"].fillna(data.groupby(['region', 'district_code'])[\"longitude\"].transform(\"mean\"), inplace=True)\n",
    "data[\"longitude\"].fillna(data.groupby(['region'])[\"longitude\"].transform(\"mean\"), inplace=True)\n",
    "data[\"construction_year\"].fillna(data.groupby(['region', 'district_code'])[\"construction_year\"].transform(\"median\"), inplace=True)\n",
    "data[\"construction_year\"].fillna(data.groupby(['region'])[\"construction_year\"].transform(\"median\"), inplace=True)\n",
    "data[\"construction_year\"].fillna(data.groupby(['district_code'])[\"construction_year\"].transform(\"median\"), inplace=True)\n",
    "data[\"construction_year\"].fillna(data[\"construction_year\"].median(), inplace=True)\n",
    "print(data.isnull().sum())"
   ]
  },
  {
   "cell_type": "code",
   "execution_count": 201,
   "metadata": {
    "colab": {
     "base_uri": "https://localhost:8080/",
     "height": 221
    },
    "colab_type": "code",
    "id": "UOKbCM97Kywh",
    "outputId": "88c24199-7cae-453b-d6e9-b719a3fcd3e7"
   },
   "outputs": [
    {
     "name": "stdout",
     "output_type": "stream",
     "text": [
      "0    2011-03-14\n",
      "1    2013-03-06\n",
      "2    2013-02-25\n",
      "3    2013-01-28\n",
      "4    2011-07-13\n",
      "Name: date_recorded, dtype: object\n",
      "0    1999.0\n",
      "1    2010.0\n",
      "2    2009.0\n",
      "3    1986.0\n",
      "4    2003.0\n",
      "Name: construction_year, dtype: float64\n"
     ]
    }
   ],
   "source": [
    "#if water point is old, it is highly likely to be non functional or needs repair.\n",
    "#New features were created namely number of days and number of months water point is operational.\n",
    "print(data.date_recorded.head(5))\n",
    "print(data.construction_year.head(5))\n"
   ]
  },
  {
   "cell_type": "code",
   "execution_count": 202,
   "metadata": {
    "colab": {
     "base_uri": "https://localhost:8080/",
     "height": 323
    },
    "colab_type": "code",
    "id": "v_t4gDkqKywm",
    "outputId": "ee7692cd-ce26-4bb5-b26a-4b517d960549"
   },
   "outputs": [
    {
     "name": "stdout",
     "output_type": "stream",
     "text": [
      "count    59400.000000\n",
      "mean       613.616970\n",
      "std        334.216374\n",
      "min          0.000000\n",
      "25%        297.000000\n",
      "50%        419.000000\n",
      "75%        977.000000\n",
      "max       4068.000000\n",
      "Name: days_since_recorded, dtype: float64\n"
     ]
    }
   ],
   "source": [
    "# date preprocessing\n",
    "# using as passing years\n",
    "if true_days_false_years:\n",
    "    # using as passing days.\n",
    "    data.date_recorded = pd.datetime(2013, 12, 3) - pd.to_datetime(data.date_recorded)\n",
    "    # date_recorded dropped in here.\n",
    "    data.columns = ['days_since_recorded' if x=='date_recorded' else x for x in data.columns]\n",
    "    data.days_since_recorded = data.days_since_recorded.astype('timedelta64[D]').astype(int)\n",
    "    print(data.days_since_recorded.describe())\n",
    "else:\n",
    "    data['date_recorded'] = pd.to_datetime(data['date_recorded'])\n",
    "    data.date_recorded.head(5)\n",
    "    print(data.date_recorded.dt.year.head(5))\n",
    "    print(data.construction_year.head(5))\n",
    "    data['operational_year'] = data.date_recorded.dt.year - data.construction_year\n",
    "    data.operational_year.head(5)\n",
    "    data.drop('data_recorded', axis=1, inplace=True)"
   ]
  },
  {
   "cell_type": "code",
   "execution_count": 203,
   "metadata": {
    "colab": {
     "base_uri": "https://localhost:8080/",
     "height": 255
    },
    "colab_type": "code",
    "id": "UgI98KEZKyw2",
    "outputId": "d6d43159-e7c6-46ee-ad99-40baf8706b05"
   },
   "outputs": [
    {
     "name": "stdout",
     "output_type": "stream",
     "text": [
      "management        management_group\n",
      "company           commercial            685\n",
      "other             other                 844\n",
      "other - school    other                  99\n",
      "parastatal        parastatal           1768\n",
      "private operator  commercial           1971\n",
      "trust             commercial             78\n",
      "unknown           unknown               561\n",
      "vwc               user-group          40507\n",
      "water authority   commercial            904\n",
      "water board       user-group           2933\n",
      "wua               user-group           2535\n",
      "wug               user-group           6515\n",
      "dtype: int64\n"
     ]
    }
   ],
   "source": [
    "#DATA Cleaning\n",
    "waste_features=['wpt_name','num_private','subvillage','region_code','recorded_by']\n",
    "#since region and region_code are representing the same thing\n",
    "data.drop(waste_features,axis=1,inplace=True)\n",
    "print(data.groupby(['management', 'management_group']).size() )\n",
    "data.drop('management_group',axis=1,inplace=True)"
   ]
  },
  {
   "cell_type": "code",
   "execution_count": 204,
   "metadata": {
    "colab": {
     "base_uri": "https://localhost:8080/",
     "height": 340
    },
    "colab_type": "code",
    "id": "M9mXzn3kKyw6",
    "outputId": "15d1f556-2da2-4229-e70a-e7ca3d7cf103"
   },
   "outputs": [
    {
     "name": "stdout",
     "output_type": "stream",
     "text": [
      "extraction_type_group  extraction_type_class  extraction_type          \n",
      "afridev                handpump               afridev                       1770\n",
      "gravity                gravity                gravity                      26780\n",
      "india mark ii          handpump               india mark ii                 2400\n",
      "india mark iii         handpump               india mark iii                  98\n",
      "mono                   motorpump              mono                          2865\n",
      "nira/tanira            handpump               nira/tanira                   8154\n",
      "other                  other                  other                         6430\n",
      "other handpump         handpump               other - mkulima/shinyanga        2\n",
      "                                              other - play pump               85\n",
      "                                              other - swn 81                 229\n",
      "                                              walimi                          48\n",
      "other motorpump        motorpump              cemo                            90\n",
      "                                              climax                          32\n",
      "rope pump              rope pump              other - rope pump              451\n",
      "submersible            submersible            ksb                           1415\n",
      "                                              submersible                   4764\n",
      "swn 80                 handpump               swn 80                        3670\n",
      "wind-powered           wind-powered           windmill                       117\n",
      "dtype: int64\n"
     ]
    }
   ],
   "source": [
    "print(data.groupby(['extraction_type_group','extraction_type_class','extraction_type']).size()   )   \n",
    "data.drop('extraction_type_group',axis=1,inplace=True)"
   ]
  },
  {
   "cell_type": "code",
   "execution_count": 205,
   "metadata": {
    "colab": {},
    "colab_type": "code",
    "id": "m59Qi2e_Kyw9"
   },
   "outputs": [],
   "source": [
    "data.drop('extraction_type_class',axis=1,inplace=True)"
   ]
  },
  {
   "cell_type": "code",
   "execution_count": 206,
   "metadata": {
    "colab": {
     "base_uri": "https://localhost:8080/",
     "height": 238
    },
    "colab_type": "code",
    "id": "FMUk6CZGKyxC",
    "outputId": "b9334d04-a6fc-4c4c-91d8-0778eb434459"
   },
   "outputs": [
    {
     "data": {
      "text/plain": [
       "scheme_management  scheme_name                 \n",
       "Company            BFFS                              1\n",
       "                   Bagamoyo Wate                    60\n",
       "                   Bagamoyo wate                   210\n",
       "                   Borehole                          1\n",
       "                   Borehole drilling project         1\n",
       "                   Bulamba piped scheme              2\n",
       "                   Burieni water supply              1\n",
       "                   Doe water supply                  3\n",
       "                   EKTM 2 water  supply              1\n",
       "                   EKTM 2 water suply               25\n",
       "                   EKTM 2 water supply               9\n",
       "                   EKTM 3 water supply              51\n",
       "                   Fufulamsuri water supply          1\n",
       "                   GRUMETI                           6\n",
       "                   HESAWA                            1\n",
       "                   Hakwe water supply               10\n",
       "                   Holili water supply              23\n",
       "                   I                                 1\n",
       "                   IKTM 2                            1\n",
       "                   IKTM 2 water supply               1\n",
       "                   IKTM 3 water supply               1\n",
       "                   Ibukoni kimanga water supply      1\n",
       "                   Iburieni water supply             6\n",
       "                   Ihum                              1\n",
       "                   Ikela Wa                         89\n",
       "                                                  ... \n",
       "Water authority    Submersible                       1\n",
       "                   Sui                               1\n",
       "                   Suwasa water supply               8\n",
       "                   TWESA                             1\n",
       "                   Tank fu Mwenge                    1\n",
       "                   Tank fupi Mwenge                  8\n",
       "                   Tank refu Kasokola                4\n",
       "                   Tank refu Mtakuja                 6\n",
       "                   Tank refu Sitalike                7\n",
       "                   Tungu water piped scheme          1\n",
       "                   Tutu                             25\n",
       "                   UWAMAMA                           4\n",
       "                   Urambo water supply              15\n",
       "                   Vumari water supply              11\n",
       "                   Vunta water supply               11\n",
       "                   WD                                1\n",
       "                   Water from DAWASCO               28\n",
       "                   World Bank                       60\n",
       "                   World Vision                      8\n",
       "                   World vision                      1\n",
       "                   Yongoma                          16\n",
       "                   Zepalama                          5\n",
       "                   no scheme                         9\n",
       "                   pump                              2\n",
       "                   water supply at Kalebejo          1\n",
       "Length: 3077, dtype: int64"
      ]
     },
     "execution_count": 206,
     "metadata": {},
     "output_type": "execute_result"
    }
   ],
   "source": [
    "data.groupby(['scheme_management', 'scheme_name']).size() "
   ]
  },
  {
   "cell_type": "code",
   "execution_count": 207,
   "metadata": {
    "colab": {},
    "colab_type": "code",
    "id": "-ij3sKuiKyxF"
   },
   "outputs": [],
   "source": [
    "data.drop('scheme_name',axis=1,inplace=True)"
   ]
  },
  {
   "cell_type": "code",
   "execution_count": 208,
   "metadata": {
    "colab": {
     "base_uri": "https://localhost:8080/",
     "height": 170
    },
    "colab_type": "code",
    "id": "1lMwHR1AKyxK",
    "outputId": "46f34475-bacd-4a47-8abc-a91fc1c42e77"
   },
   "outputs": [
    {
     "data": {
      "text/plain": [
       "payment                payment_type\n",
       "never pay              never pay       25348\n",
       "other                  other            1054\n",
       "pay annually           annually         3642\n",
       "pay monthly            monthly          8300\n",
       "pay per bucket         per bucket       8985\n",
       "pay when scheme fails  on failure       3914\n",
       "unknown                unknown          8157\n",
       "dtype: int64"
      ]
     },
     "execution_count": 208,
     "metadata": {},
     "output_type": "execute_result"
    }
   ],
   "source": [
    "data.groupby(['payment', 'payment_type']).size() "
   ]
  },
  {
   "cell_type": "code",
   "execution_count": 209,
   "metadata": {
    "colab": {},
    "colab_type": "code",
    "id": "rUVKypGKKyxQ"
   },
   "outputs": [],
   "source": [
    "data.drop('payment',axis=1,inplace=True)"
   ]
  },
  {
   "cell_type": "code",
   "execution_count": 210,
   "metadata": {
    "colab": {
     "base_uri": "https://localhost:8080/",
     "height": 187
    },
    "colab_type": "code",
    "id": "ixN6aMf0KyxV",
    "outputId": "7ec6cbba-0a5e-495c-c0d4-202e83ea90d6"
   },
   "outputs": [
    {
     "data": {
      "text/plain": [
       "water_quality       quality_group\n",
       "coloured            colored            490\n",
       "fluoride            fluoride           200\n",
       "fluoride abandoned  fluoride            17\n",
       "milky               milky              804\n",
       "salty               salty             4856\n",
       "salty abandoned     salty              339\n",
       "soft                good             50818\n",
       "unknown             unknown           1876\n",
       "dtype: int64"
      ]
     },
     "execution_count": 210,
     "metadata": {},
     "output_type": "execute_result"
    }
   ],
   "source": [
    "data.groupby(['water_quality', 'quality_group']).size() "
   ]
  },
  {
   "cell_type": "code",
   "execution_count": 211,
   "metadata": {
    "colab": {},
    "colab_type": "code",
    "id": "FBLACs9eKyxb"
   },
   "outputs": [],
   "source": [
    "data.drop('quality_group',axis=1,inplace=True)"
   ]
  },
  {
   "cell_type": "code",
   "execution_count": 212,
   "metadata": {
    "colab": {
     "base_uri": "https://localhost:8080/",
     "height": 136
    },
    "colab_type": "code",
    "id": "p58wEm_-Kyxk",
    "outputId": "a38a6f45-ee12-4354-c304-0ba60a6c8b29"
   },
   "outputs": [
    {
     "data": {
      "text/plain": [
       "quantity      quantity_group\n",
       "dry           dry                6246\n",
       "enough        enough            33186\n",
       "insufficient  insufficient      15129\n",
       "seasonal      seasonal           4050\n",
       "unknown       unknown             789\n",
       "dtype: int64"
      ]
     },
     "execution_count": 212,
     "metadata": {},
     "output_type": "execute_result"
    }
   ],
   "source": [
    "data.groupby(['quantity', 'quantity_group']).size() "
   ]
  },
  {
   "cell_type": "code",
   "execution_count": 213,
   "metadata": {
    "colab": {},
    "colab_type": "code",
    "id": "b7sE8jYHKyxq"
   },
   "outputs": [],
   "source": [
    "data.drop('quantity_group',axis=1,inplace=True)"
   ]
  },
  {
   "cell_type": "code",
   "execution_count": 214,
   "metadata": {
    "colab": {
     "base_uri": "https://localhost:8080/",
     "height": 221
    },
    "colab_type": "code",
    "id": "PucZ4C1QKyxy",
    "outputId": "ca471654-0435-4f62-c4d8-6e927bd42970"
   },
   "outputs": [
    {
     "data": {
      "text/plain": [
       "source                source_type           source_class\n",
       "dam                   dam                   surface           656\n",
       "hand dtw              borehole              groundwater       874\n",
       "lake                  river/lake            surface           765\n",
       "machine dbh           borehole              groundwater     11075\n",
       "other                 other                 unknown           212\n",
       "rainwater harvesting  rainwater harvesting  surface          2295\n",
       "river                 river/lake            surface          9612\n",
       "shallow well          shallow well          groundwater     16824\n",
       "spring                spring                groundwater     17021\n",
       "unknown               other                 unknown            66\n",
       "dtype: int64"
      ]
     },
     "execution_count": 214,
     "metadata": {},
     "output_type": "execute_result"
    }
   ],
   "source": [
    "data.groupby(['source', 'source_type', 'source_class']).size() "
   ]
  },
  {
   "cell_type": "code",
   "execution_count": 215,
   "metadata": {
    "colab": {},
    "colab_type": "code",
    "id": "RSQrFXWaKyx2"
   },
   "outputs": [],
   "source": [
    "data.drop('source_type',axis=1,inplace=True)"
   ]
  },
  {
   "cell_type": "code",
   "execution_count": 216,
   "metadata": {
    "colab": {},
    "colab_type": "code",
    "id": "TO-xPxGfKyx7"
   },
   "outputs": [],
   "source": [
    "data.drop('source_class',axis=1,inplace=True)"
   ]
  },
  {
   "cell_type": "code",
   "execution_count": 217,
   "metadata": {
    "colab": {
     "base_uri": "https://localhost:8080/",
     "height": 170
    },
    "colab_type": "code",
    "id": "3T5KsYNeKyyA",
    "outputId": "53f468f4-8df3-43b4-9fb6-07d5ba6aed7e"
   },
   "outputs": [
    {
     "data": {
      "text/plain": [
       "waterpoint_type              waterpoint_type_group\n",
       "cattle trough                cattle trough              116\n",
       "communal standpipe           communal standpipe       28522\n",
       "communal standpipe multiple  communal standpipe        6103\n",
       "dam                          dam                          7\n",
       "hand pump                    hand pump                17488\n",
       "improved spring              improved spring            784\n",
       "other                        other                     6380\n",
       "dtype: int64"
      ]
     },
     "execution_count": 217,
     "metadata": {},
     "output_type": "execute_result"
    }
   ],
   "source": [
    "data.groupby(['waterpoint_type', 'waterpoint_type_group']).size() "
   ]
  },
  {
   "cell_type": "code",
   "execution_count": 218,
   "metadata": {
    "colab": {},
    "colab_type": "code",
    "id": "IvxgtXGOKyyD"
   },
   "outputs": [],
   "source": [
    "# as they are the same name, drop one of them.(waterpoint_type is more spesific.)\n",
    "data.drop('waterpoint_type_group',axis=1,inplace=True)"
   ]
  },
  {
   "cell_type": "code",
   "execution_count": 219,
   "metadata": {
    "colab": {
     "base_uri": "https://localhost:8080/",
     "height": 578
    },
    "colab_type": "code",
    "id": "T158YLv8KyyH",
    "outputId": "b9702d7a-eaf9-4aa0-9fb9-f46350cdc8bc"
   },
   "outputs": [
    {
     "name": "stdout",
     "output_type": "stream",
     "text": [
      "<class 'pandas.core.frame.DataFrame'>\n",
      "Int64Index: 59400 entries, 0 to 59399\n",
      "Data columns (total 26 columns):\n",
      "id                     59400 non-null int64\n",
      "status_group           59400 non-null object\n",
      "amount_tsh             59400 non-null float64\n",
      "days_since_recorded    59400 non-null int64\n",
      "funder                 55765 non-null object\n",
      "gps_height             59400 non-null float64\n",
      "installer              55745 non-null object\n",
      "longitude              59400 non-null float64\n",
      "latitude               59400 non-null float64\n",
      "basin                  59400 non-null object\n",
      "region                 59400 non-null object\n",
      "district_code          59400 non-null int64\n",
      "lga                    59400 non-null object\n",
      "ward                   59400 non-null object\n",
      "population             59400 non-null float64\n",
      "public_meeting         56066 non-null object\n",
      "scheme_management      55523 non-null object\n",
      "permit                 56344 non-null object\n",
      "construction_year      59400 non-null float64\n",
      "extraction_type        59400 non-null object\n",
      "management             59400 non-null object\n",
      "payment_type           59400 non-null object\n",
      "water_quality          59400 non-null object\n",
      "quantity               59400 non-null object\n",
      "source                 59400 non-null object\n",
      "waterpoint_type        59400 non-null object\n",
      "dtypes: float64(6), int64(3), object(17)\n",
      "memory usage: 12.2+ MB\n"
     ]
    }
   ],
   "source": [
    "data.info()"
   ]
  },
  {
   "cell_type": "code",
   "execution_count": 220,
   "metadata": {
    "colab": {},
    "colab_type": "code",
    "id": "6czkoJiEKyyN"
   },
   "outputs": [],
   "source": [
    "data.drop('ward',axis=1,inplace=True)"
   ]
  },
  {
   "cell_type": "code",
   "execution_count": 221,
   "metadata": {
    "colab": {
     "base_uri": "https://localhost:8080/",
     "height": 561
    },
    "colab_type": "code",
    "id": "xl9TnXQFKyyQ",
    "outputId": "f8c87672-5910-43bb-d961-78457de1cb2a"
   },
   "outputs": [
    {
     "name": "stdout",
     "output_type": "stream",
     "text": [
      "<class 'pandas.core.frame.DataFrame'>\n",
      "Int64Index: 59400 entries, 0 to 59399\n",
      "Data columns (total 25 columns):\n",
      "id                     59400 non-null int64\n",
      "status_group           59400 non-null object\n",
      "amount_tsh             59400 non-null float64\n",
      "days_since_recorded    59400 non-null int64\n",
      "funder                 55765 non-null object\n",
      "gps_height             59400 non-null float64\n",
      "installer              55745 non-null object\n",
      "longitude              59400 non-null float64\n",
      "latitude               59400 non-null float64\n",
      "basin                  59400 non-null object\n",
      "region                 59400 non-null object\n",
      "district_code          59400 non-null int64\n",
      "lga                    59400 non-null object\n",
      "population             59400 non-null float64\n",
      "public_meeting         56066 non-null object\n",
      "scheme_management      55523 non-null object\n",
      "permit                 56344 non-null object\n",
      "construction_year      59400 non-null float64\n",
      "extraction_type        59400 non-null object\n",
      "management             59400 non-null object\n",
      "payment_type           59400 non-null object\n",
      "water_quality          59400 non-null object\n",
      "quantity               59400 non-null object\n",
      "source                 59400 non-null object\n",
      "waterpoint_type        59400 non-null object\n",
      "dtypes: float64(6), int64(3), object(16)\n",
      "memory usage: 11.8+ MB\n"
     ]
    }
   ],
   "source": [
    "data.info()"
   ]
  },
  {
   "cell_type": "code",
   "execution_count": 222,
   "metadata": {
    "colab": {
     "base_uri": "https://localhost:8080/",
     "height": 238
    },
    "colab_type": "code",
    "id": "WQmwL7hiKyyT",
    "outputId": "52d0a2fe-8825-422d-97d0-4b39bcad24cf"
   },
   "outputs": [],
   "source": [
    "# data.groupby(['installer', 'funder','status_group']).size() "
   ]
  },
  {
   "cell_type": "code",
   "execution_count": 223,
   "metadata": {
    "colab": {},
    "colab_type": "code",
    "id": "z5RcR3g4KyyY"
   },
   "outputs": [],
   "source": [
    "# data.drop('installer',axis=1,inplace=True)\n",
    "# INSTALLER STAYS"
   ]
  },
  {
   "cell_type": "code",
   "execution_count": 224,
   "metadata": {
    "colab": {
     "base_uri": "https://localhost:8080/",
     "height": 459
    },
    "colab_type": "code",
    "id": "XPs3e3FWKyyf",
    "outputId": "f23237ac-a4f1-4164-e940-47a94d08b0a8"
   },
   "outputs": [
    {
     "data": {
      "text/plain": [
       "id                        0\n",
       "status_group              0\n",
       "amount_tsh                0\n",
       "days_since_recorded       0\n",
       "funder                 3635\n",
       "gps_height                0\n",
       "installer              3655\n",
       "longitude                 0\n",
       "latitude                  0\n",
       "basin                     0\n",
       "region                    0\n",
       "district_code             0\n",
       "lga                       0\n",
       "population                0\n",
       "public_meeting         3334\n",
       "scheme_management      3877\n",
       "permit                 3056\n",
       "construction_year         0\n",
       "extraction_type           0\n",
       "management                0\n",
       "payment_type              0\n",
       "water_quality             0\n",
       "quantity                  0\n",
       "source                    0\n",
       "waterpoint_type           0\n",
       "dtype: int64"
      ]
     },
     "execution_count": 224,
     "metadata": {},
     "output_type": "execute_result"
    }
   ],
   "source": [
    "data.isnull().sum()"
   ]
  },
  {
   "cell_type": "code",
   "execution_count": 225,
   "metadata": {
    "colab": {},
    "colab_type": "code",
    "id": "lvBWOcxDKyyj"
   },
   "outputs": [],
   "source": [
    "data.drop('public_meeting', axis=1, inplace=True)\n",
    "data.drop('permit', axis=1, inplace=True)"
   ]
  },
  {
   "cell_type": "code",
   "execution_count": 226,
   "metadata": {
    "colab": {
     "base_uri": "https://localhost:8080/",
     "height": 425
    },
    "colab_type": "code",
    "id": "pehk6c8DKyyo",
    "outputId": "0eccf64b-2291-4df4-b2b0-1c323826ef28"
   },
   "outputs": [
    {
     "data": {
      "text/plain": [
       "id                        0\n",
       "status_group              0\n",
       "amount_tsh                0\n",
       "days_since_recorded       0\n",
       "funder                 3635\n",
       "gps_height                0\n",
       "installer              3655\n",
       "longitude                 0\n",
       "latitude                  0\n",
       "basin                     0\n",
       "region                    0\n",
       "district_code             0\n",
       "lga                       0\n",
       "population                0\n",
       "scheme_management      3877\n",
       "construction_year         0\n",
       "extraction_type           0\n",
       "management                0\n",
       "payment_type              0\n",
       "water_quality             0\n",
       "quantity                  0\n",
       "source                    0\n",
       "waterpoint_type           0\n",
       "dtype: int64"
      ]
     },
     "execution_count": 226,
     "metadata": {},
     "output_type": "execute_result"
    }
   ],
   "source": [
    "data.isnull().sum()"
   ]
  },
  {
   "cell_type": "code",
   "execution_count": 227,
   "metadata": {
    "colab": {
     "base_uri": "https://localhost:8080/",
     "height": 527
    },
    "colab_type": "code",
    "id": "vXWJXRuxKyys",
    "outputId": "2e75810e-6bd0-44e2-b918-d66f6658fcaf"
   },
   "outputs": [
    {
     "name": "stdout",
     "output_type": "stream",
     "text": [
      "<class 'pandas.core.frame.DataFrame'>\n",
      "Int64Index: 59400 entries, 0 to 59399\n",
      "Data columns (total 23 columns):\n",
      "id                     59400 non-null int64\n",
      "status_group           59400 non-null object\n",
      "amount_tsh             59400 non-null float64\n",
      "days_since_recorded    59400 non-null int64\n",
      "funder                 55765 non-null object\n",
      "gps_height             59400 non-null float64\n",
      "installer              55745 non-null object\n",
      "longitude              59400 non-null float64\n",
      "latitude               59400 non-null float64\n",
      "basin                  59400 non-null object\n",
      "region                 59400 non-null object\n",
      "district_code          59400 non-null int64\n",
      "lga                    59400 non-null object\n",
      "population             59400 non-null float64\n",
      "scheme_management      55523 non-null object\n",
      "construction_year      59400 non-null float64\n",
      "extraction_type        59400 non-null object\n",
      "management             59400 non-null object\n",
      "payment_type           59400 non-null object\n",
      "water_quality          59400 non-null object\n",
      "quantity               59400 non-null object\n",
      "source                 59400 non-null object\n",
      "waterpoint_type        59400 non-null object\n",
      "dtypes: float64(6), int64(3), object(14)\n",
      "memory usage: 10.9+ MB\n"
     ]
    }
   ],
   "source": [
    "data.info()"
   ]
  },
  {
   "cell_type": "code",
   "execution_count": 228,
   "metadata": {
    "colab": {},
    "colab_type": "code",
    "id": "rFpnIBJzKyyw"
   },
   "outputs": [],
   "source": [
    "#For every categorical response, convert the levels to lower case, in case there is random capitalization\n",
    "data.waterpoint_type = data.waterpoint_type.str.lower()\n",
    "data.funder = data.funder.str.lower()\n",
    "data.basin = data.basin.str.lower()\n",
    "data.region = data.region.str.lower()\n",
    "data.source = data.source.str.lower()\n",
    "data.lga = data.lga.str.lower()\n",
    "data.management = data.management.str.lower()\n",
    "data.quantity = data.quantity.str.lower()\n",
    "data.water_quality = data.water_quality.str.lower()\n",
    "data.payment_type=data.payment_type.str.lower()\n",
    "data.extraction_type=data.extraction_type.str.lower()"
   ]
  },
  {
   "cell_type": "code",
   "execution_count": 229,
   "metadata": {
    "colab": {
     "base_uri": "https://localhost:8080/",
     "height": 748
    },
    "colab_type": "code",
    "id": "I57DD2PcKyy0",
    "outputId": "d4771a45-d082-4516-bded-cd4e36cbc203"
   },
   "outputs": [
    {
     "name": "stdout",
     "output_type": "stream",
     "text": [
      "id                     0\n",
      "status_group           0\n",
      "amount_tsh             0\n",
      "days_since_recorded    0\n",
      "funder                 0\n",
      "gps_height             0\n",
      "installer              0\n",
      "longitude              0\n",
      "latitude               0\n",
      "basin                  0\n",
      "region                 0\n",
      "district_code          0\n",
      "lga                    0\n",
      "population             0\n",
      "scheme_management      0\n",
      "construction_year      0\n",
      "extraction_type        0\n",
      "management             0\n",
      "payment_type           0\n",
      "water_quality          0\n",
      "quantity               0\n",
      "source                 0\n",
      "waterpoint_type        0\n",
      "dtype: int64\n",
      "<class 'pandas.core.frame.DataFrame'>\n",
      "Int64Index: 59400 entries, 0 to 59399\n",
      "Data columns (total 23 columns):\n",
      "id                     59400 non-null int64\n",
      "status_group           59400 non-null object\n",
      "amount_tsh             59400 non-null float64\n",
      "days_since_recorded    59400 non-null int64\n",
      "funder                 59400 non-null object\n",
      "gps_height             59400 non-null float64\n",
      "installer              59400 non-null object\n",
      "longitude              59400 non-null float64\n",
      "latitude               59400 non-null float64\n",
      "basin                  59400 non-null object\n",
      "region                 59400 non-null object\n",
      "district_code          59400 non-null int64\n",
      "lga                    59400 non-null object\n",
      "population             59400 non-null float64\n",
      "scheme_management      59400 non-null object\n",
      "construction_year      59400 non-null float64\n",
      "extraction_type        59400 non-null object\n",
      "management             59400 non-null object\n",
      "payment_type           59400 non-null object\n",
      "water_quality          59400 non-null object\n",
      "quantity               59400 non-null object\n",
      "source                 59400 non-null object\n",
      "waterpoint_type        59400 non-null object\n",
      "dtypes: float64(6), int64(3), object(14)\n",
      "memory usage: 10.9+ MB\n"
     ]
    },
    {
     "data": {
      "text/plain": [
       "0          enough\n",
       "1    insufficient\n",
       "2          enough\n",
       "3             dry\n",
       "4        seasonal\n",
       "Name: quantity, dtype: object"
      ]
     },
     "execution_count": 229,
     "metadata": {},
     "output_type": "execute_result"
    }
   ],
   "source": [
    "data[\"funder\"].fillna(\"other\", inplace=True)\n",
    "data[\"scheme_management\"].fillna(\"other\", inplace=True)\n",
    "data[\"installer\"].fillna(\"other\", inplace=True)\n",
    "print(data.isnull().sum())\n",
    "data.info()\n",
    "data.quantity.head(5)"
   ]
  },
  {
   "cell_type": "code",
   "execution_count": 230,
   "metadata": {},
   "outputs": [
    {
     "name": "stdout",
     "output_type": "stream",
     "text": [
      "funder\n",
      "government of tanzania          9084\n",
      "other                           3635\n",
      "danida                          3114\n",
      "hesawa                          2202\n",
      "rwssp                           1374\n",
      "world bank                      1349\n",
      "kkkt                            1287\n",
      "world vision                    1246\n",
      "unicef                          1057\n",
      "tasaf                            877\n",
      "district council                 843\n",
      "dhv                              829\n",
      "private individual               826\n",
      "dwsp                             811\n",
      "0                                777\n",
      "norad                            765\n",
      "germany republi                  610\n",
      "tcrs                             602\n",
      "ministry of water                590\n",
      "water                            583\n",
      "dwe                              484\n",
      "netherlands                      470\n",
      "hifab                            450\n",
      "adb                              448\n",
      "lga                              442\n",
      "                                ... \n",
      "namungo miners                     1\n",
      "nasan                              1\n",
      "nassan                             1\n",
      "natherland                         1\n",
      "mwita machota                      1\n",
      "mwita lucas                        1\n",
      "mwita kichere                      1\n",
      "mwalimu muhenza                    1\n",
      "muslimehefen international         1\n",
      "muslimu society(shia)              1\n",
      "muwasa                             1\n",
      "mwakabalula                        1\n",
      "mwakalinga                         1\n",
      "mwakifuna                          1\n",
      "mwalimu  maneromango muhenzi       1\n",
      "mwalimu omari                      1\n",
      "mwita                              1\n",
      "mwamama                            1\n",
      "mwamvita rajabu                    1\n",
      "mwanaisha mwidadi                  1\n",
      "mwanamisi ally                     1\n",
      "mwanza                             1\n",
      "mwingereza                         1\n",
      "mwinjuma mzee                      1\n",
      "mganga                             1\n",
      "Length: 1898, dtype: int64\n"
     ]
    }
   ],
   "source": [
    "# Add column named 'status_group_vals' to allow the use of a pivot table to check differences\n",
    "# between the different funders.\n",
    "\n",
    "#vals_to_replace = {'functional':2, 'functional needs repair':1, 'non functional':0}\n",
    "#data['status_group_vals']  = data.status_group.replace(vals_to_replace)\n",
    "\n",
    "#piv_table = pd.pivot_table(data,index=['funder','status_group'],values='status_group_vals', aggfunc='count')\n",
    "\n",
    "\n",
    "\n",
    "sorted_funder = data.groupby(['funder']).size().sort_values(ascending=False)\n",
    "print(sorted_funder)\n",
    "\n",
    "def funder_wrangler(row):  \n",
    "    '''Keep top 5 values and set the rest to 'other'''\n",
    "\n",
    "    if row['funder']=='government of tanzania':\n",
    "        return 'gov'\n",
    "    elif row['funder']=='danida':\n",
    "        return 'danida'\n",
    "    elif row['funder']=='hesawa':\n",
    "        return 'hesawa'\n",
    "    elif row['funder']=='rwssp':\n",
    "        return 'rwssp'\n",
    "    elif row['funder']=='world bank':\n",
    "        return 'world_bank'    \n",
    "    elif row['funder']=='kkkt':\n",
    "        return 'kkkt'\n",
    "    elif row['funder']=='world vision':\n",
    "        return 'world vision'\n",
    "    elif row['funder']=='unicef':\n",
    "        return 'unicef'\n",
    "    else:\n",
    "        return 'other'\n",
    "    \n",
    "#df['funder'] = df.apply(lambda row: funder_wrangler(row), axis=1)"
   ]
  },
  {
   "cell_type": "code",
   "execution_count": 231,
   "metadata": {
    "colab": {},
    "colab_type": "code",
    "id": "GiGHfLKxKyzO"
   },
   "outputs": [],
   "source": [
    "# observation = data.groupby(['installer', 'status_group']).filter(lambda x : pd.Series(['UNICEF']).isin(x['installer']).all()).groupby(['installer', 'status_group']).size()\n",
    "\n",
    "\n",
    "# to see them all\n",
    "pd.set_option('display.max_rows', 500)\n",
    "\n",
    "# get most frequent installers\n",
    "#sorted_installers = data.groupby(['installer']).size().sort_values(ascending=False)\n",
    "\n",
    "\n",
    "# this is checked by -> data.groupby(['installer']).size().sort_values(ascending=False)\n",
    "# as I observed, most of others distribution is normal, so we won't lose valueable data.\n",
    "\n",
    "# keep the top ones, mark other as \"other\"\n",
    "def installer_wrangler(row):\n",
    "    if row['installer']=='DWE':\n",
    "        return 'dwe'\n",
    "    elif row['installer']=='Government':\n",
    "        return 'gov'\n",
    "    elif row['installer']=='RWE':\n",
    "        return 'rwe'\n",
    "    elif row['installer']=='Commu':\n",
    "        return 'commu'\n",
    "    elif row['installer']=='DANIDA':\n",
    "        return 'danida'\n",
    "    elif row['installer']=='KKKT':\n",
    "        return 'kkkt'\n",
    "    elif row['installer']== 'Hesawa':\n",
    "        return 'hesawa'\n",
    "    else:\n",
    "        return 'other'  \n",
    "\n",
    "data['installer'] = data.apply(lambda row: installer_wrangler(row), axis=1)"
   ]
  },
  {
   "cell_type": "code",
   "execution_count": 232,
   "metadata": {
    "scrolled": false
   },
   "outputs": [
    {
     "data": {
      "text/plain": [
       "scheme_management\n",
       "Company              1061\n",
       "None                    1\n",
       "Other                 766\n",
       "Parastatal           1680\n",
       "Private operator     1063\n",
       "SWC                    97\n",
       "Trust                  72\n",
       "VWC                 36793\n",
       "WUA                  2883\n",
       "WUG                  5206\n",
       "Water Board          2748\n",
       "Water authority      3153\n",
       "other                3877\n",
       "dtype: int64"
      ]
     },
     "execution_count": 232,
     "metadata": {},
     "output_type": "execute_result"
    }
   ],
   "source": [
    "pd.set_option('display.max_rows', 50)\n",
    "data.isnull().sum()\n",
    "\n",
    "\n",
    "\n",
    "def scheme_wrangler(row):\n",
    "    '''Keep top 5 values and set the rest to 'other'. '''\n",
    "    if row['scheme_management']=='VWC':\n",
    "        return 'vwc'\n",
    "    elif row['scheme_management']=='WUG':\n",
    "        return 'wug'\n",
    "    elif row['scheme_management']=='Water authority':\n",
    "        return 'wtr_auth'\n",
    "    elif row['scheme_management']=='WUA':\n",
    "        return 'wua'\n",
    "    elif row['scheme_management']=='Water Board':\n",
    "        return 'wtr_brd'\n",
    "    else:\n",
    "        return 'other'\n",
    "\n",
    "\n",
    "data.scheme_management.unique()\n",
    "data.groupby(['scheme_management']).size()\n"
   ]
  },
  {
   "cell_type": "code",
   "execution_count": 233,
   "metadata": {},
   "outputs": [],
   "source": [
    "data['scheme_management'] = data.apply(lambda row: scheme_wrangler(row), axis=1)"
   ]
  },
  {
   "cell_type": "code",
   "execution_count": 234,
   "metadata": {},
   "outputs": [
    {
     "data": {
      "text/plain": [
       "extraction_type\n",
       "afridev                       1770\n",
       "cemo                            90\n",
       "climax                          32\n",
       "gravity                      26780\n",
       "india mark ii                 2400\n",
       "india mark iii                  98\n",
       "ksb                           1415\n",
       "mono                          2865\n",
       "nira/tanira                   8154\n",
       "other                         6430\n",
       "other - mkulima/shinyanga        2\n",
       "other - play pump               85\n",
       "other - rope pump              451\n",
       "other - swn 81                 229\n",
       "submersible                   4764\n",
       "swn 80                        3670\n",
       "walimi                          48\n",
       "windmill                       117\n",
       "dtype: int64"
      ]
     },
     "execution_count": 234,
     "metadata": {},
     "output_type": "execute_result"
    }
   ],
   "source": [
    "data.groupby(['extraction_type']).size()"
   ]
  },
  {
   "cell_type": "code",
   "execution_count": 235,
   "metadata": {},
   "outputs": [
    {
     "name": "stdout",
     "output_type": "stream",
     "text": [
      "<class 'pandas.core.frame.DataFrame'>\n",
      "Int64Index: 59400 entries, 0 to 59399\n",
      "Data columns (total 23 columns):\n",
      "id                     59400 non-null int64\n",
      "status_group           59400 non-null object\n",
      "amount_tsh             59400 non-null float64\n",
      "days_since_recorded    59400 non-null int64\n",
      "funder                 59400 non-null object\n",
      "gps_height             59400 non-null float64\n",
      "installer              59400 non-null object\n",
      "longitude              59400 non-null float64\n",
      "latitude               59400 non-null float64\n",
      "basin                  59400 non-null object\n",
      "region                 59400 non-null object\n",
      "district_code          59400 non-null int64\n",
      "lga                    59400 non-null object\n",
      "population             59400 non-null float64\n",
      "scheme_management      59400 non-null object\n",
      "construction_year      59400 non-null float64\n",
      "extraction_type        59400 non-null object\n",
      "management             59400 non-null object\n",
      "payment_type           59400 non-null object\n",
      "water_quality          59400 non-null object\n",
      "quantity               59400 non-null object\n",
      "source                 59400 non-null object\n",
      "waterpoint_type        59400 non-null object\n",
      "dtypes: float64(6), int64(3), object(14)\n",
      "memory usage: 10.9+ MB\n"
     ]
    }
   ],
   "source": [
    "#checking final rows\n",
    "data.info()"
   ]
  },
  {
   "cell_type": "code",
   "execution_count": 236,
   "metadata": {},
   "outputs": [
    {
     "data": {
      "text/plain": [
       "region\n",
       "arusha           non functionalfunctional needs repairnon funct...\n",
       "dar es salaam    functionalnon functionalnon functionalnon func...\n",
       "dodoma           functionalfunctionalfunctional needs repairnon...\n",
       "iringa           functionalnon functionalnon functionalfunction...\n",
       "kagera           functionalfunctionalfunctionalfunctionalfuncti...\n",
       "kigoma           functionalnon functionalfunctional needs repai...\n",
       "kilimanjaro      functionalfunctionalfunctional needs repairnon...\n",
       "lindi            functionalnon functionalnon functionalnon func...\n",
       "manyara          functionalfunctionalfunctionalnon functionalfu...\n",
       "mara             functionalnon functionalnon functionalnon func...\n",
       "mbeya            non functionalfunctionalfunctionalnon function...\n",
       "morogoro         non functionalfunctional needs repairfunctiona...\n",
       "mtwara           non functionalfunctional needs repairfunctiona...\n",
       "mwanza           functional needs repairnon functionalnon funct...\n",
       "pwani            functionalfunctionalfunctionalnon functionalno...\n",
       "rukwa            functionalnon functionalnon functionalnon func...\n",
       "ruvuma           functionalfunctional needs repairfunctional ne...\n",
       "shinyanga        non functionalnon functionalfunctionalfunction...\n",
       "singida          non functionalfunctionalnon functionalfunction...\n",
       "tabora           non functionalnon functionalnon functionalfunc...\n",
       "tanga            functionalfunctionalnon functionalnon function...\n",
       "Name: status_group, dtype: object"
      ]
     },
     "execution_count": 236,
     "metadata": {},
     "output_type": "execute_result"
    }
   ],
   "source": [
    "# basin, lga, region, ward seems so similiar.\n",
    "# we dropped ward earlier.\n",
    "data.groupby(['region'])['status_group'].sum()\n",
    "\n",
    "# sns.catplot(col='region', x='status_group', data=region_data, kind='bar')"
   ]
  },
  {
   "cell_type": "code",
   "execution_count": 237,
   "metadata": {},
   "outputs": [],
   "source": [
    "pd.DataFrame(data).to_csv(output_fpath)"
   ]
  }
 ],
 "metadata": {
  "colab": {
   "include_colab_link": true,
   "name": "rfc_cleaning.ipynb",
   "provenance": [],
   "toc_visible": true
  },
  "kernelspec": {
   "display_name": "Python 3",
   "language": "python",
   "name": "python3"
  },
  "language_info": {
   "codemirror_mode": {
    "name": "ipython",
    "version": 3
   },
   "file_extension": ".py",
   "mimetype": "text/x-python",
   "name": "python",
   "nbconvert_exporter": "python",
   "pygments_lexer": "ipython3",
   "version": "3.7.0"
  }
 },
 "nbformat": 4,
 "nbformat_minor": 1
}
