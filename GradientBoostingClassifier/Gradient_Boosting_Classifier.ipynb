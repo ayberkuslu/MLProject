{
 "cells": [
  {
   "cell_type": "markdown",
   "metadata": {
    "colab_type": "text",
    "id": "view-in-github"
   },
   "source": [
    "<a href=\"https://colab.research.google.com/github/ayberkuslu/MLProject/blob/master/GradientBoostingClassifier/Gradient_Boosting_Classifier.ipynb\" target=\"_parent\"><img src=\"https://colab.research.google.com/assets/colab-badge.svg\" alt=\"Open In Colab\"/></a>"
   ]
  },
  {
   "cell_type": "code",
   "execution_count": null,
   "metadata": {
    "colab": {},
    "colab_type": "code",
    "id": "979kZ8qr_TUQ"
   },
   "outputs": [],
   "source": [
    "import pandas as pd\n",
    "import numpy as np\n",
    "from sklearn.model_selection import train_test_split\n",
    "from sklearn.model_selection import GridSearchCV\n",
    "from sklearn.ensemble import GradientBoostingClassifier\n",
    "\n",
    "train = r\"/content/preprocessed_train.csv\"\n",
    "test = r\"/content/preprocessed_test.csv\"\n",
    "\n",
    "train = pd.read_csv(train)\n",
    "test = pd.read_csv(test)\n",
    "# train datasında guncelleme yapildi ancak gereksiz featurelar kodun icinde secilmedi."
   ]
  },
  {
   "cell_type": "code",
   "execution_count": null,
   "metadata": {
    "colab": {},
    "colab_type": "code",
    "id": "RpBh0btg_TUZ"
   },
   "outputs": [],
   "source": [
    "# get dummy columns ->> similar to factorize. her feature degeri icin boolean column aç.\n",
    "\n",
    "dummy_cols = ['funder', 'installer', 'basin', 'public_meeting', 'scheme_management', 'permit',\n",
    "              'construction_year', 'extraction_type_class', 'payment_type', 'water_quality',\n",
    "              'quantity', 'source_type', 'source_class', 'waterpoint_type',\n",
    "             'waterpoint_type_group']\n",
    "\n",
    "train = pd.get_dummies(train, columns = dummy_cols)\n",
    "\n",
    "train = train.sample(frac=1).reset_index(drop=True)"
   ]
  },
  {
   "cell_type": "code",
   "execution_count": null,
   "metadata": {
    "colab": {},
    "colab_type": "code",
    "id": "XypNVHbl_TUd"
   },
   "outputs": [],
   "source": [
    "test = pd.get_dummies(test, columns = dummy_cols)"
   ]
  },
  {
   "cell_type": "code",
   "execution_count": null,
   "metadata": {
    "colab": {},
    "colab_type": "code",
    "id": "s6k9ssUd_TUj"
   },
   "outputs": [],
   "source": [
    "# %80 e %20 lik train ve test setlerini ayir\n",
    "\n",
    "target = train.status_group\n",
    "features = train.drop('status_group', axis=1)\n",
    "\n",
    "X_train, X_val, y_train, y_val = train_test_split(features, target, train_size=0.8)"
   ]
  },
  {
   "cell_type": "code",
   "execution_count": null,
   "metadata": {
    "colab": {},
    "colab_type": "code",
    "id": "y15YKbir_TUp"
   },
   "outputs": [],
   "source": [
    "\n",
    "def model(X_train, X_val, y_train, y_val, test):\n",
    "    if __name__ == '__main__':\n",
    "    \n",
    "        param_grid = {'learning_rate': [0.075, 0.7],\n",
    "                      'max_depth': [13, 14],\n",
    "                      'min_samples_leaf': [15, 16],\n",
    "                      'max_features': [1.0],\n",
    "                      'n_estimators': [100, 200]}                      \n",
    "\n",
    "        estimator = GridSearchCV(estimator=GradientBoostingClassifier(),\n",
    "                                 param_grid=param_grid,\n",
    "                                 n_jobs=-1, verbose=15\n",
    "                                 )\n",
    "\n",
    "        estimator.fit(X_train, y_train)\n",
    "\n",
    "        best_params = estimator.best_params_\n",
    "\n",
    "        print (best_params)\n",
    "                                 \n",
    "        validation_accuracy = estimator.score(X_val, y_val)\n",
    "        print('Validation accuracy: ', validation_accuracy)"
   ]
  },
  {
   "cell_type": "code",
   "execution_count": null,
   "metadata": {
    "colab": {
     "base_uri": "https://localhost:8080/",
     "height": 51
    },
    "colab_type": "code",
    "id": "Dhg4K7EV_TUv",
    "outputId": "42308792-a068-469d-b16d-ccb0d358742c"
   },
   "outputs": [
    {
     "name": "stdout",
     "output_type": "stream",
     "text": [
      "Fitting 5 folds for each of 16 candidates, totalling 80 fits\n"
     ]
    },
    {
     "name": "stderr",
     "output_type": "stream",
     "text": [
      "[Parallel(n_jobs=-1)]: Using backend LokyBackend with 2 concurrent workers.\n"
     ]
    }
   ],
   "source": [
    "model(X_train, X_val, y_train, y_val, test)\n",
    "#Validation accuracy:  0.796043771044"
   ]
  },
  {
   "cell_type": "code",
   "execution_count": null,
   "metadata": {
    "colab": {},
    "colab_type": "code",
    "id": "Q2G3-vjR_TU2"
   },
   "outputs": [],
   "source": [
    "# Read submission format.csv.\n",
    "\n",
    "submit_loc = r\"/content/SubmissionFormat.csv\"\n",
    "test_id = pd.read_csv(submit_loc)\n",
    "test_id.columns = ['idd', 'status_group']\n",
    "test_id = test_id.idd"
   ]
  },
  {
   "cell_type": "code",
   "execution_count": null,
   "metadata": {
    "colab": {},
    "colab_type": "code",
    "id": "qylJTlzn_TU9"
   },
   "outputs": [],
   "source": [
    "def model_for_submission(features, target, test):\n",
    "    if __name__ == '__main__':\n",
    "\n",
    "         best_params = {'learning_rate': [0.075],\n",
    "                        'max_depth': [14],\n",
    "                        'min_samples_leaf': [16],\n",
    "                        'max_features': [1.0],\n",
    "                        'n_estimators': [100]}                      \n",
    "\n",
    "         estimator = GridSearchCV(estimator=GradientBoostingClassifier(),\n",
    "                                 param_grid=best_params,\n",
    "                                 n_jobs=-1\n",
    "                                  ,verbose=15)\n",
    "\n",
    "         estimator.fit(features, target)     \n",
    "\n",
    "         predictions = estimator.predict(test)\n",
    "\n",
    "         data = {'ID': test_id, 'status_group': predictions}\n",
    "\n",
    "         submit = pd.DataFrame(data=data)\n",
    "\n",
    "         vals_to_replace = {2:'functional', 1:'functional needs repair',\n",
    "                           0:'non functional'}\n",
    "\n",
    "         submit.status_group = submit.status_group.replace(vals_to_replace)        \n",
    "\n",
    "         submit.to_csv('Gradient-Boosting-Classifier-Results.csv', index=False)"
   ]
  },
  {
   "cell_type": "code",
   "execution_count": null,
   "metadata": {
    "colab": {},
    "colab_type": "code",
    "id": "NDT1x5Ge_TVC"
   },
   "outputs": [],
   "source": [
    "# Run model for submission.\n",
    "\n",
    "model_for_submission(features, target, test)"
   ]
  },
  {
   "cell_type": "code",
   "execution_count": null,
   "metadata": {
    "colab": {},
    "colab_type": "code",
    "id": "G0oz-alf_TVL"
   },
   "outputs": [],
   "source": [
    "## RESULT :\n",
    " # %100 train data kullanarak 0.8077 skor elde ettik.\n",
    "\n",
    "# Fitting 5 folds for each of 1 candidates, totalling 5 fits\n",
    "# [Parallel(n_jobs=-1)]: Using backend LokyBackend with 2 concurrent workers.\n",
    "# [Parallel(n_jobs=-1)]: Done   1 tasks      | elapsed:  4.9min\n",
    "# [Parallel(n_jobs=-1)]: Done   2 tasks      | elapsed:  4.9min\n",
    "# [Parallel(n_jobs=-1)]: Done   3 out of   5 | elapsed:  9.7min remaining:  6.4min\n",
    "# [Parallel(n_jobs=-1)]: Done   5 out of   5 | elapsed: 12.6min remaining:    0.0s\n",
    "# [Parallel(n_jobs=-1)]: Done   5 out of   5 | elapsed: 12.6min finished"
   ]
  }
 ],
 "metadata": {
  "colab": {
   "include_colab_link": true,
   "name": "Copy of Water Pump 3 - Gradient Boosting Classifier.ipynb",
   "provenance": []
  },
  "kernelspec": {
   "display_name": "Python 3",
   "language": "python",
   "name": "python3"
  },
  "language_info": {
   "codemirror_mode": {
    "name": "ipython",
    "version": 3
   },
   "file_extension": ".py",
   "mimetype": "text/x-python",
   "name": "python",
   "nbconvert_exporter": "python",
   "pygments_lexer": "ipython3",
   "version": "3.6.9"
  }
 },
 "nbformat": 4,
 "nbformat_minor": 1
}