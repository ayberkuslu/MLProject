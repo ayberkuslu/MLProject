{
 "cells": [
  {
   "cell_type": "code",
   "execution_count": 2,
   "metadata": {
    "collapsed": true
   },
   "outputs": [],
   "source": [
    "import pandas as pd\n",
    "import numpy as np\n",
    "import matplotlib.pyplot as plt\n",
    "import seaborn as sns\n",
    "\n",
    "%matplotlib inline\n",
    "\n",
    "loc = r\"C:\\Users\\me\\Documents\\datasets\\pump.csv\"\n",
    "loc2 = r\"C:\\Users\\me\\Documents\\datasets\\pump_labels.csv\"\n",
    "\n",
    "# Load data.\n",
    "df = pd.read_csv(loc)\n",
    "labels = pd.read_csv(loc2)\n",
    "\n",
    "# Merge data and labels together in one dataframe.\n",
    "df = pd.merge(df, labels, on='id')\n",
    "del labels"
   ]
  },
  {
   "cell_type": "code",
   "execution_count": 3,
   "metadata": {
    "collapsed": false
   },
   "outputs": [
    {
     "name": "stdout",
     "output_type": "stream",
     "text": [
      "<class 'pandas.core.frame.DataFrame'>\n",
      "Int64Index: 59400 entries, 0 to 59399\n",
      "Data columns (total 41 columns):\n",
      "id                       59400 non-null int64\n",
      "amount_tsh               59400 non-null float64\n",
      "date_recorded            59400 non-null object\n",
      "funder                   55765 non-null object\n",
      "gps_height               59400 non-null int64\n",
      "installer                55745 non-null object\n",
      "longitude                59400 non-null float64\n",
      "latitude                 59400 non-null float64\n",
      "wpt_name                 59400 non-null object\n",
      "num_private              59400 non-null int64\n",
      "basin                    59400 non-null object\n",
      "subvillage               59029 non-null object\n",
      "region                   59400 non-null object\n",
      "region_code              59400 non-null int64\n",
      "district_code            59400 non-null int64\n",
      "lga                      59400 non-null object\n",
      "ward                     59400 non-null object\n",
      "population               59400 non-null int64\n",
      "public_meeting           56066 non-null object\n",
      "recorded_by              59400 non-null object\n",
      "scheme_management        55523 non-null object\n",
      "scheme_name              31234 non-null object\n",
      "permit                   56344 non-null object\n",
      "construction_year        59400 non-null int64\n",
      "extraction_type          59400 non-null object\n",
      "extraction_type_group    59400 non-null object\n",
      "extraction_type_class    59400 non-null object\n",
      "management               59400 non-null object\n",
      "management_group         59400 non-null object\n",
      "payment                  59400 non-null object\n",
      "payment_type             59400 non-null object\n",
      "water_quality            59400 non-null object\n",
      "quality_group            59400 non-null object\n",
      "quantity                 59400 non-null object\n",
      "quantity_group           59400 non-null object\n",
      "source                   59400 non-null object\n",
      "source_type              59400 non-null object\n",
      "source_class             59400 non-null object\n",
      "waterpoint_type          59400 non-null object\n",
      "waterpoint_type_group    59400 non-null object\n",
      "status_group             59400 non-null object\n",
      "dtypes: float64(3), int64(7), object(31)\n",
      "memory usage: 19.0+ MB\n"
     ]
    }
   ],
   "source": [
    "# Explore data set.\n",
    "\n",
    "df.info()"
   ]
  },
  {
   "cell_type": "code",
   "execution_count": 4,
   "metadata": {
    "collapsed": false
   },
   "outputs": [
    {
     "data": {
      "text/html": [
       "<div>\n",
       "<table border=\"1\" class=\"dataframe\">\n",
       "  <thead>\n",
       "    <tr style=\"text-align: right;\">\n",
       "      <th></th>\n",
       "      <th>id</th>\n",
       "      <th>amount_tsh</th>\n",
       "      <th>date_recorded</th>\n",
       "      <th>funder</th>\n",
       "      <th>gps_height</th>\n",
       "      <th>installer</th>\n",
       "      <th>longitude</th>\n",
       "      <th>latitude</th>\n",
       "      <th>wpt_name</th>\n",
       "      <th>num_private</th>\n",
       "      <th>...</th>\n",
       "      <th>water_quality</th>\n",
       "      <th>quality_group</th>\n",
       "      <th>quantity</th>\n",
       "      <th>quantity_group</th>\n",
       "      <th>source</th>\n",
       "      <th>source_type</th>\n",
       "      <th>source_class</th>\n",
       "      <th>waterpoint_type</th>\n",
       "      <th>waterpoint_type_group</th>\n",
       "      <th>status_group</th>\n",
       "    </tr>\n",
       "  </thead>\n",
       "  <tbody>\n",
       "    <tr>\n",
       "      <th>0</th>\n",
       "      <td>69572</td>\n",
       "      <td>6000.0</td>\n",
       "      <td>2011-03-14</td>\n",
       "      <td>Roman</td>\n",
       "      <td>1390</td>\n",
       "      <td>Roman</td>\n",
       "      <td>34.938093</td>\n",
       "      <td>-9.856322</td>\n",
       "      <td>none</td>\n",
       "      <td>0</td>\n",
       "      <td>...</td>\n",
       "      <td>soft</td>\n",
       "      <td>good</td>\n",
       "      <td>enough</td>\n",
       "      <td>enough</td>\n",
       "      <td>spring</td>\n",
       "      <td>spring</td>\n",
       "      <td>groundwater</td>\n",
       "      <td>communal standpipe</td>\n",
       "      <td>communal standpipe</td>\n",
       "      <td>functional</td>\n",
       "    </tr>\n",
       "    <tr>\n",
       "      <th>1</th>\n",
       "      <td>8776</td>\n",
       "      <td>0.0</td>\n",
       "      <td>2013-03-06</td>\n",
       "      <td>Grumeti</td>\n",
       "      <td>1399</td>\n",
       "      <td>GRUMETI</td>\n",
       "      <td>34.698766</td>\n",
       "      <td>-2.147466</td>\n",
       "      <td>Zahanati</td>\n",
       "      <td>0</td>\n",
       "      <td>...</td>\n",
       "      <td>soft</td>\n",
       "      <td>good</td>\n",
       "      <td>insufficient</td>\n",
       "      <td>insufficient</td>\n",
       "      <td>rainwater harvesting</td>\n",
       "      <td>rainwater harvesting</td>\n",
       "      <td>surface</td>\n",
       "      <td>communal standpipe</td>\n",
       "      <td>communal standpipe</td>\n",
       "      <td>functional</td>\n",
       "    </tr>\n",
       "    <tr>\n",
       "      <th>2</th>\n",
       "      <td>34310</td>\n",
       "      <td>25.0</td>\n",
       "      <td>2013-02-25</td>\n",
       "      <td>Lottery Club</td>\n",
       "      <td>686</td>\n",
       "      <td>World vision</td>\n",
       "      <td>37.460664</td>\n",
       "      <td>-3.821329</td>\n",
       "      <td>Kwa Mahundi</td>\n",
       "      <td>0</td>\n",
       "      <td>...</td>\n",
       "      <td>soft</td>\n",
       "      <td>good</td>\n",
       "      <td>enough</td>\n",
       "      <td>enough</td>\n",
       "      <td>dam</td>\n",
       "      <td>dam</td>\n",
       "      <td>surface</td>\n",
       "      <td>communal standpipe multiple</td>\n",
       "      <td>communal standpipe</td>\n",
       "      <td>functional</td>\n",
       "    </tr>\n",
       "  </tbody>\n",
       "</table>\n",
       "<p>3 rows × 41 columns</p>\n",
       "</div>"
      ],
      "text/plain": [
       "      id  amount_tsh date_recorded        funder  gps_height     installer  \\\n",
       "0  69572      6000.0    2011-03-14         Roman        1390         Roman   \n",
       "1   8776         0.0    2013-03-06       Grumeti        1399       GRUMETI   \n",
       "2  34310        25.0    2013-02-25  Lottery Club         686  World vision   \n",
       "\n",
       "   longitude  latitude     wpt_name  num_private     ...      water_quality  \\\n",
       "0  34.938093 -9.856322         none            0     ...               soft   \n",
       "1  34.698766 -2.147466     Zahanati            0     ...               soft   \n",
       "2  37.460664 -3.821329  Kwa Mahundi            0     ...               soft   \n",
       "\n",
       "  quality_group      quantity  quantity_group                source  \\\n",
       "0          good        enough          enough                spring   \n",
       "1          good  insufficient    insufficient  rainwater harvesting   \n",
       "2          good        enough          enough                   dam   \n",
       "\n",
       "            source_type source_class              waterpoint_type  \\\n",
       "0                spring  groundwater           communal standpipe   \n",
       "1  rainwater harvesting      surface           communal standpipe   \n",
       "2                   dam      surface  communal standpipe multiple   \n",
       "\n",
       "  waterpoint_type_group status_group  \n",
       "0    communal standpipe   functional  \n",
       "1    communal standpipe   functional  \n",
       "2    communal standpipe   functional  \n",
       "\n",
       "[3 rows x 41 columns]"
      ]
     },
     "execution_count": 4,
     "metadata": {},
     "output_type": "execute_result"
    }
   ],
   "source": [
    "df.head(3)"
   ]
  },
  {
   "cell_type": "code",
   "execution_count": 5,
   "metadata": {
    "collapsed": false
   },
   "outputs": [
    {
     "data": {
      "text/plain": [
       "(59400, 41)"
      ]
     },
     "execution_count": 5,
     "metadata": {},
     "output_type": "execute_result"
    }
   ],
   "source": [
    "df.shape"
   ]
  },
  {
   "cell_type": "code",
   "execution_count": 6,
   "metadata": {
    "collapsed": false,
    "scrolled": true
   },
   "outputs": [
    {
     "data": {
      "text/plain": [
       "id                           0\n",
       "amount_tsh                   0\n",
       "date_recorded                0\n",
       "funder                    3635\n",
       "gps_height                   0\n",
       "installer                 3655\n",
       "longitude                    0\n",
       "latitude                     0\n",
       "wpt_name                     0\n",
       "num_private                  0\n",
       "basin                        0\n",
       "subvillage                 371\n",
       "region                       0\n",
       "region_code                  0\n",
       "district_code                0\n",
       "lga                          0\n",
       "ward                         0\n",
       "population                   0\n",
       "public_meeting            3334\n",
       "recorded_by                  0\n",
       "scheme_management         3877\n",
       "scheme_name              28166\n",
       "permit                    3056\n",
       "construction_year            0\n",
       "extraction_type              0\n",
       "extraction_type_group        0\n",
       "extraction_type_class        0\n",
       "management                   0\n",
       "management_group             0\n",
       "payment                      0\n",
       "payment_type                 0\n",
       "water_quality                0\n",
       "quality_group                0\n",
       "quantity                     0\n",
       "quantity_group               0\n",
       "source                       0\n",
       "source_type                  0\n",
       "source_class                 0\n",
       "waterpoint_type              0\n",
       "waterpoint_type_group        0\n",
       "status_group                 0\n",
       "dtype: int64"
      ]
     },
     "execution_count": 6,
     "metadata": {},
     "output_type": "execute_result"
    }
   ],
   "source": [
    "# Check for nulls.\n",
    "\n",
    "df.apply(lambda x: sum(x.isnull()))"
   ]
  },
  {
   "cell_type": "code",
   "execution_count": 7,
   "metadata": {
    "collapsed": false
   },
   "outputs": [
    {
     "data": {
      "text/plain": [
       "Government Of Tanzania      9084\n",
       "Danida                      3114\n",
       "Hesawa                      2202\n",
       "Rwssp                       1374\n",
       "World Bank                  1349\n",
       "Kkkt                        1287\n",
       "World Vision                1246\n",
       "Unicef                      1057\n",
       "Tasaf                        877\n",
       "District Council             843\n",
       "Dhv                          829\n",
       "Private Individual           826\n",
       "Dwsp                         811\n",
       "0                            777\n",
       "Norad                        765\n",
       "Germany Republi              610\n",
       "Tcrs                         602\n",
       "Ministry Of Water            590\n",
       "Water                        583\n",
       "Dwe                          484\n",
       "Netherlands                  470\n",
       "Hifab                        450\n",
       "Adb                          448\n",
       "Lga                          442\n",
       "Amref                        425\n",
       "Fini Water                   393\n",
       "Oxfam                        359\n",
       "Wateraid                     333\n",
       "Rc Church                    321\n",
       "Isf                          316\n",
       "                            ... \n",
       "Ras                            1\n",
       "Watu Wa Marekani               1\n",
       "Bhws                           1\n",
       "Erre Kappa                     1\n",
       "Mzungu                         1\n",
       "Matogoro                       1\n",
       "Shekhe                         1\n",
       "Shule Ya Msingi                1\n",
       "Semaki                         1\n",
       "Serian                         1\n",
       "Nipon & Panoco                 1\n",
       "Ruangwa Lga                    1\n",
       "Wahidi                         1\n",
       "Lungwe                         1\n",
       "Siza Mayengo                   1\n",
       "Namungo Miners                 1\n",
       "Kizenga                        1\n",
       "Grail Mission Kiseki Bar       1\n",
       "Mwita Machota                  1\n",
       "Craelius                       1\n",
       "Makusa                         1\n",
       "People Of Sweden               1\n",
       "Magige                         1\n",
       "Raramataki                     1\n",
       "Kanisa La Tag                  1\n",
       "Mzee Yassin Naya               1\n",
       "Mkurugenzi                     1\n",
       "Bukumbi                        1\n",
       "Kdc                            1\n",
       "Totaland Care                  1\n",
       "Name: funder, dtype: int64"
      ]
     },
     "execution_count": 7,
     "metadata": {},
     "output_type": "execute_result"
    }
   ],
   "source": [
    "# Deal with the columns containing null values one by one. Start with 'funder'.\n",
    "\n",
    "df.funder.value_counts()"
   ]
  },
  {
   "cell_type": "code",
   "execution_count": 8,
   "metadata": {
    "collapsed": true
   },
   "outputs": [],
   "source": [
    "# Create a function to reduce the amount of dummy columns needed whilst maintaining the \n",
    "# information contained in the column.\n",
    "\n",
    "def funder_wrangler(row):  \n",
    "    '''Keep top 5 values and set the rest to 'other'''\n",
    "\n",
    "    if row['funder']=='Government Of Tanzania':\n",
    "        return 'gov'\n",
    "    elif row['funder']=='Danida':\n",
    "        return 'danida'\n",
    "    elif row['funder']=='Hesawa':\n",
    "        return 'hesawa'\n",
    "    elif row['funder']=='Rwssp':\n",
    "        return 'rwssp'\n",
    "    elif row['funder']=='World Bank':\n",
    "        return 'world_bank'    \n",
    "    else:\n",
    "        return 'other'\n",
    "    \n",
    "df['funder'] = df.apply(lambda row: funder_wrangler(row), axis=1)"
   ]
  },
  {
   "cell_type": "code",
   "execution_count": 9,
   "metadata": {
    "collapsed": true
   },
   "outputs": [],
   "source": [
    "# Add column named 'status_group_vals' to allow the use of a pivot table to check differences\n",
    "# between the different funders.\n",
    "\n",
    "vals_to_replace = {'functional':2, 'functional needs repair':1,\n",
    "                   'non functional':0}\n",
    "\n",
    "df['status_group_vals']  = df.status_group.replace(vals_to_replace)"
   ]
  },
  {
   "cell_type": "code",
   "execution_count": 10,
   "metadata": {
    "collapsed": false
   },
   "outputs": [
    {
     "data": {
      "text/plain": [
       "funder      status_group           \n",
       "danida      functional                  1713\n",
       "            functional needs repair      159\n",
       "            non functional              1242\n",
       "gov         functional                  3720\n",
       "            functional needs repair      701\n",
       "            non functional              4663\n",
       "hesawa      functional                   936\n",
       "            functional needs repair      232\n",
       "            non functional              1034\n",
       "other       functional                 24540\n",
       "            functional needs repair     3019\n",
       "            non functional             14718\n",
       "rwssp       functional                   805\n",
       "            functional needs repair      109\n",
       "            non functional               460\n",
       "world_bank  functional                   545\n",
       "            functional needs repair       97\n",
       "            non functional               707\n",
       "Name: status_group_vals, dtype: int64"
      ]
     },
     "execution_count": 10,
     "metadata": {},
     "output_type": "execute_result"
    }
   ],
   "source": [
    "piv_table = pd.pivot_table(df,index=['funder','status_group'],\n",
    "                           values='status_group_vals', aggfunc='count')\n",
    "piv_table"
   ]
  },
  {
   "cell_type": "code",
   "execution_count": 11,
   "metadata": {
    "collapsed": false
   },
   "outputs": [
    {
     "name": "stdout",
     "output_type": "stream",
     "text": [
      "Percent functional danida:  55.01\n",
      "Percent functional gov:  40.951\n",
      "Percent functional hesawa:  42.507\n",
      "Percent functional non gov:  58.046\n",
      "Percent functional rwssp:  58.588\n",
      "Percent functional world bank:  40.4\n"
     ]
    }
   ],
   "source": [
    "total_danida = piv_table[0] + piv_table[1] + piv_table[2]\n",
    "percent_functional_danida = (piv_table[0] / total_danida) * 100\n",
    "\n",
    "total_gov = piv_table[3] + piv_table[4] + piv_table[5]\n",
    "percent_functional_gov = (piv_table[3] / total_gov) * 100\n",
    "\n",
    "total_hesawa = piv_table[6] + piv_table[7] + piv_table[8]\n",
    "percent_functional_hesawa = (piv_table[6] / total_hesawa) * 100\n",
    "\n",
    "total_other = piv_table[9] + piv_table[10] + piv_table[11]\n",
    "percent_functional_non_gov = (piv_table[9] / total_other) * 100\n",
    "\n",
    "total_rwssp = piv_table[12] + piv_table[13] + piv_table[14]\n",
    "percent_functional_rwssp = (piv_table[12] / total_rwssp) * 100\n",
    "\n",
    "total_world_bank = piv_table[15] + piv_table[16] + piv_table[17]\n",
    "percent_functional_world_bank = (piv_table[15] / total_world_bank) * 100\n",
    "\n",
    "print('Percent functional danida: ', round(percent_functional_danida,3))\n",
    "print('Percent functional gov: ', round(percent_functional_gov,3))\n",
    "print('Percent functional hesawa: ', round(percent_functional_hesawa,3))\n",
    "print('Percent functional non gov: ', round(percent_functional_non_gov,3))\n",
    "print('Percent functional rwssp: ', round(percent_functional_rwssp,3))\n",
    "print('Percent functional world bank: ', round(percent_functional_world_bank,3))"
   ]
  },
  {
   "cell_type": "code",
   "execution_count": 12,
   "metadata": {
    "collapsed": false
   },
   "outputs": [
    {
     "data": {
      "text/plain": [
       "DWE                       17402\n",
       "Government                 1825\n",
       "RWE                        1206\n",
       "Commu                      1060\n",
       "DANIDA                     1050\n",
       "KKKT                        898\n",
       "Hesawa                      840\n",
       "0                           777\n",
       "TCRS                        707\n",
       "Central government          622\n",
       "CES                         610\n",
       "Community                   553\n",
       "DANID                       552\n",
       "District Council            551\n",
       "HESAWA                      539\n",
       "World vision                408\n",
       "LGA                         408\n",
       "WEDECO                      397\n",
       "TASAF                       396\n",
       "District council            392\n",
       "Gover                       383\n",
       "AMREF                       329\n",
       "TWESA                       316\n",
       "WU                          301\n",
       "Dmdd                        287\n",
       "ACRA                        278\n",
       "World Vision                270\n",
       "SEMA                        249\n",
       "DW                          246\n",
       "OXFAM                       234\n",
       "                          ...  \n",
       "Manyota primary School        1\n",
       "Camartec                      1\n",
       "Kapelo                        1\n",
       "BUMABU                        1\n",
       "Li                            1\n",
       "Kalugendo                     1\n",
       "ICAP                          1\n",
       "villager                      1\n",
       "Makoye                        1\n",
       "TSRC                          1\n",
       "lusajo                        1\n",
       "Zingibali Secondary           1\n",
       "RC CHURCH BROTHER             1\n",
       "Mzee Smith                    1\n",
       "QUIK                          1\n",
       "HAAM                          1\n",
       "Nyeisa                        1\n",
       "Anglica Church                1\n",
       "Kiwanda cha Ngozi             1\n",
       "Jumanne Siabo                 1\n",
       "anglican Uganda               1\n",
       "john skwese                   1\n",
       "FPCT Church                   1\n",
       "G.D&I.D                       1\n",
       "Morrovian                     1\n",
       "DANIDS                        1\n",
       "MTUI                          1\n",
       "The Co                        1\n",
       "Fin Water                     1\n",
       "WIZARA                        1\n",
       "Name: installer, dtype: int64"
      ]
     },
     "execution_count": 12,
     "metadata": {},
     "output_type": "execute_result"
    }
   ],
   "source": [
    "# There are some clear differences here that will hopefully improve the model. The next feature\n",
    "# to inspect is 'installer'.\n",
    "\n",
    "df.installer.value_counts()"
   ]
  },
  {
   "cell_type": "code",
   "execution_count": 13,
   "metadata": {
    "collapsed": false
   },
   "outputs": [],
   "source": [
    "# Create a function to reduce the amount of dummy columns needed whilst maintaining the \n",
    "# information contained in the column.\n",
    "\n",
    "def installer_wrangler(row):\n",
    "    '''Keep top 5 values and set the rest to 'other'''\n",
    "    if row['installer']=='DWE':\n",
    "        return 'dwe'\n",
    "    elif row['installer']=='Government':\n",
    "        return 'gov'\n",
    "    elif row['installer']=='RWE':\n",
    "        return 'rwe'\n",
    "    elif row['installer']=='Commu':\n",
    "        return 'commu'\n",
    "    elif row['installer']=='DANIDA':\n",
    "        return 'danida'\n",
    "    else:\n",
    "        return 'other'  \n",
    "\n",
    "df['installer'] = df.apply(lambda row: installer_wrangler(row), axis=1)"
   ]
  },
  {
   "cell_type": "code",
   "execution_count": 14,
   "metadata": {
    "collapsed": false
   },
   "outputs": [
    {
     "data": {
      "text/plain": [
       "funder      status_group           \n",
       "danida      functional                  1713\n",
       "            functional needs repair      159\n",
       "            non functional              1242\n",
       "gov         functional                  3720\n",
       "            functional needs repair      701\n",
       "            non functional              4663\n",
       "hesawa      functional                   936\n",
       "            functional needs repair      232\n",
       "            non functional              1034\n",
       "other       functional                 24540\n",
       "            functional needs repair     3019\n",
       "            non functional             14718\n",
       "rwssp       functional                   805\n",
       "            functional needs repair      109\n",
       "            non functional               460\n",
       "world_bank  functional                   545\n",
       "            functional needs repair       97\n",
       "            non functional               707\n",
       "Name: status_group_vals, dtype: int64"
      ]
     },
     "execution_count": 14,
     "metadata": {},
     "output_type": "execute_result"
    }
   ],
   "source": [
    "piv_table = pd.pivot_table(df,index=['funder','status_group'],\n",
    "                           values='status_group_vals', aggfunc='count')\n",
    "piv_table"
   ]
  },
  {
   "cell_type": "code",
   "execution_count": 15,
   "metadata": {
    "collapsed": false
   },
   "outputs": [
    {
     "name": "stdout",
     "output_type": "stream",
     "text": [
      "Percent functional dwe:  55.01\n",
      "Percent functional gov:  40.951\n",
      "Percent functional hesawa:  42.507\n",
      "Percent functional non gov:  58.046\n",
      "Percent functional rwssp:  58.588\n",
      "Percent functional world bank:  40.4\n"
     ]
    }
   ],
   "source": [
    "total_dwe = piv_table[0] + piv_table[1] + piv_table[2]\n",
    "percent_functional_dwe = (piv_table[0] / total_dwe) * 100\n",
    "\n",
    "total_gov = piv_table[3] + piv_table[4] + piv_table[5]\n",
    "percent_functional_gov = (piv_table[3] / total_gov) * 100\n",
    "\n",
    "total_hesawa = piv_table[6] + piv_table[7] + piv_table[8]\n",
    "percent_functional_hesawa = (piv_table[6] / total_hesawa) * 100\n",
    "\n",
    "total_other = piv_table[9] + piv_table[10] + piv_table[11]\n",
    "percent_functional_non_gov = (piv_table[9] / total_other) * 100\n",
    "\n",
    "total_rwssp = piv_table[12] + piv_table[13] + piv_table[14]\n",
    "percent_functional_rwssp = (piv_table[12] / total_rwssp) * 100\n",
    "\n",
    "total_world_bank = piv_table[15] + piv_table[16] + piv_table[17]\n",
    "percent_functional_world_bank = (piv_table[15] / total_world_bank) * 100\n",
    "\n",
    "print('Percent functional dwe: ', round(percent_functional_dwe,3))\n",
    "print('Percent functional gov: ', round(percent_functional_gov,3))\n",
    "print('Percent functional hesawa: ', round(percent_functional_hesawa,3))\n",
    "print('Percent functional non gov: ', round(percent_functional_non_gov,3))\n",
    "print('Percent functional rwssp: ', round(percent_functional_rwssp,3))\n",
    "print('Percent functional world bank: ', round(percent_functional_world_bank,3))"
   ]
  },
  {
   "cell_type": "code",
   "execution_count": 16,
   "metadata": {
    "collapsed": false
   },
   "outputs": [
    {
     "name": "stdout",
     "output_type": "stream",
     "text": [
      "Madukani                      508\n",
      "Shuleni                       506\n",
      "Majengo                       502\n",
      "Kati                          373\n",
      "Mtakuja                       262\n",
      "Sokoni                        232\n",
      "M                             187\n",
      "Muungano                      172\n",
      "Mbuyuni                       164\n",
      "Mlimani                       152\n",
      "Songambele                    147\n",
      "Miembeni                      134\n",
      "Msikitini                     134\n",
      "1                             132\n",
      "Kibaoni                       114\n",
      "Kanisani                      111\n",
      "Mapinduzi                     109\n",
      "I                             109\n",
      "Mjini                         108\n",
      "Mjimwema                      108\n",
      "Mkwajuni                      104\n",
      "Mwenge                        102\n",
      "Mabatini                       98\n",
      "Azimio                         98\n",
      "Mission                        95\n",
      "Mbugani                        95\n",
      "Bwawani                        91\n",
      "Bondeni                        90\n",
      "Chang'Ombe                     88\n",
      "Zahanati                       86\n",
      "                             ... \n",
      "Sero                            1\n",
      "Msoma                           1\n",
      "Migaera B                       1\n",
      "Lupiro                          1\n",
      "Wandry Fuka                     1\n",
      "Nyameni                         1\n",
      "Ngerura                         1\n",
      "Serikari Ya Mtaa Ya Zamani      1\n",
      "Mwalugunda                      1\n",
      "Mrocha                          1\n",
      "Jolijo                          1\n",
      "Igalukilo B                     1\n",
      "Shimamu                         1\n",
      "Kahalawe                        1\n",
      "Majembwa                        1\n",
      "Bwageselewa                     1\n",
      "Iyombo Kati                     1\n",
      "Ulowa No. 8                     1\n",
      "Soko Dogo                       1\n",
      "Ikengezi                        1\n",
      "Kwemkwazu                       1\n",
      "Tendawema                       1\n",
      "Mukafunzo                       1\n",
      "Midilika                        1\n",
      "Kagondo Kalugulu                1\n",
      "Kambarage A                     1\n",
      "Kindagili 2                     1\n",
      "Ipundula                        1\n",
      "Kagera Centre                   1\n",
      "Mwemage                         1\n",
      "Name: subvillage, dtype: int64\n"
     ]
    }
   ],
   "source": [
    "# As was the case with 'funder' there are some clear differences here that will hopefully\n",
    "# improve the model. The next feature to inspect is 'subvillage'.\n",
    "\n",
    "print(df.subvillage.value_counts())"
   ]
  },
  {
   "cell_type": "code",
   "execution_count": 17,
   "metadata": {
    "collapsed": false
   },
   "outputs": [
    {
     "name": "stdout",
     "output_type": "stream",
     "text": [
      "Number of villages:  19287\n"
     ]
    }
   ],
   "source": [
    "print('Number of villages: ', len(df.subvillage.value_counts()))"
   ]
  },
  {
   "cell_type": "code",
   "execution_count": 16,
   "metadata": {
    "collapsed": false
   },
   "outputs": [
    {
     "data": {
      "text/plain": [
       "True     51011\n",
       "False     5055\n",
       "Name: public_meeting, dtype: int64"
      ]
     },
     "execution_count": 16,
     "metadata": {},
     "output_type": "execute_result"
    }
   ],
   "source": [
    "# 19287 unique values! The largest values don't dominate as was the case with installer and\n",
    "# funder. It's probably not worth creating dummy variables for the top 5. I'll drop this one but\n",
    "# feel free to experiment here.\n",
    "\n",
    "df = df.drop('subvillage', axis=1)\n",
    "\n",
    "# Let's investigate the next column containg null data: 'public_meeting'.\n",
    "\n",
    "df.public_meeting.value_counts()"
   ]
  },
  {
   "cell_type": "code",
   "execution_count": 17,
   "metadata": {
    "collapsed": false
   },
   "outputs": [
    {
     "data": {
      "text/plain": [
       "VWC                 36793\n",
       "WUG                  5206\n",
       "Water authority      3153\n",
       "WUA                  2883\n",
       "Water Board          2748\n",
       "Parastatal           1680\n",
       "Private operator     1063\n",
       "Company              1061\n",
       "Other                 766\n",
       "SWC                    97\n",
       "Trust                  72\n",
       "None                    1\n",
       "Name: scheme_management, dtype: int64"
      ]
     },
     "execution_count": 17,
     "metadata": {},
     "output_type": "execute_result"
    }
   ],
   "source": [
    "# We only have two values here: true and false. This one can stay but we'll have to replace \n",
    "# the unknown data with a string value.\n",
    "\n",
    "df.public_meeting = df.public_meeting.fillna('Unknown')\n",
    "\n",
    "# 'scheme_management' is up next.\n",
    "\n",
    "df.scheme_management.value_counts()"
   ]
  },
  {
   "cell_type": "code",
   "execution_count": 18,
   "metadata": {
    "collapsed": true
   },
   "outputs": [],
   "source": [
    "# Create a function to reduce the amount of dummy columns needed whilst maintaining the \n",
    "# information contained in the column.\n",
    "\n",
    "def scheme_wrangler(row):\n",
    "    '''Keep top 5 values and set the rest to 'other'. '''\n",
    "    if row['scheme_management']=='VWC':\n",
    "        return 'vwc'\n",
    "    elif row['scheme_management']=='WUG':\n",
    "        return 'wug'\n",
    "    elif row['scheme_management']=='Water authority':\n",
    "        return 'wtr_auth'\n",
    "    elif row['scheme_management']=='WUA':\n",
    "        return 'wua'\n",
    "    elif row['scheme_management']=='Water Board':\n",
    "        return 'wtr_brd'\n",
    "    else:\n",
    "        return 'other'\n",
    "\n",
    "df['scheme_management'] = df.apply(lambda row: scheme_wrangler(row), axis=1)"
   ]
  },
  {
   "cell_type": "code",
   "execution_count": 19,
   "metadata": {
    "collapsed": false
   },
   "outputs": [
    {
     "data": {
      "text/plain": [
       "scheme_management  status_group           \n",
       "other              functional                  4627\n",
       "                   functional needs repair      513\n",
       "                   non functional              3477\n",
       "vwc                functional                 18960\n",
       "                   functional needs repair     2334\n",
       "                   non functional             15499\n",
       "wtr_auth           functional                  1618\n",
       "                   functional needs repair      448\n",
       "                   non functional              1087\n",
       "wtr_brd            functional                  2053\n",
       "                   functional needs repair      111\n",
       "                   non functional               584\n",
       "wua                functional                  1995\n",
       "                   functional needs repair      239\n",
       "                   non functional               649\n",
       "wug                functional                  3006\n",
       "                   functional needs repair      672\n",
       "                   non functional              1528\n",
       "Name: status_group_vals, dtype: int64"
      ]
     },
     "execution_count": 19,
     "metadata": {},
     "output_type": "execute_result"
    }
   ],
   "source": [
    "piv_table = pd.pivot_table(df, index=['scheme_management', 'status_group'],\n",
    "                           values='status_group_vals', aggfunc='count')\n",
    "piv_table"
   ]
  },
  {
   "cell_type": "code",
   "execution_count": 20,
   "metadata": {
    "collapsed": false
   },
   "outputs": [
    {
     "name": "stdout",
     "output_type": "stream",
     "text": [
      "Percent functional other:  53.696\n",
      "Percent functional vwc:  51.532\n",
      "Percent functional water authority:  51.316\n",
      "Percent functional water board:  74.709\n",
      "Percent functional wua:  69.199\n",
      "Percent functional wug:  57.741\n"
     ]
    }
   ],
   "source": [
    "total_other = piv_table[0] + piv_table[1] + piv_table[2]\n",
    "percent_functional_other = (piv_table[0] / total_other) * 100\n",
    "\n",
    "total_vwc = piv_table[3] + piv_table[4] + piv_table[5]\n",
    "percent_functional_vwc = (piv_table[3] / total_vwc) * 100\n",
    "\n",
    "total_wtr_auth = piv_table[6] + piv_table[7] + piv_table[8]\n",
    "percent_functional_wtr_auth = (piv_table[6] / total_wtr_auth) * 100\n",
    "\n",
    "total_wtr_brd = piv_table[9] + piv_table[10] + piv_table[11]\n",
    "percent_functional_wtr_brd = (piv_table[9] / total_wtr_brd) * 100\n",
    "\n",
    "total_wua = piv_table[12] + piv_table[13] + piv_table[14]\n",
    "percent_functional_wua = (piv_table[12] / total_wua) * 100\n",
    "\n",
    "total_wug = piv_table[15] + piv_table[16] + piv_table[17]\n",
    "percent_functional_wug = (piv_table[15] / total_wug) * 100\n",
    "\n",
    "print('Percent functional other: ', round(percent_functional_other,3))\n",
    "print('Percent functional vwc: ', round(percent_functional_vwc,3))\n",
    "print('Percent functional water authority: ', round(percent_functional_wtr_auth,3))\n",
    "print('Percent functional water board: ', round(percent_functional_wtr_brd,3))\n",
    "print('Percent functional wua: ', round(percent_functional_wua,3))\n",
    "print('Percent functional wug: ', round(percent_functional_wug,3))"
   ]
  },
  {
   "cell_type": "code",
   "execution_count": 21,
   "metadata": {
    "collapsed": false
   },
   "outputs": [
    {
     "data": {
      "text/plain": [
       "K                                        682\n",
       "None                                     644\n",
       "Borehole                                 546\n",
       "Chalinze wate                            405\n",
       "M                                        400\n",
       "DANIDA                                   379\n",
       "Government                               320\n",
       "Ngana water supplied scheme              270\n",
       "wanging'ombe water supply s              261\n",
       "wanging'ombe supply scheme               234\n",
       "I                                        229\n",
       "Bagamoyo wate                            229\n",
       "Uroki-Bomang'ombe water sup              209\n",
       "N                                        204\n",
       "Kirua kahe gravity water supply trust    193\n",
       "Machumba estate pipe line                185\n",
       "Makwale water supplied sche              166\n",
       "Kijiji                                   161\n",
       "S                                        154\n",
       "Losaa-Kia water supply                   152\n",
       "mtwango water supply scheme              152\n",
       "Handeni Trunk Main(H                     152\n",
       "Mkongoro Two                             147\n",
       "Roman                                    139\n",
       "Mkongoro One                             128\n",
       "Maambreni gravity water supply           125\n",
       "Lyamungo umbwe water supply              120\n",
       "Kirua kahe pumping water trust           113\n",
       "Nabaiye pipe line                        107\n",
       "Ki                                       107\n",
       "                                        ... \n",
       "Jumwia ya wa tumia maji Vumamti            1\n",
       "Sanga piped Scheme                         1\n",
       "Hawe                                       1\n",
       "Mang                                       1\n",
       "Wisi                                       1\n",
       "Njinjo water supply                        1\n",
       "BL Lamaungu                                1\n",
       "Misambo mlimani                            1\n",
       "TM part two                                1\n",
       "Sori                                       1\n",
       "Diocese of Geita                           1\n",
       "Nyamabali spring source                    1\n",
       "Mchangani                                  1\n",
       "Mamire water Supply                        1\n",
       "jongoj                                     1\n",
       "Kifumangao Water supply                    1\n",
       "Mwamapuli Irrigatio Scheme                 1\n",
       "REGWA Company of Egypt                     1\n",
       "BL mese Tank                               1\n",
       "Kibara foundation piped scheme             1\n",
       "Nkea                                       1\n",
       "Mugoma spring source                       1\n",
       "Losaa kia gravity water supply             1\n",
       "Upper RUVU                                 1\n",
       "Maambreni gravity water supply breni       1\n",
       "Mjimwema                                   1\n",
       "Darida                                     1\n",
       "Nabaiye pipe                               1\n",
       "BL Mahakamani                              1\n",
       "Kaseni water supply                        1\n",
       "Name: scheme_name, dtype: int64"
      ]
     },
     "execution_count": 21,
     "metadata": {},
     "output_type": "execute_result"
    }
   ],
   "source": [
    "df.scheme_name.value_counts()"
   ]
  },
  {
   "cell_type": "code",
   "execution_count": 22,
   "metadata": {
    "collapsed": false
   },
   "outputs": [],
   "source": [
    "len(df.scheme_name.unique())\n",
    "\n",
    "# Lots of factors and the top 5 or so only represent a fraction of the total values. Probably \n",
    "# safe to drop this column.\n",
    "\n",
    "df = df.drop('scheme_name', axis=1)"
   ]
  },
  {
   "cell_type": "code",
   "execution_count": 23,
   "metadata": {
    "collapsed": false
   },
   "outputs": [
    {
     "data": {
      "text/plain": [
       "True     38852\n",
       "False    17492\n",
       "Name: permit, dtype: int64"
      ]
     },
     "execution_count": 23,
     "metadata": {},
     "output_type": "execute_result"
    }
   ],
   "source": [
    "# The final column containing nulls is 'permit'.\n",
    "\n",
    "df.permit.value_counts()"
   ]
  },
  {
   "cell_type": "code",
   "execution_count": 24,
   "metadata": {
    "collapsed": true
   },
   "outputs": [],
   "source": [
    "# We only have two values here: true and false. This one can stay but we'll have to replace \n",
    "# the unknown data with a string value.\n",
    "\n",
    "df.permit = df.permit.fillna('Unknown')"
   ]
  },
  {
   "cell_type": "code",
   "execution_count": 25,
   "metadata": {
    "collapsed": false
   },
   "outputs": [
    {
     "data": {
      "text/plain": [
       "id                       0\n",
       "amount_tsh               0\n",
       "date_recorded            0\n",
       "funder                   0\n",
       "gps_height               0\n",
       "installer                0\n",
       "longitude                0\n",
       "latitude                 0\n",
       "wpt_name                 0\n",
       "num_private              0\n",
       "basin                    0\n",
       "region                   0\n",
       "region_code              0\n",
       "district_code            0\n",
       "lga                      0\n",
       "ward                     0\n",
       "population               0\n",
       "public_meeting           0\n",
       "recorded_by              0\n",
       "scheme_management        0\n",
       "permit                   0\n",
       "construction_year        0\n",
       "extraction_type          0\n",
       "extraction_type_group    0\n",
       "extraction_type_class    0\n",
       "management               0\n",
       "management_group         0\n",
       "payment                  0\n",
       "payment_type             0\n",
       "water_quality            0\n",
       "quality_group            0\n",
       "quantity                 0\n",
       "quantity_group           0\n",
       "source                   0\n",
       "source_type              0\n",
       "source_class             0\n",
       "waterpoint_type          0\n",
       "waterpoint_type_group    0\n",
       "status_group             0\n",
       "status_group_vals        0\n",
       "dtype: int64"
      ]
     },
     "execution_count": 25,
     "metadata": {},
     "output_type": "execute_result"
    }
   ],
   "source": [
    "df.apply(lambda x: sum(x.isnull()))"
   ]
  },
  {
   "cell_type": "code",
   "execution_count": 26,
   "metadata": {
    "collapsed": false
   },
   "outputs": [
    {
     "data": {
      "text/plain": [
       "date_recorded              356\n",
       "funder                       6\n",
       "installer                    6\n",
       "wpt_name                 37400\n",
       "basin                        9\n",
       "region                      21\n",
       "lga                        125\n",
       "ward                      2092\n",
       "public_meeting               3\n",
       "recorded_by                  1\n",
       "scheme_management            6\n",
       "permit                       3\n",
       "extraction_type             18\n",
       "extraction_type_group       13\n",
       "extraction_type_class        7\n",
       "management                  12\n",
       "management_group             5\n",
       "payment                      7\n",
       "payment_type                 7\n",
       "water_quality                8\n",
       "quality_group                6\n",
       "quantity                     5\n",
       "quantity_group               5\n",
       "source                      10\n",
       "source_type                  7\n",
       "source_class                 3\n",
       "waterpoint_type              7\n",
       "waterpoint_type_group        6\n",
       "status_group                 3\n",
       "dtype: int64"
      ]
     },
     "execution_count": 26,
     "metadata": {},
     "output_type": "execute_result"
    }
   ],
   "source": [
    "# Excellent! Now there are no nulls in the data set. We can move on to look at columns with \n",
    "# string values and modify or remove them as we see fit.\n",
    "\n",
    "str_cols = df.select_dtypes(include = ['object'])\n",
    "str_cols.apply(lambda x: len(x.unique()))"
   ]
  },
  {
   "cell_type": "code",
   "execution_count": 27,
   "metadata": {
    "collapsed": false
   },
   "outputs": [
    {
     "data": {
      "text/plain": [
       "count          59400\n",
       "unique           356\n",
       "top       2011-03-15\n",
       "freq             572\n",
       "Name: date_recorded, dtype: object"
      ]
     },
     "execution_count": 27,
     "metadata": {},
     "output_type": "execute_result"
    }
   ],
   "source": [
    "# 'Date recorded'\n",
    "\n",
    "df.date_recorded.describe()"
   ]
  },
  {
   "cell_type": "code",
   "execution_count": 28,
   "metadata": {
    "collapsed": false
   },
   "outputs": [
    {
     "data": {
      "text/plain": [
       "count                   59400\n",
       "unique                    356\n",
       "top       2011-03-15 00:00:00\n",
       "freq                      572\n",
       "first     2002-10-14 00:00:00\n",
       "last      2013-12-03 00:00:00\n",
       "Name: date_recorded, dtype: object"
      ]
     },
     "execution_count": 28,
     "metadata": {},
     "output_type": "execute_result"
    }
   ],
   "source": [
    "# Let's first convert the column to type datetime. Then change the column to represent the \n",
    "# number of days since the most recently recorded datum we have. The idea being that more \n",
    "# recently recorded pumps might be more likely to be functional than non-functional. \n",
    "\n",
    "df.date_recorded = pd.to_datetime(df.date_recorded)\n",
    "df.date_recorded.describe()"
   ]
  },
  {
   "cell_type": "code",
   "execution_count": 29,
   "metadata": {
    "collapsed": false
   },
   "outputs": [
    {
     "data": {
      "text/plain": [
       "count    59400.000000\n",
       "mean       613.616970\n",
       "std        334.211823\n",
       "min          0.000000\n",
       "25%        297.000000\n",
       "50%        419.000000\n",
       "75%        977.000000\n",
       "max       4068.000000\n",
       "Name: days_since_recorded, dtype: float64"
      ]
     },
     "execution_count": 29,
     "metadata": {},
     "output_type": "execute_result"
    }
   ],
   "source": [
    "# The most recent data is 2013-12-03. Subtract each date from this point to obtain a \n",
    "# 'days_since_recorded' column.\n",
    "\n",
    "df.date_recorded = pd.datetime(2013, 12, 3) - pd.to_datetime(df.date_recorded)\n",
    "df.columns = ['days_since_recorded' if x=='date_recorded' else x for x in df.columns]\n",
    "df.days_since_recorded = df.days_since_recorded.astype('timedelta64[D]').astype(int)\n",
    "df.days_since_recorded.describe()"
   ]
  },
  {
   "cell_type": "code",
   "execution_count": 30,
   "metadata": {
    "collapsed": false,
    "scrolled": true
   },
   "outputs": [
    {
     "data": {
      "text/plain": [
       "none                     3563\n",
       "Shuleni                  1748\n",
       "Zahanati                  830\n",
       "Msikitini                 535\n",
       "Kanisani                  323\n",
       "Bombani                   271\n",
       "Sokoni                    260\n",
       "Ofisini                   254\n",
       "School                    208\n",
       "Shule Ya Msingi           199\n",
       "Shule                     152\n",
       "Sekondari                 146\n",
       "Muungano                  133\n",
       "Mkombozi                  111\n",
       "Madukani                  104\n",
       "Hospital                   94\n",
       "Mbugani                    94\n",
       "Upendo                     93\n",
       "Kituo Cha Afya             90\n",
       "Mkuyuni                    88\n",
       "Umoja                      84\n",
       "Center                     83\n",
       "Ccm                        81\n",
       "Kisimani                   78\n",
       "Mtakuja                    76\n",
       "Ofisi Ya Kijiji            76\n",
       "Tankini                    73\n",
       "Songambele                 66\n",
       "Bwawani                    66\n",
       "Maendeleo                  64\n",
       "                         ... \n",
       "Ringi Ya Njano              1\n",
       "Kwa Mliasi                  1\n",
       "Kwa Mmasa                   1\n",
       "Kwa Duqwan                  1\n",
       "Kwa Omary Mlenge            1\n",
       "Shirikani                   1\n",
       "Kikatiti Sokoni             1\n",
       "Codek                       1\n",
       "Makenza                     1\n",
       "Kwa Mzee Zuberisarehe       1\n",
       "Petro Shaban                1\n",
       "Kwa Busalama                1\n",
       "Kwa Sita Kipimo             1\n",
       "Kwa Olabulu                 1\n",
       "Ntungulu                    1\n",
       "Kwakaburu                   1\n",
       "Kwa Soda                    1\n",
       "Kwa Jacobo                  1\n",
       "Gati No 13                  1\n",
       "Kumzenga                    1\n",
       "Kaimba                      1\n",
       "Kwa Tang'Una                1\n",
       "Kwa Migamba                 1\n",
       "Kwa Mzee Vaita              1\n",
       "Kwa Onesmo Kinage           1\n",
       "Kililiga A                  1\n",
       "Kwa Joyce Ngongomi          1\n",
       "Kwa Wilson Moshi            1\n",
       "Kwa Nyalali                 1\n",
       "Wilfred                     1\n",
       "Name: wpt_name, dtype: int64"
      ]
     },
     "execution_count": 30,
     "metadata": {},
     "output_type": "execute_result"
    }
   ],
   "source": [
    "# There's a wide range of data here hopefully it will help improve the predictive power of our\n",
    "# models. Next up for inspection is 'wpt_name' (Name of the waterpoint if there is one).\n",
    "\n",
    "df.wpt_name.value_counts()"
   ]
  },
  {
   "cell_type": "code",
   "execution_count": 31,
   "metadata": {
    "collapsed": true
   },
   "outputs": [],
   "source": [
    "# Due to the huge number of factors and the lack of a clear dominating value I'll drop this.\n",
    "# I may come back and include the top 5 later. Next up is 'basin'.\n",
    "\n",
    "df = df.drop('wpt_name', axis=1)"
   ]
  },
  {
   "cell_type": "code",
   "execution_count": 32,
   "metadata": {
    "collapsed": false
   },
   "outputs": [
    {
     "data": {
      "text/plain": [
       "Lake Victoria              10248\n",
       "Pangani                     8940\n",
       "Rufiji                      7976\n",
       "Internal                    7785\n",
       "Lake Tanganyika             6432\n",
       "Wami / Ruvu                 5987\n",
       "Lake Nyasa                  5085\n",
       "Ruvuma / Southern Coast     4493\n",
       "Lake Rukwa                  2454\n",
       "Name: basin, dtype: int64"
      ]
     },
     "execution_count": 32,
     "metadata": {},
     "output_type": "execute_result"
    }
   ],
   "source": [
    "df.basin.value_counts()"
   ]
  },
  {
   "cell_type": "code",
   "execution_count": 33,
   "metadata": {
    "collapsed": false
   },
   "outputs": [
    {
     "data": {
      "text/html": [
       "<div>\n",
       "<table border=\"1\" class=\"dataframe\">\n",
       "  <thead>\n",
       "    <tr style=\"text-align: right;\">\n",
       "      <th></th>\n",
       "      <th></th>\n",
       "      <th>status_group_vals</th>\n",
       "    </tr>\n",
       "    <tr>\n",
       "      <th>basin</th>\n",
       "      <th>status_group</th>\n",
       "      <th></th>\n",
       "    </tr>\n",
       "  </thead>\n",
       "  <tbody>\n",
       "    <tr>\n",
       "      <th rowspan=\"3\" valign=\"top\">Internal</th>\n",
       "      <th>functional</th>\n",
       "      <td>4482</td>\n",
       "    </tr>\n",
       "    <tr>\n",
       "      <th>functional needs repair</th>\n",
       "      <td>557</td>\n",
       "    </tr>\n",
       "    <tr>\n",
       "      <th>non functional</th>\n",
       "      <td>2746</td>\n",
       "    </tr>\n",
       "    <tr>\n",
       "      <th rowspan=\"3\" valign=\"top\">Lake Nyasa</th>\n",
       "      <th>functional</th>\n",
       "      <td>3324</td>\n",
       "    </tr>\n",
       "    <tr>\n",
       "      <th>functional needs repair</th>\n",
       "      <td>250</td>\n",
       "    </tr>\n",
       "    <tr>\n",
       "      <th>non functional</th>\n",
       "      <td>1511</td>\n",
       "    </tr>\n",
       "    <tr>\n",
       "      <th rowspan=\"3\" valign=\"top\">Lake Rukwa</th>\n",
       "      <th>functional</th>\n",
       "      <td>1000</td>\n",
       "    </tr>\n",
       "    <tr>\n",
       "      <th>functional needs repair</th>\n",
       "      <td>270</td>\n",
       "    </tr>\n",
       "    <tr>\n",
       "      <th>non functional</th>\n",
       "      <td>1184</td>\n",
       "    </tr>\n",
       "    <tr>\n",
       "      <th rowspan=\"3\" valign=\"top\">Lake Tanganyika</th>\n",
       "      <th>functional</th>\n",
       "      <td>3107</td>\n",
       "    </tr>\n",
       "    <tr>\n",
       "      <th>functional needs repair</th>\n",
       "      <td>742</td>\n",
       "    </tr>\n",
       "    <tr>\n",
       "      <th>non functional</th>\n",
       "      <td>2583</td>\n",
       "    </tr>\n",
       "    <tr>\n",
       "      <th rowspan=\"3\" valign=\"top\">Lake Victoria</th>\n",
       "      <th>functional</th>\n",
       "      <td>5100</td>\n",
       "    </tr>\n",
       "    <tr>\n",
       "      <th>functional needs repair</th>\n",
       "      <td>989</td>\n",
       "    </tr>\n",
       "    <tr>\n",
       "      <th>non functional</th>\n",
       "      <td>4159</td>\n",
       "    </tr>\n",
       "    <tr>\n",
       "      <th rowspan=\"3\" valign=\"top\">Pangani</th>\n",
       "      <th>functional</th>\n",
       "      <td>5372</td>\n",
       "    </tr>\n",
       "    <tr>\n",
       "      <th>functional needs repair</th>\n",
       "      <td>477</td>\n",
       "    </tr>\n",
       "    <tr>\n",
       "      <th>non functional</th>\n",
       "      <td>3091</td>\n",
       "    </tr>\n",
       "    <tr>\n",
       "      <th rowspan=\"3\" valign=\"top\">Rufiji</th>\n",
       "      <th>functional</th>\n",
       "      <td>5068</td>\n",
       "    </tr>\n",
       "    <tr>\n",
       "      <th>functional needs repair</th>\n",
       "      <td>437</td>\n",
       "    </tr>\n",
       "    <tr>\n",
       "      <th>non functional</th>\n",
       "      <td>2471</td>\n",
       "    </tr>\n",
       "    <tr>\n",
       "      <th rowspan=\"3\" valign=\"top\">Ruvuma / Southern Coast</th>\n",
       "      <th>functional</th>\n",
       "      <td>1670</td>\n",
       "    </tr>\n",
       "    <tr>\n",
       "      <th>functional needs repair</th>\n",
       "      <td>326</td>\n",
       "    </tr>\n",
       "    <tr>\n",
       "      <th>non functional</th>\n",
       "      <td>2497</td>\n",
       "    </tr>\n",
       "    <tr>\n",
       "      <th rowspan=\"3\" valign=\"top\">Wami / Ruvu</th>\n",
       "      <th>functional</th>\n",
       "      <td>3136</td>\n",
       "    </tr>\n",
       "    <tr>\n",
       "      <th>functional needs repair</th>\n",
       "      <td>269</td>\n",
       "    </tr>\n",
       "    <tr>\n",
       "      <th>non functional</th>\n",
       "      <td>2582</td>\n",
       "    </tr>\n",
       "  </tbody>\n",
       "</table>\n",
       "</div>"
      ],
      "text/plain": [
       "                                                 status_group_vals\n",
       "basin                   status_group                              \n",
       "Internal                functional                            4482\n",
       "                        functional needs repair                557\n",
       "                        non functional                        2746\n",
       "Lake Nyasa              functional                            3324\n",
       "                        functional needs repair                250\n",
       "                        non functional                        1511\n",
       "Lake Rukwa              functional                            1000\n",
       "                        functional needs repair                270\n",
       "                        non functional                        1184\n",
       "Lake Tanganyika         functional                            3107\n",
       "                        functional needs repair                742\n",
       "                        non functional                        2583\n",
       "Lake Victoria           functional                            5100\n",
       "                        functional needs repair                989\n",
       "                        non functional                        4159\n",
       "Pangani                 functional                            5372\n",
       "                        functional needs repair                477\n",
       "                        non functional                        3091\n",
       "Rufiji                  functional                            5068\n",
       "                        functional needs repair                437\n",
       "                        non functional                        2471\n",
       "Ruvuma / Southern Coast functional                            1670\n",
       "                        functional needs repair                326\n",
       "                        non functional                        2497\n",
       "Wami / Ruvu             functional                            3136\n",
       "                        functional needs repair                269\n",
       "                        non functional                        2582"
      ]
     },
     "execution_count": 33,
     "metadata": {},
     "output_type": "execute_result"
    }
   ],
   "source": [
    "piv_table = pd.pivot_table(df, index=['basin', 'status_group'],\n",
    "                           values=['status_group_vals'], aggfunc='count')\n",
    "piv_table"
   ]
  },
  {
   "cell_type": "code",
   "execution_count": 34,
   "metadata": {
    "collapsed": false
   },
   "outputs": [],
   "source": [
    "# Most basins have have more functional than non-functional pumps. Lake Rukwa\n",
    "# and Ruvuma don't. All the values are over 2000 so this looks like a good feature to keep.\n",
    "# Region will be considered next."
   ]
  },
  {
   "cell_type": "code",
   "execution_count": 35,
   "metadata": {
    "collapsed": false
   },
   "outputs": [
    {
     "data": {
      "text/plain": [
       "Iringa           5294\n",
       "Shinyanga        4982\n",
       "Mbeya            4639\n",
       "Kilimanjaro      4379\n",
       "Morogoro         4006\n",
       "Arusha           3350\n",
       "Kagera           3316\n",
       "Mwanza           3102\n",
       "Kigoma           2816\n",
       "Ruvuma           2640\n",
       "Pwani            2635\n",
       "Tanga            2547\n",
       "Dodoma           2201\n",
       "Singida          2093\n",
       "Mara             1969\n",
       "Tabora           1959\n",
       "Rukwa            1808\n",
       "Mtwara           1730\n",
       "Manyara          1583\n",
       "Lindi            1546\n",
       "Dar es Salaam     805\n",
       "Name: region, dtype: int64"
      ]
     },
     "execution_count": 35,
     "metadata": {},
     "output_type": "execute_result"
    }
   ],
   "source": [
    "df.region.value_counts()"
   ]
  },
  {
   "cell_type": "code",
   "execution_count": 36,
   "metadata": {
    "collapsed": true
   },
   "outputs": [],
   "source": [
    "# Both basin, lga, ward and region contain geographical information so there is a risk of them being\n",
    "# highly correlated with each other. I'll drop then for now.\n",
    "# They could be be worth including though, so I may come back to them.\n",
    "df = df.drop(['region', 'lga', 'ward'], axis=1)\n"
   ]
  },
  {
   "cell_type": "code",
   "execution_count": 37,
   "metadata": {
    "collapsed": false
   },
   "outputs": [
    {
     "data": {
      "text/plain": [
       "GeoData Consultants Ltd    59400\n",
       "Name: recorded_by, dtype: int64"
      ]
     },
     "execution_count": 37,
     "metadata": {},
     "output_type": "execute_result"
    }
   ],
   "source": [
    "df.recorded_by.value_counts()"
   ]
  },
  {
   "cell_type": "code",
   "execution_count": 38,
   "metadata": {
    "collapsed": true
   },
   "outputs": [],
   "source": [
    "# All data points have the same value so this offers no information that would help build our\n",
    "# model.\n",
    "df = df.drop('recorded_by', axis=1)"
   ]
  },
  {
   "cell_type": "code",
   "execution_count": 39,
   "metadata": {
    "collapsed": false
   },
   "outputs": [],
   "source": [
    "# extraction_type, extraction_type_group and extraction_type_class appear to contain very similar\n",
    "# data. I'll drop the first two and keep the last one.\n",
    "\n",
    "df = df.drop(['extraction_type', 'extraction_type_group'], axis=1)"
   ]
  },
  {
   "cell_type": "code",
   "execution_count": 40,
   "metadata": {
    "collapsed": false
   },
   "outputs": [
    {
     "data": {
      "text/plain": [
       "vwc                 40507\n",
       "wug                  6515\n",
       "water board          2933\n",
       "wua                  2535\n",
       "private operator     1971\n",
       "parastatal           1768\n",
       "water authority       904\n",
       "other                 844\n",
       "company               685\n",
       "unknown               561\n",
       "other - school         99\n",
       "trust                  78\n",
       "Name: management, dtype: int64"
      ]
     },
     "execution_count": 40,
     "metadata": {},
     "output_type": "execute_result"
    }
   ],
   "source": [
    "df.management.value_counts()"
   ]
  },
  {
   "cell_type": "code",
   "execution_count": 41,
   "metadata": {
    "collapsed": false
   },
   "outputs": [],
   "source": [
    "# This appears to be almost identical to 'scheme_management'. I'll drop it.\n",
    "\n",
    "df = df.drop('management', axis=1)"
   ]
  },
  {
   "cell_type": "code",
   "execution_count": 42,
   "metadata": {
    "collapsed": false
   },
   "outputs": [
    {
     "data": {
      "text/plain": [
       "user-group    52490\n",
       "commercial     3638\n",
       "parastatal     1768\n",
       "other           943\n",
       "unknown         561\n",
       "Name: management_group, dtype: int64"
      ]
     },
     "execution_count": 42,
     "metadata": {},
     "output_type": "execute_result"
    }
   ],
   "source": [
    "df.management_group.value_counts()"
   ]
  },
  {
   "cell_type": "code",
   "execution_count": 43,
   "metadata": {
    "collapsed": true
   },
   "outputs": [],
   "source": [
    "# Appears to offer no new info and is likely to overlap with 'scheme_management'.\n",
    "\n",
    "df = df.drop('management_group', axis=1)"
   ]
  },
  {
   "cell_type": "code",
   "execution_count": 44,
   "metadata": {
    "collapsed": false
   },
   "outputs": [
    {
     "data": {
      "text/plain": [
       "never pay                25348\n",
       "pay per bucket            8985\n",
       "pay monthly               8300\n",
       "unknown                   8157\n",
       "pay when scheme fails     3914\n",
       "pay annually              3642\n",
       "other                     1054\n",
       "Name: payment, dtype: int64"
      ]
     },
     "execution_count": 44,
     "metadata": {},
     "output_type": "execute_result"
    }
   ],
   "source": [
    "df.payment.value_counts()"
   ]
  },
  {
   "cell_type": "code",
   "execution_count": 45,
   "metadata": {
    "collapsed": false
   },
   "outputs": [
    {
     "data": {
      "text/plain": [
       "never pay     25348\n",
       "per bucket     8985\n",
       "monthly        8300\n",
       "unknown        8157\n",
       "on failure     3914\n",
       "annually       3642\n",
       "other          1054\n",
       "Name: payment_type, dtype: int64"
      ]
     },
     "execution_count": 45,
     "metadata": {},
     "output_type": "execute_result"
    }
   ],
   "source": [
    "df.payment_type.value_counts()"
   ]
  },
  {
   "cell_type": "code",
   "execution_count": 46,
   "metadata": {
    "collapsed": true
   },
   "outputs": [],
   "source": [
    "# Payment and payment_type contain identical data. Remove one and keep the other.\n",
    "\n",
    "df = df.drop('payment', 1)"
   ]
  },
  {
   "cell_type": "code",
   "execution_count": 47,
   "metadata": {
    "collapsed": false
   },
   "outputs": [
    {
     "data": {
      "text/plain": [
       "soft                  50818\n",
       "salty                  4856\n",
       "unknown                1876\n",
       "milky                   804\n",
       "coloured                490\n",
       "salty abandoned         339\n",
       "fluoride                200\n",
       "fluoride abandoned       17\n",
       "Name: water_quality, dtype: int64"
      ]
     },
     "execution_count": 47,
     "metadata": {},
     "output_type": "execute_result"
    }
   ],
   "source": [
    "df.water_quality.value_counts()"
   ]
  },
  {
   "cell_type": "code",
   "execution_count": 48,
   "metadata": {
    "collapsed": false
   },
   "outputs": [
    {
     "data": {
      "text/plain": [
       "good        50818\n",
       "salty        5195\n",
       "unknown      1876\n",
       "milky         804\n",
       "colored       490\n",
       "fluoride      217\n",
       "Name: quality_group, dtype: int64"
      ]
     },
     "execution_count": 48,
     "metadata": {},
     "output_type": "execute_result"
    }
   ],
   "source": [
    "df.quality_group.value_counts()"
   ]
  },
  {
   "cell_type": "code",
   "execution_count": 49,
   "metadata": {
    "collapsed": true
   },
   "outputs": [],
   "source": [
    "# Water_quality and quality_group contain identical data. Remove one and keep the other.\n",
    "\n",
    "df = df.drop('quality_group', 1)"
   ]
  },
  {
   "cell_type": "code",
   "execution_count": 50,
   "metadata": {
    "collapsed": false
   },
   "outputs": [
    {
     "data": {
      "text/plain": [
       "enough          33186\n",
       "insufficient    15129\n",
       "dry              6246\n",
       "seasonal         4050\n",
       "unknown           789\n",
       "Name: quantity, dtype: int64"
      ]
     },
     "execution_count": 50,
     "metadata": {},
     "output_type": "execute_result"
    }
   ],
   "source": [
    "df.quantity.value_counts()"
   ]
  },
  {
   "cell_type": "code",
   "execution_count": 51,
   "metadata": {
    "collapsed": false
   },
   "outputs": [
    {
     "data": {
      "text/plain": [
       "enough          33186\n",
       "insufficient    15129\n",
       "dry              6246\n",
       "seasonal         4050\n",
       "unknown           789\n",
       "Name: quantity_group, dtype: int64"
      ]
     },
     "execution_count": 51,
     "metadata": {},
     "output_type": "execute_result"
    }
   ],
   "source": [
    "df.quantity_group.value_counts()"
   ]
  },
  {
   "cell_type": "code",
   "execution_count": 52,
   "metadata": {
    "collapsed": true
   },
   "outputs": [],
   "source": [
    "# Quantity and quantity_group contain identical data. Remove one and keep the other.\n",
    "\n",
    "df = df.drop('quantity_group', 1)"
   ]
  },
  {
   "cell_type": "code",
   "execution_count": 53,
   "metadata": {
    "collapsed": false
   },
   "outputs": [
    {
     "data": {
      "text/plain": [
       "spring                  17021\n",
       "shallow well            16824\n",
       "machine dbh             11075\n",
       "river                    9612\n",
       "rainwater harvesting     2295\n",
       "hand dtw                  874\n",
       "lake                      765\n",
       "dam                       656\n",
       "other                     212\n",
       "unknown                    66\n",
       "Name: source, dtype: int64"
      ]
     },
     "execution_count": 53,
     "metadata": {},
     "output_type": "execute_result"
    }
   ],
   "source": [
    "df.source.value_counts()"
   ]
  },
  {
   "cell_type": "code",
   "execution_count": 54,
   "metadata": {
    "collapsed": false
   },
   "outputs": [
    {
     "data": {
      "text/plain": [
       "groundwater    45794\n",
       "surface        13328\n",
       "unknown          278\n",
       "Name: source_class, dtype: int64"
      ]
     },
     "execution_count": 54,
     "metadata": {},
     "output_type": "execute_result"
    }
   ],
   "source": [
    "df.source_class.value_counts()"
   ]
  },
  {
   "cell_type": "code",
   "execution_count": 55,
   "metadata": {
    "collapsed": false
   },
   "outputs": [
    {
     "data": {
      "text/plain": [
       "spring                  17021\n",
       "shallow well            16824\n",
       "borehole                11949\n",
       "river/lake              10377\n",
       "rainwater harvesting     2295\n",
       "dam                       656\n",
       "other                     278\n",
       "Name: source_type, dtype: int64"
      ]
     },
     "execution_count": 55,
     "metadata": {},
     "output_type": "execute_result"
    }
   ],
   "source": [
    "df.source_type.value_counts()"
   ]
  },
  {
   "cell_type": "code",
   "execution_count": 56,
   "metadata": {
    "collapsed": true
   },
   "outputs": [],
   "source": [
    "# Source and source_type contain very similar information. Remove one and keep the other.\n",
    "\n",
    "df = df.drop('source', 1)"
   ]
  },
  {
   "cell_type": "code",
   "execution_count": 57,
   "metadata": {
    "collapsed": false
   },
   "outputs": [],
   "source": [
    "# gps_height, longitude, latitude, region_code and district_code are all geographic info which\n",
    "# is unlikely to add any predictive power to the model given that there are other variables\n",
    "# containing geographic data. 'num_private' hasn't been given a discription on Driven Data,\n",
    "# it appears to be superflous. We expect id to not contain any useful information so that gets\n",
    "# dropped too.\n",
    "\n",
    "df = df.drop(['gps_height', 'longitude', 'latitude', 'region_code', 'district_code',\n",
    "             'num_private', 'id'], axis=1)"
   ]
  },
  {
   "cell_type": "code",
   "execution_count": 58,
   "metadata": {
    "collapsed": false
   },
   "outputs": [
    {
     "data": {
      "text/plain": [
       "date_recorded              356\n",
       "funder                       6\n",
       "installer                    6\n",
       "wpt_name                 37400\n",
       "basin                        9\n",
       "region                      21\n",
       "lga                        125\n",
       "ward                      2092\n",
       "public_meeting               3\n",
       "recorded_by                  1\n",
       "scheme_management            6\n",
       "permit                       3\n",
       "extraction_type             18\n",
       "extraction_type_group       13\n",
       "extraction_type_class        7\n",
       "management                  12\n",
       "management_group             5\n",
       "payment                      7\n",
       "payment_type                 7\n",
       "water_quality                8\n",
       "quality_group                6\n",
       "quantity                     5\n",
       "quantity_group               5\n",
       "source                      10\n",
       "source_type                  7\n",
       "source_class                 3\n",
       "waterpoint_type              7\n",
       "waterpoint_type_group        6\n",
       "status_group                 3\n",
       "dtype: int64"
      ]
     },
     "execution_count": 58,
     "metadata": {},
     "output_type": "execute_result"
    }
   ],
   "source": [
    "str_cols.apply(lambda x: len(x.unique()))\n"
   ]
  },
  {
   "cell_type": "code",
   "execution_count": 59,
   "metadata": {
    "collapsed": false
   },
   "outputs": [
    {
     "data": {
      "text/plain": [
       "0       20709\n",
       "2010     2645\n",
       "2008     2613\n",
       "2009     2533\n",
       "2000     2091\n",
       "2007     1587\n",
       "2006     1471\n",
       "2003     1286\n",
       "2011     1256\n",
       "2004     1123\n",
       "2012     1084\n",
       "2002     1075\n",
       "1978     1037\n",
       "1995     1014\n",
       "2005     1011\n",
       "1999      979\n",
       "1998      966\n",
       "1990      954\n",
       "1985      945\n",
       "1980      811\n",
       "1996      811\n",
       "1984      779\n",
       "1982      744\n",
       "1994      738\n",
       "1972      708\n",
       "1974      676\n",
       "1997      644\n",
       "1992      640\n",
       "1993      608\n",
       "2001      540\n",
       "1988      521\n",
       "1983      488\n",
       "1975      437\n",
       "1986      434\n",
       "1976      414\n",
       "1970      411\n",
       "1991      324\n",
       "1989      316\n",
       "1987      302\n",
       "1981      238\n",
       "1977      202\n",
       "1979      192\n",
       "1973      184\n",
       "2013      176\n",
       "1971      145\n",
       "1960      102\n",
       "1967       88\n",
       "1963       85\n",
       "1968       77\n",
       "1969       59\n",
       "1964       40\n",
       "1962       30\n",
       "1961       21\n",
       "1965       19\n",
       "1966       17\n",
       "Name: construction_year, dtype: int64"
      ]
     },
     "execution_count": 59,
     "metadata": {},
     "output_type": "execute_result"
    }
   ],
   "source": [
    "df.construction_year.value_counts()"
   ]
  },
  {
   "cell_type": "code",
   "execution_count": 60,
   "metadata": {
    "collapsed": false
   },
   "outputs": [],
   "source": [
    "# Turn construction_year into a categorical column containing the following values: '60s', '70s',\n",
    "# '80s', '90s, '00s', '10s', 'unknown'.\n",
    "\n",
    "def construction_wrangler(row):\n",
    "    if row['construction_year'] >= 1960 and row['construction_year'] < 1970:\n",
    "        return '60s'\n",
    "    elif row['construction_year'] >= 1970 and row['construction_year'] < 1980:\n",
    "        return '70s'\n",
    "    elif row['construction_year'] >= 1980 and row['construction_year'] < 1990:\n",
    "        return '80s'\n",
    "    elif row['construction_year'] >= 1990 and row['construction_year'] < 2000:\n",
    "        return '90s'\n",
    "    elif row['construction_year'] >= 2000 and row['construction_year'] < 2010:\n",
    "        return '00s'\n",
    "    elif row['construction_year'] >= 2010:\n",
    "        return '10s'\n",
    "    else:\n",
    "        return 'unknown'\n",
    "    \n",
    "df['construction_year'] = df.apply(lambda row: construction_wrangler(row), axis=1)\n"
   ]
  },
  {
   "cell_type": "code",
   "execution_count": 61,
   "metadata": {
    "collapsed": false
   },
   "outputs": [
    {
     "name": "stderr",
     "output_type": "stream",
     "text": [
      "C:\\Anaconda3\\lib\\site-packages\\statsmodels\\nonparametric\\kdetools.py:20: VisibleDeprecationWarning: using a non-integer number instead of an integer will result in an error in the future\n",
      "  y = X[:m/2+1] + np.r_[0,X[m/2+1:],0]*1j\n"
     ]
    },
    {
     "data": {
      "image/png": "[encoded data removed]",
      "text/plain": [
       "<matplotlib.figure.Figure at 0x220a378ef60>"
      ]
     },
     "metadata": {},
     "output_type": "display_data"
    }
   ],
   "source": [
    "sns.distplot(df.population, bins = 40)\n",
    "plt.show()"
   ]
  },
  {
   "cell_type": "code",
   "execution_count": 63,
   "metadata": {
    "collapsed": false
   },
   "outputs": [
    {
     "name": "stdout",
     "output_type": "stream",
     "text": [
      "<class 'pandas.core.frame.DataFrame'>\n",
      "Int64Index: 59400 entries, 0 to 59399\n",
      "Data columns (total 20 columns):\n",
      "amount_tsh               59400 non-null float64\n",
      "days_since_recorded      59400 non-null int32\n",
      "funder                   59400 non-null object\n",
      "installer                59400 non-null object\n",
      "basin                    59400 non-null object\n",
      "population               59400 non-null int64\n",
      "public_meeting           59400 non-null object\n",
      "scheme_management        59400 non-null object\n",
      "permit                   59400 non-null object\n",
      "construction_year        59400 non-null object\n",
      "extraction_type_class    59400 non-null object\n",
      "payment_type             59400 non-null object\n",
      "water_quality            59400 non-null object\n",
      "quantity                 59400 non-null object\n",
      "source_type              59400 non-null object\n",
      "source_class             59400 non-null object\n",
      "waterpoint_type          59400 non-null object\n",
      "waterpoint_type_group    59400 non-null object\n",
      "status_group             59400 non-null object\n",
      "status_group_vals        59400 non-null int64\n",
      "dtypes: float64(1), int32(1), int64(2), object(16)\n",
      "memory usage: 9.3+ MB\n"
     ]
    }
   ],
   "source": [
    "df.info()"
   ]
  },
  {
   "cell_type": "code",
   "execution_count": 64,
   "metadata": {
    "collapsed": false
   },
   "outputs": [
    {
     "name": "stderr",
     "output_type": "stream",
     "text": [
      "C:\\Anaconda3\\lib\\site-packages\\statsmodels\\nonparametric\\kdetools.py:20: VisibleDeprecationWarning: using a non-integer number instead of an integer will result in an error in the future\n",
      "  y = X[:m/2+1] + np.r_[0,X[m/2+1:],0]*1j\n"
     ]
    },
    {
     "data": {
      "image/png": "[encoded data removed]",
      "text/plain": [
       "<matplotlib.figure.Figure at 0x220a399d748>"
      ]
     },
     "metadata": {},
     "output_type": "display_data"
    }
   ],
   "source": [
    "# Most wells have a few hundred people living around them. There are some wells\n",
    "# serving huge populations. This may skew the data.\n",
    "sns.distplot(df.amount_tsh, bins = 40)\n",
    "plt.show()"
   ]
  },
  {
   "cell_type": "code",
   "execution_count": 65,
   "metadata": {
    "collapsed": false
   },
   "outputs": [
    {
     "data": {
      "text/plain": [
       "count    59400.000000\n",
       "mean       179.909983\n",
       "std        471.482176\n",
       "min          0.000000\n",
       "25%          0.000000\n",
       "50%         25.000000\n",
       "75%        215.000000\n",
       "max      30500.000000\n",
       "Name: population, dtype: float64"
      ]
     },
     "execution_count": 65,
     "metadata": {},
     "output_type": "execute_result"
    }
   ],
   "source": [
    "# This plot measures the amount of water available at the pump. It looks a lot like the \n",
    "# population graph which makes sense. \n",
    "\n",
    "df.population.describe()"
   ]
  },
  {
   "cell_type": "code",
   "execution_count": 66,
   "metadata": {
    "collapsed": false
   },
   "outputs": [
    {
     "data": {
      "text/plain": [
       "count     59400.000000\n",
       "mean        317.650385\n",
       "std        2997.574558\n",
       "min           0.000000\n",
       "25%           0.000000\n",
       "50%           0.000000\n",
       "75%          20.000000\n",
       "max      350000.000000\n",
       "Name: amount_tsh, dtype: float64"
      ]
     },
     "execution_count": 66,
     "metadata": {},
     "output_type": "execute_result"
    }
   ],
   "source": [
    "df.amount_tsh.describe()"
   ]
  },
  {
   "cell_type": "code",
   "execution_count": 78,
   "metadata": {
    "collapsed": false
   },
   "outputs": [],
   "source": [
    "# There appears to be enough variation between the two to warrant keeping them in the model.\n",
    "# Let's save the dataframe to a new csv file. We'll start creating models in the next notebooks.\n",
    "df = df.drop('status_group_vals', 1)\n",
    "df.to_csv('pump_train_for_models.csv', index=False)"
   ]
  },
  {
   "cell_type": "code",
   "execution_count": 72,
   "metadata": {
    "collapsed": true
   },
   "outputs": [],
   "source": [
    "# We'll also need to perform the same modifications to the test set.\n",
    "\n",
    "test = pd.read_csv(r\"C:\\Users\\me\\Documents\\datasets\\pump_test.csv\")\n",
    "\n",
    "test = test.drop(['gps_height', 'longitude', 'latitude', 'region_code', 'district_code',\n",
    "                  'num_private', 'id', 'payment', 'management_group', 'management', \n",
    "                  'extraction_type', 'extraction_type_group', 'recorded_by','region', 'lga',\n",
    "                  'ward', 'wpt_name', 'scheme_name', 'subvillage', 'quantity_group',\n",
    "                 'quality_group', 'source'], axis=1)\n",
    "\n",
    "test.date_recorded = pd.datetime(2013, 12, 3) - pd.to_datetime(test.date_recorded)\n",
    "test.columns = ['days_since_recorded' if x=='date_recorded' else x for x in test.columns]\n",
    "test.days_since_recorded = test.days_since_recorded.astype('timedelta64[D]').astype(int)\n",
    "\n",
    "test.permit = test.permit.fillna('Unknown')\n",
    "test.public_meeting = test.public_meeting.fillna('Unknown')\n",
    "\n",
    "test['scheme_management'] = test.apply(lambda row: scheme_wrangler(row), axis=1)\n",
    "test['construction_year'] = test.apply(lambda row: construction_wrangler(row), axis=1)\n",
    "test['installer'] = test.apply(lambda row: installer_wrangler(row), axis=1)\n",
    "test['funder'] = test.apply(lambda row: funder_wrangler(row), axis=1)"
   ]
  },
  {
   "cell_type": "code",
   "execution_count": 79,
   "metadata": {
    "collapsed": false
   },
   "outputs": [
    {
     "data": {
      "text/plain": [
       "(59400, 19)"
      ]
     },
     "execution_count": 79,
     "metadata": {},
     "output_type": "execute_result"
    }
   ],
   "source": [
    "df.shape"
   ]
  },
  {
   "cell_type": "code",
   "execution_count": 80,
   "metadata": {
    "collapsed": false
   },
   "outputs": [
    {
     "data": {
      "text/plain": [
       "(14850, 18)"
      ]
     },
     "execution_count": 80,
     "metadata": {},
     "output_type": "execute_result"
    }
   ],
   "source": [
    "test.shape"
   ]
  },
  {
   "cell_type": "code",
   "execution_count": 81,
   "metadata": {
    "collapsed": true
   },
   "outputs": [],
   "source": [
    "# The train and test sets match up. We can save the test set now.\n",
    "\n",
    "test.to_csv('pump_test_for_models.csv', index=False)"
   ]
  }
 ],
 "metadata": {
  "anaconda-cloud": {},
  "kernelspec": {
   "display_name": "Python [Root]",
   "language": "python",
   "name": "Python [Root]"
  },
  "language_info": {
   "codemirror_mode": {
    "name": "ipython",
    "version": 3
   },
   "file_extension": ".py",
   "mimetype": "text/x-python",
   "name": "python",
   "nbconvert_exporter": "python",
   "pygments_lexer": "ipython3",
   "version": "3.5.2"
  }
 },
 "nbformat": 4,
 "nbformat_minor": 0
}
